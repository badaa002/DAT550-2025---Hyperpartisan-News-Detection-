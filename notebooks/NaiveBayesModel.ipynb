{
  "nbformat": 4,
  "nbformat_minor": 0,
  "metadata": {
    "colab": {
      "provenance": []
    },
    "kernelspec": {
      "name": "python3",
      "display_name": "Python 3"
    },
    "language_info": {
      "name": "python"
    }
  },
  "cells": [
    {
      "cell_type": "code",
      "execution_count": null,
      "metadata": {
        "id": "GmqekPQtm8p9"
      },
      "outputs": [],
      "source": [
        "from sklearn.naive_bayes import MultinomialNB\n",
        "from sklearn.model_selection import train_test_split\n",
        "from sklearn.metrics import accuracy_score, precision_score, recall_score, f1_score, roc_curve, auc\n",
        "import matplotlib.pyplot as plt\n",
        "import pandas as pd"
      ]
    },
    {
      "cell_type": "code",
      "source": [
        "# Load the preprocessed data\n",
        "def load_cleaned_data(file_to_load):\n",
        "    return pd.read_csv(file_to_load, sep='\\t')"
      ],
      "metadata": {
        "id": "fjayrMi4q_xw"
      },
      "execution_count": null,
      "outputs": []
    },
    {
      "cell_type": "code",
      "source": [
        "# Split the data into train and test portions\n",
        "def split(X, y):\n",
        "  # 80% train and 20% test\n",
        "    X_train, X_test, y_train, y_test = train_test_split(X, y, test_size=0.2, random_state=0)\n",
        "    return X_train, X_test, y_train, y_test"
      ],
      "metadata": {
        "id": "STL10P_r9BAf"
      },
      "execution_count": null,
      "outputs": []
    },
    {
      "cell_type": "code",
      "source": [
        "def tfidf(X_train, X_test):\n",
        "  pass"
      ],
      "metadata": {
        "id": "BunF1wRkj90X"
      },
      "execution_count": null,
      "outputs": []
    },
    {
      "cell_type": "code",
      "source": [
        "# Uses MultinomialNB for the baseline model\n",
        "def naive_bayes(X_train_tfidf, X_test_tfidf, y_train):\n",
        "  model = MultinomialNB()\n",
        "  model.fit(X_train_tfidf, y_train)\n",
        "  y_pred = model.predict(X_test_tfidf)\n",
        "  return model, y_pred"
      ],
      "metadata": {
        "id": "_TtX8m4npXPk"
      },
      "execution_count": null,
      "outputs": []
    },
    {
      "cell_type": "code",
      "source": [
        "# get the metrics for accuracy, precision, recall, f1 and roc curve\n",
        "def metrics(model, X_test, y_test, y_pred):\n",
        "    accuracy = accuracy_score(y_test, y_pred)\n",
        "    print(f\"Accuracy: {accuracy:.2f}\")\n",
        "\n",
        "    precision = precision_score(y_test, y_pred, average='binary')\n",
        "    print(f\"Precision: {precision:.2f}\")\n",
        "\n",
        "    recall = recall_score(y_test, y_pred, average='binary')\n",
        "    print(f\"Recall: {recall:.2f}\")\n",
        "\n",
        "    f1 = f1_score(y_test, y_pred)\n",
        "    print(f\"F1: {f1:.2f}\")\n",
        "\n",
        "    y_pred_proba = model.predict_proba(X_test)[:, 1]\n",
        "    fpr, tpr = roc_curve(y_test, y_pred_proba)\n",
        "    roc_auc = auc(fpr, tpr)\n",
        "\n",
        "    plt.figure()\n",
        "    plt.plot(fpr, tpr, label=f'ROC curve (AUC = {roc_auc:.2f})')\n",
        "    plt.plot([0, 1], [0, 1], color='black', linestyle='--', linewidth=2, label='Random Chance')\n",
        "    plt.xlim([0.0, 1.0])\n",
        "    plt.ylim([0.0, 1.0])\n",
        "    plt.xlabel('False Positive Rate')\n",
        "    plt.ylabel('True Positive Rate')\n",
        "    plt.title('ROC Curve for Hyperpartisan Classification')\n",
        "    plt.legend()\n",
        "    plt.show()\n"
      ],
      "metadata": {
        "id": "ho9_Yw2ctfVF"
      },
      "execution_count": null,
      "outputs": []
    },
    {
      "cell_type": "code",
      "source": [
        "# Load the data\n",
        "data = load_cleaned_data(\"../data/byarticle_clean.tsv\")\n",
        "X = data['full_text']\n",
        "y = data['label']\n",
        "\n",
        "# split data into train and test parts\n",
        "X_train, X_test, y_train, y_test = split(X, y)\n",
        "\n",
        "# vectorize with tfidf\n",
        "X_train_tfidf, X_test_tfidf = tfidf(X_train, X_test)\n",
        "\n",
        "# run the model\n",
        "model_tfidf, y_pred_tfidf = naive_bayes(X_train_tfidf, X_test_tfidf, y_train)\n",
        "\n",
        "# print the metrics for the model\n",
        "print(\"\\nMetrics for Naive Bayes model:\")\n",
        "metrics(model_tfidf, X_test_tfidf, y_test, y_pred_tfidf)"
      ],
      "metadata": {
        "id": "u8oX49eHklOA"
      },
      "execution_count": null,
      "outputs": []
    }
  ]
}