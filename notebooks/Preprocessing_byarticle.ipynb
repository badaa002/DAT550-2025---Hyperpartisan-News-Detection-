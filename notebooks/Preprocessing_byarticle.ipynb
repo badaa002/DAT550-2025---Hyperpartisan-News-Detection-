{
  "nbformat": 4,
  "nbformat_minor": 0,
  "metadata": {
    "colab": {
      "provenance": []
    },
    "kernelspec": {
      "name": "python3",
      "display_name": "Python 3"
    },
    "language_info": {
      "name": "python"
    }
  },
  "cells": [
    {
      "cell_type": "markdown",
      "source": [
        "[Updated 4/11/2025] Change to more more adjustible function. Added preprocessing for bypublisher.\n",
        "\n",
        "[Updated 4/7/2025]\n",
        "Added preprocessing for test dataset. Train dataset remains the same."
      ],
      "metadata": {
        "id": "Ta8dCxGy7YT4"
      }
    },
    {
      "cell_type": "markdown",
      "source": [
        "Implemented:\n",
        "* Text cleaning\t✅\tfull_text appears clean and consistent\n",
        "* Combining title + body\t✅\tusing full_text\n",
        "* Feature extraction\t✅\tIncludes stylistic features (uppercase ratio, exclamations, sentence length)\n",
        "* Label extraction\t✅\tLabels are correctly matched and no missing values\n",
        "* Domain filtering\t✅\tdomain column is preserved (useful for group-based splits in part 2 of the project)\n",
        "* TF-IDF preparation (applies in the model part)\n",
        "* XML parsing\t✅\textraction from PAN XML format\n",
        "\n",
        "\n",
        "\n",
        "-> Stopwords will be applied directly in TF-IDF. Lemmetization too."
      ],
      "metadata": {
        "id": "C7fBKpScCYmF"
      }
    },
    {
      "cell_type": "markdown",
      "source": [
        "#Parse and Merge XML files by id\n",
        "\n",
        "Data:\n",
        "\n",
        "* articles-training-byarticle-20181122.xml → contains the article content\n",
        "* ground-truth-training-byarticle-20181122.xml → contains the labels\n",
        "* articles-test-byarticle-20181207.xml → Test article texts\n",
        "* ground-truth-test-byarticle-20181207.xml → Balanced test labels for testing/evaluation\n",
        "\n",
        "* articles-test-bypublisher-20181212 → Init noisy articels\n",
        "* ground-truth-test-bypublisher-20181212 → by publisher weak labels for the bypublisher\n",
        "\n",
        "Add derived features (Core+Stylometry+Metadata):\n",
        "\n",
        "    full_text = title + \" \" + body\n",
        "\n",
        "    domain = extract_domain(url)\n",
        "\n",
        "    uppercase_ratio, exclamation_count, avg_sentence_length\n",
        "\n",
        "Save to .tsv file.\n",
        "\n",
        " *XML Docs* (to learn how XML trees are structured and parsed in Python):\n",
        " https://docs.python.org/3/library/xml.etree.elementtree.html\n",
        "\n",
        "\n",
        "*BeautifulSoup Docs* (for removing HTML tags and cleaning up article content):\n",
        " https://www.crummy.com/software/BeautifulSoup/bs4/doc/\n"
      ],
      "metadata": {
        "id": "SOdwBklZX2Mx"
      }
    },
    {
      "cell_type": "code",
      "source": [
        "import xml.etree.ElementTree as ET\n",
        "import pandas as pd\n",
        "from urllib.parse import urlparse\n",
        "import re\n",
        "from bs4 import BeautifulSoup"
      ],
      "metadata": {
        "id": "q07j3sjhw5Pz"
      },
      "execution_count": 3,
      "outputs": []
    },
    {
      "cell_type": "markdown",
      "source": [
        "Init data:"
      ],
      "metadata": {
        "id": "1NDZ2G39yn_V"
      }
    },
    {
      "cell_type": "code",
      "execution_count": 4,
      "metadata": {
        "id": "NAuewAUQiemm"
      },
      "outputs": [],
      "source": [
        "articles_path = \"articles-training-byarticle-20181122.xml\"\n",
        "ground_truth_path = \"ground-truth-training-byarticle-20181122.xml\"\n",
        "\n",
        "articles_path_test = \"articles-test-byarticle-20181207.xml\"\n",
        "ground_truth_path_test = \"ground-truth-test-byarticle-20181207.xml\"\n",
        "\n",
        "articles_path_bypublisher = \"articles-test-bypublisher-20181212.xml\"\n",
        "ground_truth_path_bypublisher = \"ground-truth-test-bypublisher-20181212.xml\"\n",
        "\n",
        "output_path = \"byarticle_clean.tsv\"\n",
        "output_path_test = \"byarticle_clean_test.tsv\"\n",
        "output_path_bypublisher = \"bypublisher_clean.tsv\"\n"
      ]
    },
    {
      "cell_type": "markdown",
      "source": [
        "# Helper functions\n",
        "*   extract_domain(url) → gets domain like google.com\n",
        "\n",
        "*   uppercase_ratio(text) → % of letters that are UPPERCASE | uses only alphabetic characters | Useful to detect shouting, emphasis, or strong emotional tone.\n",
        "\n",
        "*   exclamation_count(text) → how many ! characters | Hyperpartisan texts often use many exclamation marks to express outrage or strong opinion.\n",
        "\n",
        "*   avg_sentence_length(text) → average number of words per sentence | Hyperpartisan content may favor short, punchy sentences vs longer factual prose.\n",
        "\n",
        "\n",
        "\n",
        "\n",
        "\n",
        "\n"
      ],
      "metadata": {
        "id": "Et5F50RqyK2p"
      }
    },
    {
      "cell_type": "code",
      "source": [
        "def extract_domain(url):\n",
        "    try:\n",
        "        return urlparse(url).netloc\n",
        "    except (ValueError, TypeError):\n",
        "        return \"\"\n",
        "\n",
        "def uppercase_ratio(text):\n",
        "    letters = [c for c in text if c.isalpha()]\n",
        "    if not letters:\n",
        "        return 0.0\n",
        "    upper = sum(1 for c in letters if c.isupper())\n",
        "    return upper / len(letters)\n",
        "\n",
        "def exclamation_count(text):\n",
        "    return text.count(\"!\")\n",
        "\n",
        "def avg_sentence_length(text):\n",
        "    sentences = re.split(r'[.!?]', text)\n",
        "    sentences = [s.strip() for s in sentences if s.strip()]\n",
        "    if not sentences:\n",
        "        return 0.0\n",
        "    total_words = sum(len(s.split()) for s in sentences)\n",
        "    return total_words / len(sentences)\n"
      ],
      "metadata": {
        "id": "tqXpI01CyIeL"
      },
      "execution_count": 5,
      "outputs": []
    },
    {
      "cell_type": "code",
      "source": [
        "\"\"\"\n",
        "preprocessing_utils.py\n",
        "\n",
        "Reusable functions for preprocessing PAN-style XML datasets (e.g., by-article) into structured TSV format.\n",
        "\n",
        "Main Function:\n",
        "---------------\n",
        "preprocess_byarticle_xml(\n",
        "    articles_path: str,\n",
        "    ground_truth_path: str,\n",
        "    output_path: str,\n",
        "    include_style_features: bool = True,\n",
        "    print_data_info: bool = True\n",
        ")\n",
        "\n",
        "This function:\n",
        "- Merges article content and ground-truth label XML files\n",
        "- Cleans HTML and combines title + body into a full_text field\n",
        "- Optionally extracts stylistic features (uppercase ratio, exclamation count, avg. sentence length)\n",
        "- Saves the result as a .tsv file for use in modeling\n",
        "- Optionally prints summary statistics\n",
        "\n",
        "Useful for: preprocessing the PAN 2019 by-article dataset for baseline or deep model experiments.\n",
        "\n",
        "Example:\n",
        "--------\n",
        "preprocess_byarticle_xml(\n",
        "    articles_path=\"articles-training-byarticle.xml\",\n",
        "    ground_truth_path=\"ground-truth-training-byarticle.xml\",\n",
        "    output_path=\"data/train.tsv\"\n",
        ")\n",
        "\"\"\"\n"
      ],
      "metadata": {
        "colab": {
          "base_uri": "https://localhost:8080/",
          "height": 177
        },
        "id": "8rB3lXwKW4vI",
        "outputId": "28eff32c-b136-418b-b186-eeb88902d39d"
      },
      "execution_count": 6,
      "outputs": [
        {
          "output_type": "execute_result",
          "data": {
            "text/plain": [
              "'\\npreprocessing_utils.py\\n\\nReusable functions for preprocessing PAN-style XML datasets (e.g., by-article) into structured TSV format.\\n\\nMain Function:\\n---------------\\npreprocess_byarticle_xml(\\n    articles_path: str,\\n    ground_truth_path: str,\\n    output_path: str,\\n    include_style_features: bool = True,\\n    print_data_info: bool = True\\n)\\n\\nThis function:\\n- Merges article content and ground-truth label XML files\\n- Cleans HTML and combines title + body into a full_text field\\n- Optionally extracts stylistic features (uppercase ratio, exclamation count, avg. sentence length)\\n- Saves the result as a .tsv file for use in modeling\\n- Optionally prints summary statistics\\n\\nUseful for: preprocessing the PAN 2019 by-article dataset for baseline or deep model experiments.\\n\\nExample:\\n--------\\ndf = preprocess_byarticle_xml(\\n    articles_path=\"articles-training-byarticle.xml\",\\n    ground_truth_path=\"ground-truth-training-byarticle.xml\",\\n    output_path=\"data/train.tsv\"\\n)\\n'"
            ],
            "application/vnd.google.colaboratory.intrinsic+json": {
              "type": "string"
            }
          },
          "metadata": {},
          "execution_count": 6
        }
      ]
    },
    {
      "cell_type": "code",
      "source": [
        "def preprocess_byarticle_xml(\n",
        "    articles_path, ground_truth_path, output_path, drop_raw_text=False,\n",
        "    include_style_features=True, print_data_info=True\n",
        "):\n",
        "    tree = ET.parse(articles_path)\n",
        "    root = tree.getroot()\n",
        "\n",
        "    gt_tree = ET.parse(ground_truth_path)\n",
        "    gt_root = gt_tree.getroot()\n",
        "\n",
        "    # Parse labels\n",
        "    labels = {}\n",
        "    for article in gt_root.findall(\"article\"):\n",
        "        article_id = article.get(\"id\")\n",
        "        label = 1 if article.get(\"hyperpartisan\") == \"true\" else 0\n",
        "        url = article.get(\"url\")\n",
        "        labels[article_id] = {\"label\": label, \"url\": url}\n",
        "\n",
        "    data = []\n",
        "    for article in root.findall(\"article\"):\n",
        "        article_id = article.get(\"id\")\n",
        "        title = article.get(\"title\", \"\")\n",
        "        raw_html = \"\".join(ET.tostring(elem, encoding=\"unicode\") for elem in article)\n",
        "        body = BeautifulSoup(raw_html, \"html.parser\").get_text(separator=\" \", strip=True)\n",
        "\n",
        "        full_text = f\"{title.strip()}{'' if title.strip().endswith(('.', '!', '?')) else '.'} {body.strip()}\"\n",
        "\n",
        "        if article_id in labels:\n",
        "            label = labels[article_id][\"label\"]\n",
        "            url = labels[article_id][\"url\"]\n",
        "            domain = extract_domain(url)\n",
        "            row = {\n",
        "                \"id\": article_id,\n",
        "                \"title\": title,\n",
        "                \"body\": body,\n",
        "                \"full_text\": full_text,\n",
        "                \"label\": label,\n",
        "                \"domain\": domain,\n",
        "            }\n",
        "            if include_style_features:\n",
        "                row.update({\n",
        "                    \"uppercase_ratio\": uppercase_ratio(full_text),\n",
        "                    \"exclamation_count\": exclamation_count(full_text),\n",
        "                    \"avg_sentence_length\": avg_sentence_length(full_text),\n",
        "                })\n",
        "            data.append(row)\n",
        "\n",
        "    df = pd.DataFrame(data)\n",
        "    df.to_csv(output_path, sep=\"\\t\", index=False)\n",
        "\n",
        "    if print_data_info:\n",
        "        print(f\"==== {output_path} ====\")\n",
        "        print(\"Shape:\", df.shape)\n",
        "        print(\"Label distribution:\\n\", df['label'].value_counts())\n",
        "        print(\"Missing values:\\n\", df.isnull().sum())\n",
        "        print(\"Sample rows:\\n\", df.sample(3))\n",
        "        if include_style_features:\n",
        "            print(\"Feature stats:\\n\", df[['uppercase_ratio', 'exclamation_count', 'avg_sentence_length']].describe())\n",
        "        print(f\"Saved to {output_path}\")\n",
        ""
      ],
      "metadata": {
        "id": "Uhu3TwhRWjmK"
      },
      "execution_count": 10,
      "outputs": []
    },
    {
      "cell_type": "code",
      "source": [
        "#preprocess_byarticle_xml(articles_path, ground_truth_path, output_path)\n",
        "#preprocess_byarticle_xml(articles_path_test, ground_truth_path_test, output_path_test)\n",
        "preprocess_byarticle_xml(articles_path_bypublisher, ground_truth_path_bypublisher, output_path_bypublisher, False, True)"
      ],
      "metadata": {
        "colab": {
          "base_uri": "https://localhost:8080/",
          "height": 1000
        },
        "id": "94g85PXMXmgk",
        "outputId": "aa8075d2-420f-4568-b34a-623fefae186e"
      },
      "execution_count": 13,
      "outputs": [
        {
          "output_type": "stream",
          "name": "stdout",
          "text": [
            "==== bypublisher_clean.tsv ====\n",
            "Shape: (4000, 6)\n",
            "Label distribution:\n",
            " label\n",
            "0    2000\n",
            "1    2000\n",
            "Name: count, dtype: int64\n",
            "Missing values:\n",
            " id           0\n",
            "title        0\n",
            "body         0\n",
            "full_text    0\n",
            "label        0\n",
            "domain       0\n",
            "dtype: int64\n",
            "Sample rows:\n",
            "            id                                              title  \\\n",
            "3028  1171826  NBC “Investigates” Gas Can Explosions … Becaus...   \n",
            "642   0257837  Fmr. FBI Counterterrorism Agent: ‘Vast Majorit...   \n",
            "3228  1240839  General Electric, California Teachers Associat...   \n",
            "\n",
            "                                                   body  \\\n",
            "3028  Warning: Life is dangerous. NBC News – with th...   \n",
            "642   BigGovernment – On Friday’s Breitbart News Dai...   \n",
            "3228  The California Teachers Association, the main ...   \n",
            "\n",
            "                                              full_text  label          domain  \n",
            "3028  NBC “Investigates” Gas Can Explosions … Becaus...      1   downtrend.com  \n",
            "642   Fmr. FBI Counterterrorism Agent: ‘Vast Majorit...      1  iotwreport.com  \n",
            "3228  General Electric, California Teachers Associat...      0    maplight.org  \n",
            "Saved to bypublisher_clean.tsv\n"
          ]
        },
        {
          "output_type": "execute_result",
          "data": {
            "text/plain": [
              "           id                                              title  \\\n",
              "0     0000036        The Postal Service Needs Congressional Help   \n",
              "1     0000110  Oscar-Nominated Palestinian Filmmaker: Freedom...   \n",
              "2     0000256  Which Law Schools Should Have Closed Their Doors?   \n",
              "3     0000335  US Badly Needs Russia’s Technology to Keep Its...   \n",
              "4     0001058  The Three Democrats Breaking Ranks on H.R. 2 V...   \n",
              "...       ...                                                ...   \n",
              "3995  1491832  That Time Neil DeGrasse Tyson Schooled Bob Lut...   \n",
              "3996  1493320  Geologists Not Sure What's Causing Earthquake ...   \n",
              "3997  1493954  White House Budget Director: Trump is Done Neg...   \n",
              "3998  1494502                       It’s Nice to Have the Option   \n",
              "3999  1494683  Mourning Iraqi Wives, Children on Valentine's Day   \n",
              "\n",
              "                                                   body  \\\n",
              "0     The US Postal Service is facing “the most seri...   \n",
              "1     On Valentine's Day I was part of a panel discu...   \n",
              "2     Ever since the beginning of the law school cri...   \n",
              "3     ( SCF ) – Russian Energomash Corporation has f...   \n",
              "4     Jan. 19, 2011 -- The House of Representatives ...   \n",
              "...                                                 ...   \n",
              "3995  Conservatives like to use the excuse of&#160;“...   \n",
              "3996  By Piper McGowin We are seeing a lot of geolog...   \n",
              "3997  White House Budget Director Mick Mulvaney told...   \n",
              "3998  Alex Knapp · Friday, May 16, 2008 · 10 comment...   \n",
              "3999  The men had left the shelter the evening befor...   \n",
              "\n",
              "                                              full_text  label  \\\n",
              "0     The Postal Service Needs Congressional Help. T...      0   \n",
              "1     Oscar-Nominated Palestinian Filmmaker: Freedom...      1   \n",
              "2     Which Law Schools Should Have Closed Their Doo...      0   \n",
              "3     US Badly Needs Russia’s Technology to Keep Its...      0   \n",
              "4     The Three Democrats Breaking Ranks on H.R. 2 V...      0   \n",
              "...                                                 ...    ...   \n",
              "3995  That Time Neil DeGrasse Tyson Schooled Bob Lut...      1   \n",
              "3996  Geologists Not Sure What's Causing Earthquake ...      1   \n",
              "3997  White House Budget Director: Trump is Done Neg...      1   \n",
              "3998  It’s Nice to Have the Option. Alex Knapp · Fri...      0   \n",
              "3999  Mourning Iraqi Wives, Children on Valentine's ...      1   \n",
              "\n",
              "                          domain  \n",
              "0              leftjustified.com  \n",
              "1                progressive.org  \n",
              "2                abovethelaw.com  \n",
              "3           geopoliticsalert.com  \n",
              "4                   maplight.org  \n",
              "...                          ...  \n",
              "3995  youngprogressivevoices.com  \n",
              "3996            activistpost.com  \n",
              "3997          freedomoutpost.com  \n",
              "3998       outsidethebeltway.com  \n",
              "3999                opednews.com  \n",
              "\n",
              "[4000 rows x 6 columns]"
            ],
            "text/html": [
              "\n",
              "  <div id=\"df-b5e63533-3684-4c56-a67a-786681b29f24\" class=\"colab-df-container\">\n",
              "    <div>\n",
              "<style scoped>\n",
              "    .dataframe tbody tr th:only-of-type {\n",
              "        vertical-align: middle;\n",
              "    }\n",
              "\n",
              "    .dataframe tbody tr th {\n",
              "        vertical-align: top;\n",
              "    }\n",
              "\n",
              "    .dataframe thead th {\n",
              "        text-align: right;\n",
              "    }\n",
              "</style>\n",
              "<table border=\"1\" class=\"dataframe\">\n",
              "  <thead>\n",
              "    <tr style=\"text-align: right;\">\n",
              "      <th></th>\n",
              "      <th>id</th>\n",
              "      <th>title</th>\n",
              "      <th>body</th>\n",
              "      <th>full_text</th>\n",
              "      <th>label</th>\n",
              "      <th>domain</th>\n",
              "    </tr>\n",
              "  </thead>\n",
              "  <tbody>\n",
              "    <tr>\n",
              "      <th>0</th>\n",
              "      <td>0000036</td>\n",
              "      <td>The Postal Service Needs Congressional Help</td>\n",
              "      <td>The US Postal Service is facing “the most seri...</td>\n",
              "      <td>The Postal Service Needs Congressional Help. T...</td>\n",
              "      <td>0</td>\n",
              "      <td>leftjustified.com</td>\n",
              "    </tr>\n",
              "    <tr>\n",
              "      <th>1</th>\n",
              "      <td>0000110</td>\n",
              "      <td>Oscar-Nominated Palestinian Filmmaker: Freedom...</td>\n",
              "      <td>On Valentine's Day I was part of a panel discu...</td>\n",
              "      <td>Oscar-Nominated Palestinian Filmmaker: Freedom...</td>\n",
              "      <td>1</td>\n",
              "      <td>progressive.org</td>\n",
              "    </tr>\n",
              "    <tr>\n",
              "      <th>2</th>\n",
              "      <td>0000256</td>\n",
              "      <td>Which Law Schools Should Have Closed Their Doors?</td>\n",
              "      <td>Ever since the beginning of the law school cri...</td>\n",
              "      <td>Which Law Schools Should Have Closed Their Doo...</td>\n",
              "      <td>0</td>\n",
              "      <td>abovethelaw.com</td>\n",
              "    </tr>\n",
              "    <tr>\n",
              "      <th>3</th>\n",
              "      <td>0000335</td>\n",
              "      <td>US Badly Needs Russia’s Technology to Keep Its...</td>\n",
              "      <td>( SCF ) – Russian Energomash Corporation has f...</td>\n",
              "      <td>US Badly Needs Russia’s Technology to Keep Its...</td>\n",
              "      <td>0</td>\n",
              "      <td>geopoliticsalert.com</td>\n",
              "    </tr>\n",
              "    <tr>\n",
              "      <th>4</th>\n",
              "      <td>0001058</td>\n",
              "      <td>The Three Democrats Breaking Ranks on H.R. 2 V...</td>\n",
              "      <td>Jan. 19, 2011 -- The House of Representatives ...</td>\n",
              "      <td>The Three Democrats Breaking Ranks on H.R. 2 V...</td>\n",
              "      <td>0</td>\n",
              "      <td>maplight.org</td>\n",
              "    </tr>\n",
              "    <tr>\n",
              "      <th>...</th>\n",
              "      <td>...</td>\n",
              "      <td>...</td>\n",
              "      <td>...</td>\n",
              "      <td>...</td>\n",
              "      <td>...</td>\n",
              "      <td>...</td>\n",
              "    </tr>\n",
              "    <tr>\n",
              "      <th>3995</th>\n",
              "      <td>1491832</td>\n",
              "      <td>That Time Neil DeGrasse Tyson Schooled Bob Lut...</td>\n",
              "      <td>Conservatives like to use the excuse of&amp;#160;“...</td>\n",
              "      <td>That Time Neil DeGrasse Tyson Schooled Bob Lut...</td>\n",
              "      <td>1</td>\n",
              "      <td>youngprogressivevoices.com</td>\n",
              "    </tr>\n",
              "    <tr>\n",
              "      <th>3996</th>\n",
              "      <td>1493320</td>\n",
              "      <td>Geologists Not Sure What's Causing Earthquake ...</td>\n",
              "      <td>By Piper McGowin We are seeing a lot of geolog...</td>\n",
              "      <td>Geologists Not Sure What's Causing Earthquake ...</td>\n",
              "      <td>1</td>\n",
              "      <td>activistpost.com</td>\n",
              "    </tr>\n",
              "    <tr>\n",
              "      <th>3997</th>\n",
              "      <td>1493954</td>\n",
              "      <td>White House Budget Director: Trump is Done Neg...</td>\n",
              "      <td>White House Budget Director Mick Mulvaney told...</td>\n",
              "      <td>White House Budget Director: Trump is Done Neg...</td>\n",
              "      <td>1</td>\n",
              "      <td>freedomoutpost.com</td>\n",
              "    </tr>\n",
              "    <tr>\n",
              "      <th>3998</th>\n",
              "      <td>1494502</td>\n",
              "      <td>It’s Nice to Have the Option</td>\n",
              "      <td>Alex Knapp · Friday, May 16, 2008 · 10 comment...</td>\n",
              "      <td>It’s Nice to Have the Option. Alex Knapp · Fri...</td>\n",
              "      <td>0</td>\n",
              "      <td>outsidethebeltway.com</td>\n",
              "    </tr>\n",
              "    <tr>\n",
              "      <th>3999</th>\n",
              "      <td>1494683</td>\n",
              "      <td>Mourning Iraqi Wives, Children on Valentine's Day</td>\n",
              "      <td>The men had left the shelter the evening befor...</td>\n",
              "      <td>Mourning Iraqi Wives, Children on Valentine's ...</td>\n",
              "      <td>1</td>\n",
              "      <td>opednews.com</td>\n",
              "    </tr>\n",
              "  </tbody>\n",
              "</table>\n",
              "<p>4000 rows × 6 columns</p>\n",
              "</div>\n",
              "    <div class=\"colab-df-buttons\">\n",
              "\n",
              "  <div class=\"colab-df-container\">\n",
              "    <button class=\"colab-df-convert\" onclick=\"convertToInteractive('df-b5e63533-3684-4c56-a67a-786681b29f24')\"\n",
              "            title=\"Convert this dataframe to an interactive table.\"\n",
              "            style=\"display:none;\">\n",
              "\n",
              "  <svg xmlns=\"http://www.w3.org/2000/svg\" height=\"24px\" viewBox=\"0 -960 960 960\">\n",
              "    <path d=\"M120-120v-720h720v720H120Zm60-500h600v-160H180v160Zm220 220h160v-160H400v160Zm0 220h160v-160H400v160ZM180-400h160v-160H180v160Zm440 0h160v-160H620v160ZM180-180h160v-160H180v160Zm440 0h160v-160H620v160Z\"/>\n",
              "  </svg>\n",
              "    </button>\n",
              "\n",
              "  <style>\n",
              "    .colab-df-container {\n",
              "      display:flex;\n",
              "      gap: 12px;\n",
              "    }\n",
              "\n",
              "    .colab-df-convert {\n",
              "      background-color: #E8F0FE;\n",
              "      border: none;\n",
              "      border-radius: 50%;\n",
              "      cursor: pointer;\n",
              "      display: none;\n",
              "      fill: #1967D2;\n",
              "      height: 32px;\n",
              "      padding: 0 0 0 0;\n",
              "      width: 32px;\n",
              "    }\n",
              "\n",
              "    .colab-df-convert:hover {\n",
              "      background-color: #E2EBFA;\n",
              "      box-shadow: 0px 1px 2px rgba(60, 64, 67, 0.3), 0px 1px 3px 1px rgba(60, 64, 67, 0.15);\n",
              "      fill: #174EA6;\n",
              "    }\n",
              "\n",
              "    .colab-df-buttons div {\n",
              "      margin-bottom: 4px;\n",
              "    }\n",
              "\n",
              "    [theme=dark] .colab-df-convert {\n",
              "      background-color: #3B4455;\n",
              "      fill: #D2E3FC;\n",
              "    }\n",
              "\n",
              "    [theme=dark] .colab-df-convert:hover {\n",
              "      background-color: #434B5C;\n",
              "      box-shadow: 0px 1px 3px 1px rgba(0, 0, 0, 0.15);\n",
              "      filter: drop-shadow(0px 1px 2px rgba(0, 0, 0, 0.3));\n",
              "      fill: #FFFFFF;\n",
              "    }\n",
              "  </style>\n",
              "\n",
              "    <script>\n",
              "      const buttonEl =\n",
              "        document.querySelector('#df-b5e63533-3684-4c56-a67a-786681b29f24 button.colab-df-convert');\n",
              "      buttonEl.style.display =\n",
              "        google.colab.kernel.accessAllowed ? 'block' : 'none';\n",
              "\n",
              "      async function convertToInteractive(key) {\n",
              "        const element = document.querySelector('#df-b5e63533-3684-4c56-a67a-786681b29f24');\n",
              "        const dataTable =\n",
              "          await google.colab.kernel.invokeFunction('convertToInteractive',\n",
              "                                                    [key], {});\n",
              "        if (!dataTable) return;\n",
              "\n",
              "        const docLinkHtml = 'Like what you see? Visit the ' +\n",
              "          '<a target=\"_blank\" href=https://colab.research.google.com/notebooks/data_table.ipynb>data table notebook</a>'\n",
              "          + ' to learn more about interactive tables.';\n",
              "        element.innerHTML = '';\n",
              "        dataTable['output_type'] = 'display_data';\n",
              "        await google.colab.output.renderOutput(dataTable, element);\n",
              "        const docLink = document.createElement('div');\n",
              "        docLink.innerHTML = docLinkHtml;\n",
              "        element.appendChild(docLink);\n",
              "      }\n",
              "    </script>\n",
              "  </div>\n",
              "\n",
              "\n",
              "<div id=\"df-92b814ee-1d9b-4af1-b7bb-dac05eac9484\">\n",
              "  <button class=\"colab-df-quickchart\" onclick=\"quickchart('df-92b814ee-1d9b-4af1-b7bb-dac05eac9484')\"\n",
              "            title=\"Suggest charts\"\n",
              "            style=\"display:none;\">\n",
              "\n",
              "<svg xmlns=\"http://www.w3.org/2000/svg\" height=\"24px\"viewBox=\"0 0 24 24\"\n",
              "     width=\"24px\">\n",
              "    <g>\n",
              "        <path d=\"M19 3H5c-1.1 0-2 .9-2 2v14c0 1.1.9 2 2 2h14c1.1 0 2-.9 2-2V5c0-1.1-.9-2-2-2zM9 17H7v-7h2v7zm4 0h-2V7h2v10zm4 0h-2v-4h2v4z\"/>\n",
              "    </g>\n",
              "</svg>\n",
              "  </button>\n",
              "\n",
              "<style>\n",
              "  .colab-df-quickchart {\n",
              "      --bg-color: #E8F0FE;\n",
              "      --fill-color: #1967D2;\n",
              "      --hover-bg-color: #E2EBFA;\n",
              "      --hover-fill-color: #174EA6;\n",
              "      --disabled-fill-color: #AAA;\n",
              "      --disabled-bg-color: #DDD;\n",
              "  }\n",
              "\n",
              "  [theme=dark] .colab-df-quickchart {\n",
              "      --bg-color: #3B4455;\n",
              "      --fill-color: #D2E3FC;\n",
              "      --hover-bg-color: #434B5C;\n",
              "      --hover-fill-color: #FFFFFF;\n",
              "      --disabled-bg-color: #3B4455;\n",
              "      --disabled-fill-color: #666;\n",
              "  }\n",
              "\n",
              "  .colab-df-quickchart {\n",
              "    background-color: var(--bg-color);\n",
              "    border: none;\n",
              "    border-radius: 50%;\n",
              "    cursor: pointer;\n",
              "    display: none;\n",
              "    fill: var(--fill-color);\n",
              "    height: 32px;\n",
              "    padding: 0;\n",
              "    width: 32px;\n",
              "  }\n",
              "\n",
              "  .colab-df-quickchart:hover {\n",
              "    background-color: var(--hover-bg-color);\n",
              "    box-shadow: 0 1px 2px rgba(60, 64, 67, 0.3), 0 1px 3px 1px rgba(60, 64, 67, 0.15);\n",
              "    fill: var(--button-hover-fill-color);\n",
              "  }\n",
              "\n",
              "  .colab-df-quickchart-complete:disabled,\n",
              "  .colab-df-quickchart-complete:disabled:hover {\n",
              "    background-color: var(--disabled-bg-color);\n",
              "    fill: var(--disabled-fill-color);\n",
              "    box-shadow: none;\n",
              "  }\n",
              "\n",
              "  .colab-df-spinner {\n",
              "    border: 2px solid var(--fill-color);\n",
              "    border-color: transparent;\n",
              "    border-bottom-color: var(--fill-color);\n",
              "    animation:\n",
              "      spin 1s steps(1) infinite;\n",
              "  }\n",
              "\n",
              "  @keyframes spin {\n",
              "    0% {\n",
              "      border-color: transparent;\n",
              "      border-bottom-color: var(--fill-color);\n",
              "      border-left-color: var(--fill-color);\n",
              "    }\n",
              "    20% {\n",
              "      border-color: transparent;\n",
              "      border-left-color: var(--fill-color);\n",
              "      border-top-color: var(--fill-color);\n",
              "    }\n",
              "    30% {\n",
              "      border-color: transparent;\n",
              "      border-left-color: var(--fill-color);\n",
              "      border-top-color: var(--fill-color);\n",
              "      border-right-color: var(--fill-color);\n",
              "    }\n",
              "    40% {\n",
              "      border-color: transparent;\n",
              "      border-right-color: var(--fill-color);\n",
              "      border-top-color: var(--fill-color);\n",
              "    }\n",
              "    60% {\n",
              "      border-color: transparent;\n",
              "      border-right-color: var(--fill-color);\n",
              "    }\n",
              "    80% {\n",
              "      border-color: transparent;\n",
              "      border-right-color: var(--fill-color);\n",
              "      border-bottom-color: var(--fill-color);\n",
              "    }\n",
              "    90% {\n",
              "      border-color: transparent;\n",
              "      border-bottom-color: var(--fill-color);\n",
              "    }\n",
              "  }\n",
              "</style>\n",
              "\n",
              "  <script>\n",
              "    async function quickchart(key) {\n",
              "      const quickchartButtonEl =\n",
              "        document.querySelector('#' + key + ' button');\n",
              "      quickchartButtonEl.disabled = true;  // To prevent multiple clicks.\n",
              "      quickchartButtonEl.classList.add('colab-df-spinner');\n",
              "      try {\n",
              "        const charts = await google.colab.kernel.invokeFunction(\n",
              "            'suggestCharts', [key], {});\n",
              "      } catch (error) {\n",
              "        console.error('Error during call to suggestCharts:', error);\n",
              "      }\n",
              "      quickchartButtonEl.classList.remove('colab-df-spinner');\n",
              "      quickchartButtonEl.classList.add('colab-df-quickchart-complete');\n",
              "    }\n",
              "    (() => {\n",
              "      let quickchartButtonEl =\n",
              "        document.querySelector('#df-92b814ee-1d9b-4af1-b7bb-dac05eac9484 button');\n",
              "      quickchartButtonEl.style.display =\n",
              "        google.colab.kernel.accessAllowed ? 'block' : 'none';\n",
              "    })();\n",
              "  </script>\n",
              "</div>\n",
              "\n",
              "    </div>\n",
              "  </div>\n"
            ],
            "application/vnd.google.colaboratory.intrinsic+json": {
              "type": "dataframe",
              "summary": "{\n  \"name\": \"preprocess_byarticle_xml(articles_path_bypublisher, ground_truth_path_bypublisher, output_path_bypublisher, False, True)\",\n  \"rows\": 4000,\n  \"fields\": [\n    {\n      \"column\": \"id\",\n      \"properties\": {\n        \"dtype\": \"string\",\n        \"num_unique_values\": 4000,\n        \"samples\": [\n          \"0219924\",\n          \"1336193\",\n          \"0209032\"\n        ],\n        \"semantic_type\": \"\",\n        \"description\": \"\"\n      }\n    },\n    {\n      \"column\": \"title\",\n      \"properties\": {\n        \"dtype\": \"string\",\n        \"num_unique_values\": 3940,\n        \"samples\": [\n          \"Smart Tech: Snowden Invents Hacker Proof Smart Phone Case\",\n          \"South Carolina's Newcomer to Congress\",\n          \"How the GOP Can Still Repeal Obamacare, and Why it Hasn\\u2019t Happened Yet\"\n        ],\n        \"semantic_type\": \"\",\n        \"description\": \"\"\n      }\n    },\n    {\n      \"column\": \"body\",\n      \"properties\": {\n        \"dtype\": \"string\",\n        \"num_unique_values\": 3992,\n        \"samples\": [\n          \"There are still self-professed \\u201cChristians\\u201d who continue to promote the heresies and unbiblical teachings of Joel Osteen and his wife Victoria. Previously, we pointed out how Victoria Osteen said that our worship of God should be done for ourselves . In an interview with Wolf Blitzer, Osteen said that Barack Obama is a&#160;Christian.&#160; Osteen claims that he has been to prayer breakfasts and other event with Barack Obama and heard him express his faith, redmeption and salvation. \\u201cI just believe in my heart that he\\u2019s a Christian,\\u201d Osteen said. \\u201cHe says he is.\\u201d \\u201cAgain, I wouldn\\u2019t try and push people away,\\u201d Osteen continued. \\u201cThat\\u2019s just the opposite of what we\\u2019re supposed to do.\\u201d Now, let\\u2019s just rehearse what Obama says his \\u201cChristian\\u201d faith is composed of, shall we? In a 2004 interview with Cathleen Falsani , Obama said that he \\u201cdraw(s) from (his) Christian faith, but then went on to talk about growing up with Eastern influences in Hawaii, Muslim influences in Indonesia, his father being an agnostic while his grandfather was a Muslim, and finishing off claiming that he was mostly influenced by Judaism. However, he claims to be \\u201crooted in the Christian tradition. Let\\u2019s see how he stacks up to that \\u201cChristian tradition.\\u201d Obama told Falsani the following: When asked about prayer and Bible reading, Obama said, \\u201cI used to all the time, in a fairly disciplined way. But during the course of this campaign, I don\\u2019t. And I probably need to and would like to, but that\\u2019s where that internal monologue, or dialogue I think supplants my opportunity to read and reflect in a structured way these days. Friends, nothing in Obama\\u2019s statements are Christian in any sense of the word. They are not biblical concepts of the historic Christian faith at all. Yet, Osteen, who doesn\\u2019t promote biblical concepts of the historical Christian faith either supports Obama as a Christian. As for his job, well we\\u2019ve documented how poorly he is doing it, yet, he is doing exactly what he aims to do and that is to destroy America. However, recall this comes years after Osteen and his wife were interviewed by Larry King and they regurgitated the same nonsense that Osteen said in his interview with Blitzer. \\u201cI think he\\u2019s doing a great job,\\u201d Osteen said. \\u201cI\\u2019m impressed of his skill, calmness, his just strength under pressure. I mean these are tough times for him, he got a lot put on his plate. But I\\u2019ve been impressed.\\u201d Wow! It doesn\\u2019t take a lot to impress Joel Osteen, does it? It takes even less to impress his wife who was asked about Michelle Obama. \\u201cI\\u2019ve been real impressed,\\u201d she said. \\u201cI\\u2019ve been impressed about the First Lady, she stepped up and she\\u2019s done a remarkable job, and under the situation, they have done great.\\u201d King then went on to point out that 12 percent of Americans (I find that utterly ridiculous) believe that Obama is a Muslim and that 35 percent say they don\\u2019t know what religion he is (which I think might be factual). He then asked Osteen if he thought that mattered. \\u201cWell, it matters to me,\\u201d Mr. Osteen said. \\u201cIt matters to me that I know he loves the Lord, and I think it\\u2019s important that he has convictions from his faith. So to me, it matters when I\\u2019m making my personal decisions.\\u201d His wife agreed. However, Osteen went on to promote his new Hope for Today Bible , saying, \\u201cIt\\u2019s a living translation of the Bible, which is an easy version to read. And then it\\u2019s got our notes besides certain passages. And it\\u2019s just to help people maybe to understand the Bible a little bit easier.\\u201d And just what will it help people understand easier? Apparently it won\\u2019t help in the area of marriage. When asked if he thought more states would allow the redefinition of marriage to include sodomites, Osteen said, \\u201cYou know, I don\\u2019t know where it\\u2019s all going \\u2026 I\\u2019d love to see it stay between a male and a female, not knocking anybody else.\\u201d Knocking anybody else? Why not? Jesus was clear about what marriage is and what it is not in Matthew 5 and Matthew 19. God was clear about it in Genesis 3. Why can\\u2019t Joel Osteen be clear? It\\u2019s because he\\u2019s a false teacher. To be fair, at least his wife said, \\u201cI just think marriage should be sanctified by the church. It should be between a man and a woman.\\u201d While Osteen said the \\u201cGod\\u2019s best is between a male and female,\\u201d it seems that for both Osteens is all about \\u201cwhat they think\\u201d rather than what God says. That is the crux of the issue. My friends, Joel Osteen is in the position he is in because the professed Church has not called people like him out and dealt with him biblically. It\\u2019s time the people of God start dealing with false teachers in a biblical manner.\",\n          \"President Obama is heading west in pursuit of the women\\u2019s vote. Incumbent Democratic candidate for Senator of California Barbara Boxer will host President Obama, whose help she can most assuredly use in her bid to retain her seat in the Senate.Part of the strategy to support Boxer\\u2019s race will be to rally women voters to the polls in response to the release of a report prepared by the White House on women and the economy. The report will apparently reveal the positive effects the Democratic programs initiated by the White House, such as their small business lending programs, consumer protections, Financial Reform bill and tax cuts have had on women over the past few years.Jen Psaki, the White House deputy communications director, said that \\u201cif Republicans in Congress have their way, the millions of women who will benefit from our programs [and which] have helped them through a challenging economic time would be left without these benefits.\\u201dPsaki added that \\u201cthere is an important choice for women in this country to make about whether that is the direction they want the country to move in.\\u201dPresident Obama will base his push for women to support the Democratic cause by citing such legislation as the Lilly Ledbetter Fair Pay Act, the first law that Obama signed as President and his continuing efforts to pass through Congress the Paycheck Fairness Act. According to Obama this type of advocacy proves that the Democrats are the better choice for women.Before Obama\\u2019s stop in California he will first head to Seattle where he will host a fundraising dinner for Patty Murray, another incumbent woman senator from Washington. Murray needs all the help she can get. The latest CNN/Time poll shows her lagging behind her challenger Republican Dino Rossi, by a margin of 51-43. After Seattle Obama will be heading to Los Angeles to a fundraiser for Boxer, whose campaign is being subjected to a mighty challenge by the former Hewlett Packard CEO Carly Fiorina, who, the last time I looked, was also a woman.\",\n          \"We also discuss a solution to oil and nuclear by subsidizing Water Powered Cars and why do all the inventors get assassinated? The only report so far is by David Richards or we would never know: &#160; The Siberian Times reporter The company responsible for a Russian oil spill in &#160;Rosneft said its actions had \\u2018prevented\\u2019 oil reaching the main river. Picture: Andrey Seleznyov A rupture in a key pipeline led to oil pouring into Ob floodwater with the polluted area now put at more than ten hectares. Pictures showed the scale of the damage in an area close to the city of &#160;123,000 people in the Khanty-Mansi Autonomous Region. The Ob was anyway flooded when the spill occurred on 23 June and the key damage is to an area already underwater. The pipeline is run by RN-Yuganskneftegas Ltd, part of the Rosneft energy giant, which said on Monday it \\u2018engaged all the necessary measures to eliminate the spill of oil-containing liquid\\u2019. The company said its actions had \\u2018prevented\\u2019 oil reaching the main river, the seventh longest in the world. Despite this, it is clear a significant quantity of oil spilled into the Ob\\u2019s floodwater, and among the pictures is a domestic tap flowing with blackened water. Oil spill causes \\u2018ecological disaster\\u2019 close to Nefteyugansk city. Pictures here and below: Andrey Seleznyov, Znak.com The pipeline \\u2018failure\\u2019 was close to the village of Singapay, in the suburbs of &#160;Nefteyugansk. The oil is from the Ust-Balykskiy field in western Siberia. The pipeline has been stopped as emergency workers deal with the spill, with 1,100 metres of booms installed to prevent the oil spreading. A company statement said it was taking \\u2018every necessary measure to minimise the environmental damage. \\u2018About 60 employees are involved in works to eliminate the consequences of the accident, in addition to six boats and five sets of oil gathering equipment.\\u2019 However, one local blogger claimed the company was slow to fix the problem adding that Rosneft was \\u2018shrugging its shoulders and doesn\\u2019t want publicity\\u2019. It seems like every month there\\u2019s reports on new oil spill disasters like the recent Santa Barbara Oil Spill &#160;or Russian Oil Spill . These accidents don\\u2019t have to happen and are completely unnecessary.&#160;The only real solution is to phase out oil all together. We can fly sophisticated satellites to Mars and back but we can\\u2019t make solar panels efficient and affordable. Did you know that Water-powered cars have existed for years? Water-powered cars have been given scant media coverage. In some cases, the inventors were intimidated into ceasing their work or assassinated. The Illuminati quash free energy technology because it would transform society and breakdown the economic order. If you control the energy, you control the people. Stanley Meyer, who invented a water fuel device , encapsulated the agenda : \\u2018The internationalists want zero industrial growth, zero population growth\\u2026 There is a move to force countries to sign over their natural resource rights, and if you sign over your natural resource rights, they have taken over the countries without even firing a shot. The number one thing that will diffuse the entire episode is to bring in an alternate energy source.\\u2019 Most of the cars use water as a source of hydrogen, which is a very efficient fuel. Here is a list of men and companies who have invented water powered cars. Herman Anderson (1918-2004) \\u2013 Herman had an illustrious career as a scientist at NASA testing hydrogen powered rockets. He used this knowledge to create a water-powered vehicle which he believed would transform the world. Herman created a water powered Chevy Cavalier. See Video He was allowed to drive it, but was banned from selling or manufacturing the vehicle in his home State of Tennessee. The official reason was that the car gave off too much radiation. However, hybrid cars (that use both electricity and oil) produce a similar level of radiation and are legal. Go figure. In 2008, a Japanese company called Genepax unveiled a water-powered car. &#160; They received a patent for the vehicle in Japan and demonstrated it to the press. The car is extremely efficient, able to drive at 50km/h for an hour on a litre of water. It runs on virtually any form of water too, even tea and soda. A year after the launch Genepax stopped selling the cars due to lack of funds. They currently have a website that explains how to convert your car to run on water. Stanley Meyer (1940-1998) \\u2013 The most famous water car inventor. The American created the \\u2018water fuel cell\\u2019, claiming that any car fitted with it could run purely on water.&#160; A local television station filmed him driving a dune buggy powered by the device. The British Advanced Energy Institute reported, \\u2018We recently sent a delegation to witness Stan\\u2019s work, to really evaluate it, and came back saying \\u201cthis is one of the most important inventions of the century.\\u201d\\u2018 In 1998, Stanley was murdered . He and his brother Stephen met two Belgian men at a restaurant who claimed to be potential investors. After drinking a sip of cranberry juice, Stanley grabbed his neck and ran outside, where he was violently sick. Stephen recalls, \\u201cI ran outside and asked him, \\u2018What\\u2019s wrong?\\u2019. He said, \\u2018They poisoned me.\\u2019 That was his dying declaration.\\u201d The following day Stephen tracked down the Belgian men. \\u201cI told them that Stan had died and they never said a word, absolutely nothing, no condolences, no questions.\\u201d A week after his death, the Feds came to Stan\\u2019s home and confiscated his car and research equipment. READ FULL ARTICLE HERE: Henry Makow\"\n        ],\n        \"semantic_type\": \"\",\n        \"description\": \"\"\n      }\n    },\n    {\n      \"column\": \"full_text\",\n      \"properties\": {\n        \"dtype\": \"string\",\n        \"num_unique_values\": 4000,\n        \"samples\": [\n          \"NY Times: Government Censorship Control of Nearly Every Major News Outlet. The New York Times article shockingly admits that virtually every major mainstream news organization are required to submit stories to government censors for approval. After reading this article you\\u2019ll never trust TV news again. In one of the most shocking articles that the New York Times has ever put out, a New York Times reporter has openly admitted that virtually every major mainstream news organization allows government bureaucrats and campaign officials to censor their stories. For example, almost every major news organization in the country has agreed to submit virtually all quotes from anyone involved in the Obama campaign or the Romney campaign to gatekeepers for \\u201cquote approval\\u201d before they will be published. If the gatekeeper in the Obama campaign does not want a certain quote to get out, the American people will not see it, and the same thing applies to the Romney campaign. The goal is to keep the campaigns as \\u201con message\\u201d as possible and to avoid gaffes at all cost. But this kind of thing is not just happening with political campaigns. According to the New York Times, \\u201cquote approval\\u201d has become \\u201ccommonplace throughout Washington\\u201d. In other words, if you see a quote in the newspaper from someone in the federal government then it is safe to say that a gatekeeper has almost certainly reviewed that quote and has approved it. This is another sign that \\u201cthe free and independent media\\u201d in this country is a joke. What we get from the mainstream media is a very highly filtered&#160; form &#160;of propaganda, and that is one reason why Americans are turning away from the mainstream media in droves. People want the truth, and more Americans than ever realize that they are not getting it from the mainstream media. The following quote comes from the recent article&#160; in the New York Times &#160;mentioned&#160; above &#160;and it is absolutely jaw dropping\\u2026. The quotations come back redacted, stripped of colorful metaphors, colloquial language and anything even mildly provocative. They are sent by e-mail from the Obama headquarters in Chicago to reporters who have interviewed campaign officials under one major condition: the press office has veto power over what statements can be quoted and attributed by name. Most reporters, desperate to pick the brains of the president\\u2019s top strategists, grudgingly agree . After the interviews, they review their notes, check their tape recorders and send in the juiciest sound bites for review. The verdict from the campaign \\u2014 an operation that prides itself on staying consistently on script \\u2014 is often no, Barack Obama does not approve this message. This is an article that everyone needs to read. If you have not read it yet, you can find it&#160; right here . What all of this means is that both the Obama campaign and the Romney campaign essentially have \\u201cveto power\\u201d over any quotes from those campaigns that we see in the newspapers. According&#160; to the New York Times , virtually every major news organization has agreed to submit their quotes for \\u201cquote approval\\u201d\\u2026. It was difficult to find a news outlet that had not agreed to quote approval, albeit reluctantly. Organizations like Bloomberg, The Washington Post, Vanity Fair, Reuters and The New York Times have all consented to interviews under such terms. This is absolutely disgusting, and it goes against everything that our media is supposed to stand for. The following is&#160; what Joseph Farah had to say &#160;when he learned about this story\\u2026. All I can say about these people I once considered \\u201ccolleagues\\u201d is that I am so ashamed of them. I am mortified. They are humiliating themselves and a vital institution for any free society. It seems the biggest threat to the American tradition of a free and independent press is not government coercion. It\\u2019s the willing submission of the press to being handled and managed by government and politicians. Keep in mind that Joseph Farah has been working in the world of journalism for decades. He is deeply saddened to see what is happening to a profession that he deeply loves. But he is not the only one. Just&#160; check &#160;out what Dan Rather had to say during a speech&#160; back in 2009 \\u2026. \\u201cAt my age and stage I\\u2019ve finally reached the point where I don\\u2019t have to kiss up to anybody,\\u201d he said. \\u201cWhat a wonderful feeling it is.\\u201d Even so, his talk emphasized what he believes is the erosion of quality journalism, because of the corporatization, politicization, and \\u201ctrivialization\\u201d of news. Those three factors, Rather argued, have fueled the \\u201cdumbing down and sleezing up of news\\u201d and the decline of \\u201cgreat American journalism.\\u201d Likening media consolidation to that of the banking industry, Rather claimed that \\u201croughly 80 percent\\u201d of the media is controlled by no more than six, and possibly as few as four, corporations. And Dan Rather is right. The control over the media in the United States is more tightly concentrated than ever before. Back in the early 1980s, approximately&#160; 50 corporations &#160;essentially had nearly total control of the media in the United States. Today, just six monolithic media corporations dominate virtually everything you watch, hear and read. These six gigantic corporations own television networks, publishing houses, movie studios, newspapers, radio stations, music labels and video game companies. Most Americans are absolutely addicted to information and entertainment, and those six massive corporations supply the vast majority of the information and entertainment that Americans take in. The amount of control that those six corporate giants have is absolutely incredible. For example, the average American watches&#160; 153 hours of television a month. If you can beam 153 hours of \\u201cprogramming\\u201d into someone\\u2019s head each month, that gives you an awesome amount of influence over that person. The six monolithic corporations mentioned above are Time Warner, Walt Disney, Viacom, Rupert Murdoch\\u2019s News Corp., CBS Corporation and NBC Universal. There are some areas of the media that are not completely dominated by those corporations, but even control over those areas is becoming more highly concentrated than ever. For&#160; example ,&#160; Clear Channel &#160;now owns over 1000 radio stations across the United States. The power that Clear Channel has over the radio industry in America is absolutely staggering. Even control over the Internet is becoming much more concentrated. Giant corporations such as Facebook, Google, Yahoo and Microsoft are increasingly controlling what we see and hear online. But it really is the \\u201cbig six\\u201d that dominate most of what we see, hear and read on a daily basis. \\u2014\\u2014\\u2014\\u2014\\u2014\\u2014\\u2014\\u2014\\u2014\\u2014\\u2014\\u2014\\u2014\\u2014\\u2014\\u2014\\u2013 Today, six colossal media giants tower over all the rest. Much of the information in the chart below comes from&#160; mediaowners.com . The chart below reveals only a small fraction of the media outlets that these six behemoths actually own\\u2026. Time Warner Walt Disney Viacom News Corporation CBS Corporation NBC Universal \\u2014\\u2014\\u2014\\u2014\\u2014\\u2014\\u2014\\u2014\\u2014\\u2014\\u2014\\u2014\\u2014\\u2014\\u2014\\u2014\\u2014\\u2014\\u2014- Please keep in mind that the list above is not exhaustive. It only contains a sampling of the companies that those six corporate giants own. So are you starting to get an idea of how powerful they are? If you ever wondered why the version of \\u201cthe news\\u201d that you get is so similar no matter where you turn, it is because control of the news is concentrated in just a very few hands. So who controls the \\u201cbig six\\u201d media corporations? Would it surprise you to know that the boards of directors of those big media corporations have a tremendous amount of overlap with the boards of directors of large banks, large oil companies and large pharmaceutical companies? The following is from&#160; the Fairness &amp; Accuracy in Reporting website \\u2026. Media corporations share members of the board of directors with a variety of other large corporations, including banks, investment companies, oil companies, health care and pharmaceutical companies and technology companies. You can find a list that shows how these boards of directors overlap and interlock&#160; right here . The giant media corporations are not going to criticize the establishment because they are the establishment. The messages that these media behemoths pound into our heads are going to be the messages that the establishment wants pounded into our heads. Anyone that believes that the mainstream media is \\u201cindependent\\u201d and that it does not have \\u201can agenda\\u201d is being delusional. Of course it is also worth mentioning that much of what we get from the mainstream media is also often directly controlled by the federal government. Former Washington Post reporter Carl Bernstein (of&#160; Woodward and Bernstein &#160;fame) has discovered that&#160; hundreds of American journalists &#160;have worked directly for the CIA. Not that the federal government and the establishment are opposed to one another. The truth is that they very much work together hand in hand. But sometimes the federal government has slightly different priorities than the corporate establishment does. In any event, the key point to take away from all this is that the news and entertainment that we all enjoy on a daily basis if very highly censored and very highly controlled. It is imperative that we understand that those that own and control the media are trying to shape society in a certain way. They want to impose their values and their vision of the future on all the rest of us. You will notice that none of the major news organizations speak out against&#160; the \\u201cBig Brother\\u201d police state control grid &#160;that is going in all around us. Instead, they insist that all of this added \\u201csecurity\\u201d will keep us safe even as our liberties and freedoms are being badly eroded. You will notice that none of the major news organizations speak out against&#160; the population control agenda of the global elite . Instead, they insist that more \\u201cfamily planning\\u201d will help the environment and make the world a more prosperous place for all of us. You will notice that none of the major news organizations speak out against&#160; the Federal Reserve &#160;and none of them are warning us about the financial collapse &#160;that is rapidly approaching. Instead, they tell us to keep having faith in the system and they promise us that everything is going to be okay. Well, you can mindlessly believe the corporate media if you want, but I believe that in this day and age it is absolutely imperative that we all learn to think for ourselves. Don\\u2019t be a mindless robot for anyone. Think for yourself and make your own decisions. The truth is out there and you can find it if you are willing to go search for it.\",\n          \"PROOF: Trump never mocked a disabled Reporter. This was one of the widely reported, inaccurate deceptions of the mainstream media that actually stuck and did some damage - but it's not true. If you watch the timeline of events and the back-story of how it all started, it becomes self-evident that Trump never mocked a disabled reporter - nor would he. WATCH:\",\n          \"Trump Released His Energy Plan and It\\u2019s Based on a Mythical Energy Source. ( PT ) \\u2013 Trump\\u2019s energy plan was released shortly after the President was sworn in. Energy companies and major polluters cheered, and environmentalists wept. Sierra Club commented in a statement : \\u201cMinutes after he was sworn in, any illusion that Trump would act in the best interests of families in this country as President were wiped away by a statement of priorities that constitute an historic mistake on one of the key crises facing our planet and an assault on public health. What Trump has released is hardly a plan \\u2013 it\\u2019s a polluter wishlist that will make our air and water dirtier, our climate and international relations more unstable, and our kids sicker. This is a shameful and dark start to Trump\\u2019s Presidency, and a slap in the face to any American who thought Trump might pursue the national interest.\\u201d The energy plan is, by and large, a joke. It consists of ending anti-pollution regulations and encouraging a mythical type of energy: \\u201cThe Trump Administration is also committed to clean coal technology, and to reviving America\\u2019s coal industry, which has been hurting for too long.\\u201d Popular Mechanics discussed the myth of clean coal at length years ago, but the idea of clean coal seems as prevalent&#160;as ever. \\u201cThere\\u2019s just one problem with this scenario: Coal will never be clean. It is possible to make coal emissions cleaner. In fact, we\\u2019ve come a long way since the \\u201970s in finding ways to reduce sulfur\\u2013dioxide and nitrogen-oxide emissions, and more progress can be made. But the nut of the clean-coal sales pitch is that we can also bottle up the CO2 produced when coal is burned, most likely by burying it deep in the earth. That may be possible in theory, but it\\u2019s devilishly difficult in practice.\\u201d In the same report, Popular Mechanics said \\u201cit is a dangerous gamble to assume that it will become technically and economically feasible any time soon.\\u201d National Geographic has plainly stated in reports: \\u201cEnvironmentalists say that clean coal is a myth. Of course it is.\\u201d Like many of Trump\\u2019s plans, it\\u2019s pure fantasy. This post by Justin King originally ran on the Pontiac Tribune.\"\n        ],\n        \"semantic_type\": \"\",\n        \"description\": \"\"\n      }\n    },\n    {\n      \"column\": \"label\",\n      \"properties\": {\n        \"dtype\": \"number\",\n        \"std\": 0,\n        \"min\": 0,\n        \"max\": 1,\n        \"num_unique_values\": 2,\n        \"samples\": [\n          1,\n          0\n        ],\n        \"semantic_type\": \"\",\n        \"description\": \"\"\n      }\n    },\n    {\n      \"column\": \"domain\",\n      \"properties\": {\n        \"dtype\": \"category\",\n        \"num_unique_values\": 105,\n        \"samples\": [\n          \"bearingarms.com\",\n          \"commentarymagazine.com\"\n        ],\n        \"semantic_type\": \"\",\n        \"description\": \"\"\n      }\n    }\n  ]\n}"
            }
          },
          "metadata": {},
          "execution_count": 13
        }
      ]
    },
    {
      "cell_type": "markdown",
      "source": [
        "The training split of the by-article dataset contains 645 articles, with an imbalanced label distribution (63\\% non-hyperpartisan, 37\\% hyperpartisan). In contrast, the test set is fully balanced, with 314 articles per class, enabling fair and consistent evaluation. No missing values were found in either split.\n",
        "\n",
        "Each article includes a set of engineered stylistic features. In the training set, the average uppercase ratio is 0.056, with a maximum value of 0.52 indicating a few highly emphatic articles. The average number of exclamation marks per article is 0.93, but this ranges up to 34, suggesting strong variance in emotional tone. The average sentence length is 18.3 words, with a wide range from 3.2 to 220 words per sentence.\n",
        "\n",
        "The test set exhibits similar feature distributions. The average uppercase ratio is 0.054, and the average sentence length is 18.6 words. Exclamation usage is also highly variable, with a maximum of 52 in one article. Overall, the stylistic feature distributions are comparable across splits, suggesting the model should generalize well across them."
      ],
      "metadata": {
        "id": "OYCTNbDH1evq"
      }
    },
    {
      "cell_type": "markdown",
      "source": [
        "By-publisher:\n",
        "\n",
        "Shape: 4,000 articles\n",
        "\n",
        "Label balance: 50/50 (2,000 per class)\n",
        "\n",
        "Features: id, title, body, full_text, domain\n",
        "\n",
        "No missing values"
      ],
      "metadata": {
        "id": "nv5EcAJaky0V"
      }
    },
    {
      "cell_type": "markdown",
      "source": [
        "# Extras\n",
        "\n",
        "As an extra for (optional) evaluation, considered to add sentiment_score. Else create separate .tsv file with just id, full_text, domain."
      ],
      "metadata": {
        "id": "TL-0oHfqk74Q"
      }
    },
    {
      "cell_type": "code",
      "source": [
        "# Load the cleaned by-publisher dataset\n",
        "df = pd.read_csv(\"data/bypublisher_clean.tsv\", sep=\"\\t\")"
      ],
      "metadata": {
        "id": "-CK8ZZkGmQR3"
      },
      "execution_count": 18,
      "outputs": []
    },
    {
      "cell_type": "markdown",
      "source": [
        "#XML version"
      ],
      "metadata": {
        "id": "3B0EG_BSoWIc"
      }
    },
    {
      "cell_type": "code",
      "source": [
        "# Keep only the desired columns\n",
        "df_xml = df[[\"id\", \"full_text\", \"domain\"]]\n",
        "\n",
        "# Save to a new .tsv file\n",
        "df_xml.to_csv(\"data/bypublisher_xml.tsv\", sep=\"\\t\", index=False)\n",
        "\n",
        "print(\" Cleaned file saved as data/bypublisher_minimal.tsv\")"
      ],
      "metadata": {
        "colab": {
          "base_uri": "https://localhost:8080/"
        },
        "id": "xqXomPecmWlo",
        "outputId": "7342f479-49b0-42fd-9afc-1b3ccdd413a5"
      },
      "execution_count": 19,
      "outputs": [
        {
          "output_type": "stream",
          "name": "stdout",
          "text": [
            " Cleaned file saved as data/bypublisher_minimal.tsv\n"
          ]
        }
      ]
    },
    {
      "cell_type": "markdown",
      "source": [
        "#Truncate to approx. 512 tokens"
      ],
      "metadata": {
        "id": "h-7vZP1poROV"
      }
    },
    {
      "cell_type": "code",
      "source": [
        "from transformers import AutoTokenizer\n",
        "\n",
        "tokenizer = AutoTokenizer.from_pretrained(\"xlm-roberta-base\")\n",
        "\n",
        "def truncate_to_512_tokens(text):\n",
        "    tokens = tokenizer.encode(text, truncation=True, max_length=512)\n",
        "    return tokenizer.decode(tokens, skip_special_tokens=True)\n",
        "\n",
        "# Apply truncation\n",
        "df_roberta = df_xml.copy()\n",
        "df_roberta[\"full_text\"] = df_roberta[\"full_text\"].apply(truncate_to_512_tokens)\n",
        "\n",
        "# Save to file\n",
        "df_roberta.to_csv(\"data/bypublisher_roberta_ready.tsv\", sep=\"\\t\", index=False)\n",
        "print(\" Token-truncated file saved: data/bypublisher_roberta_ready.tsv\")"
      ],
      "metadata": {
        "colab": {
          "base_uri": "https://localhost:8080/"
        },
        "id": "pKkdGtX-oZO2",
        "outputId": "544835ea-5e4b-4197-8487-b39ff5d94725"
      },
      "execution_count": 22,
      "outputs": [
        {
          "output_type": "stream",
          "name": "stdout",
          "text": [
            " Token-truncated file saved: data/bypublisher_roberta_ready.tsv\n"
          ]
        }
      ]
    },
    {
      "cell_type": "markdown",
      "source": [
        "#Sentiment score"
      ],
      "metadata": {
        "id": "NUhkd1uUoZzP"
      }
    },
    {
      "cell_type": "code",
      "source": [
        "from nltk.sentiment import SentimentIntensityAnalyzer\n",
        "import nltk\n",
        "# Download the VADER lexicon (only needs to be done once)\n",
        "nltk.download('vader_lexicon')"
      ],
      "metadata": {
        "id": "IFGcA0BflfER"
      },
      "execution_count": 14,
      "outputs": []
    },
    {
      "cell_type": "markdown",
      "source": [],
      "metadata": {
        "id": "xpBqlQ94ocTT"
      }
    },
    {
      "cell_type": "code",
      "source": [
        "# Initialize sentiment analyzer\n",
        "sia = SentimentIntensityAnalyzer()\n",
        "\n",
        "# Compute sentiment score for each article\n",
        "df[\"sentiment_score\"] = df[\"full_text\"].apply(lambda x: sia.polarity_scores(str(x))[\"compound\"])\n",
        "\n",
        "# Save to new file\n",
        "output_path = \"data/bypublisher_clean_with_sentiment.tsv\"\n",
        "df.to_csv(output_path, sep=\"\\t\", index=False)\n",
        "\n",
        "print(f\" Sentiment scores added and saved to {output_path}\")"
      ],
      "metadata": {
        "colab": {
          "base_uri": "https://localhost:8080/"
        },
        "id": "rsbnRsgmlh8P",
        "outputId": "90549df5-ad83-42df-adad-0a6e2b415ba4"
      },
      "execution_count": 17,
      "outputs": [
        {
          "output_type": "stream",
          "name": "stdout",
          "text": [
            " Sentiment scores added and saved to data/bypublisher_clean_with_sentiment.tsv\n"
          ]
        }
      ]
    }
  ]
}