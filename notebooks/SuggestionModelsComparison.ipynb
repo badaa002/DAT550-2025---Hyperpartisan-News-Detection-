{
  "nbformat": 4,
  "nbformat_minor": 0,
  "metadata": {
    "colab": {
      "provenance": []
    },
    "kernelspec": {
      "name": "python3",
      "display_name": "Python 3"
    },
    "language_info": {
      "name": "python"
    }
  },
  "cells": [
    {
      "cell_type": "markdown",
      "source": [
        "ROC curve"
      ],
      "metadata": {
        "id": "eGLKiKVqSS3v"
      }
    },
    {
      "cell_type": "code",
      "execution_count": null,
      "metadata": {
        "id": "IpEEPztoSPF0"
      },
      "outputs": [],
      "source": [
        "from sklearn.metrics import roc_curve, auc\n",
        "import matplotlib.pyplot as plt\n",
        "\n",
        "fpr_rf, tpr_rf, _ = roc_curve(y_test, y_pred_proba_rf)\n",
        "fpr_roberta, tpr_roberta, _ = roc_curve(y_test, y_pred_proba_roberta)\n",
        "\n",
        "plt.figure(figsize=(8, 6))\n",
        "plt.plot(fpr_rf, tpr_rf, label=f\"Random Forest (AUC = {auc(fpr_rf, tpr_rf):.2f})\")\n",
        "plt.plot(fpr_roberta, tpr_roberta, label=f\"XLM-RoBERTa (AUC = {auc(fpr_roberta, tpr_roberta):.2f})\")\n",
        "plt.plot([0, 1], [0, 1], linestyle='--', color='grey')\n",
        "plt.xlabel(\"False Positive Rate\")\n",
        "plt.ylabel(\"True Positive Rate\")\n",
        "plt.title(\"ROC Curve Comparison\")\n",
        "plt.legend()\n",
        "plt.grid(True)\n",
        "plt.show()\n"
      ]
    },
    {
      "cell_type": "markdown",
      "source": [
        "Disagreement hitmap:Where the two models disagree (and who gets it right)."
      ],
      "metadata": {
        "id": "Yo6QUmnbSVdn"
      }
    },
    {
      "cell_type": "code",
      "source": [
        "import seaborn as sns\n",
        "import pandas as pd\n",
        "\n",
        "df_disagreement = pd.DataFrame({\n",
        "    \"true\": y_test,\n",
        "    \"rf_pred\": y_pred_rf,\n",
        "    \"roberta_pred\": y_pred_roberta\n",
        "})\n",
        "\n",
        "conf_matrix = pd.crosstab(\n",
        "    df_disagreement['rf_pred'],\n",
        "    df_disagreement['roberta_pred'],\n",
        "    rownames=[\"RF prediction\"], colnames=[\"RoBERTa prediction\"]\n",
        ")\n",
        "\n",
        "plt.figure(figsize=(6, 5))\n",
        "sns.heatmap(conf_matrix, annot=True, fmt='d', cmap=\"Blues\")\n",
        "plt.title(\"Disagreement Matrix (Prediction Counts)\")\n",
        "plt.show()\n"
      ],
      "metadata": {
        "id": "DKUaX0GiSbQ2"
      },
      "execution_count": null,
      "outputs": []
    },
    {
      "cell_type": "markdown",
      "source": [
        "Per-Publisher Hyperpartisan Prediction % (Barplot)"
      ],
      "metadata": {
        "id": "7eCznI64ShDn"
      }
    },
    {
      "cell_type": "code",
      "source": [
        "# Combine results from both models\n",
        "df_rf = consistent_df_rf.set_index(\"domain\")\n",
        "df_roberta = consistent_df_roberta.set_index(\"domain\")\n",
        "combined = pd.concat([df_rf[\"percentage_hyper\"], df_roberta[\"percentage_hyper\"]], axis=1)\n",
        "combined.columns = [\"Random Forest\", \"RoBERTa\"]\n",
        "\n",
        "# Filter top 10 publishers by article count\n",
        "top_publishers = df_rf.sort_values(\"article_count\", ascending=False).head(10).index\n",
        "combined = combined.loc[top_publishers]\n",
        "\n",
        "# Plot\n",
        "combined.plot(kind=\"bar\", figsize=(12, 6))\n",
        "plt.ylabel(\"% Predicted Hyperpartisan\")\n",
        "plt.title(\"Top Publishers: Hyperpartisan % by Model\")\n",
        "plt.xticks(rotation=45, ha=\"right\")\n",
        "plt.grid(True, axis='y')\n",
        "plt.tight_layout()\n",
        "plt.show()\n"
      ],
      "metadata": {
        "id": "ZSSUabAOSjhu"
      },
      "execution_count": null,
      "outputs": []
    }
  ]
}