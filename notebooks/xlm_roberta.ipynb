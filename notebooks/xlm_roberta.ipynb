{
 "cells": [
  {
   "cell_type": "code",
   "execution_count": null,
   "metadata": {},
   "outputs": [
    {
     "name": "stderr",
     "output_type": "stream",
     "text": [
      "2025-04-06 09:54:24.693805: I tensorflow/core/util/port.cc:153] oneDNN custom operations are on. You may see slightly different numerical results due to floating-point round-off errors from different computation orders. To turn them off, set the environment variable `TF_ENABLE_ONEDNN_OPTS=0`.\n",
      "2025-04-06 09:54:24.926996: E external/local_xla/xla/stream_executor/cuda/cuda_fft.cc:467] Unable to register cuFFT factory: Attempting to register factory for plugin cuFFT when one has already been registered\n",
      "WARNING: All log messages before absl::InitializeLog() is called are written to STDERR\n",
      "E0000 00:00:1743926065.008641    2067 cuda_dnn.cc:8579] Unable to register cuDNN factory: Attempting to register factory for plugin cuDNN when one has already been registered\n",
      "E0000 00:00:1743926065.035449    2067 cuda_blas.cc:1407] Unable to register cuBLAS factory: Attempting to register factory for plugin cuBLAS when one has already been registered\n",
      "W0000 00:00:1743926065.238629    2067 computation_placer.cc:177] computation placer already registered. Please check linkage and avoid linking the same target more than once.\n",
      "W0000 00:00:1743926065.238683    2067 computation_placer.cc:177] computation placer already registered. Please check linkage and avoid linking the same target more than once.\n",
      "W0000 00:00:1743926065.238685    2067 computation_placer.cc:177] computation placer already registered. Please check linkage and avoid linking the same target more than once.\n",
      "W0000 00:00:1743926065.238686    2067 computation_placer.cc:177] computation placer already registered. Please check linkage and avoid linking the same target more than once.\n",
      "2025-04-06 09:54:25.261369: I tensorflow/core/platform/cpu_feature_guard.cc:210] This TensorFlow binary is optimized to use available CPU instructions in performance-critical operations.\n",
      "To enable the following instructions: AVX2 AVX512F AVX512_VNNI AVX512_BF16 FMA, in other operations, rebuild TensorFlow with the appropriate compiler flags.\n"
     ]
    }
   ],
   "source": [
    "import sys\n",
    "import os\n",
    "sys.path.append(os.path.abspath(os.path.join(os.getcwd(), \"..\")))\n",
    "from src.utils import load_cleaned_data, split, compute_metrics, load_config, plot_confusion_matrix, metrics, apply_oversampling, store_metrics\n",
    "from transformers import (\n",
    "    XLMRobertaTokenizer, \n",
    "    XLMRobertaForSequenceClassification,\n",
    "    XLMRobertaConfig,\n",
    "    Trainer,\n",
    "    TrainingArguments,\n",
    "    DataCollatorWithPadding,\n",
    "    EarlyStoppingCallback,\n",
    "    set_seed,\n",
    "    )\n",
    "import numpy as np\n",
    "import torch\n",
    "from sklearn.model_selection import KFold\n",
    "import matplotlib.pyplot as plt\n",
    "import pandas as pd\n",
    "import time\n",
    "from datetime import datetime\n",
    "from datasets import Dataset as HFDataset\n"
   ]
  },
  {
   "cell_type": "code",
   "execution_count": null,
   "metadata": {},
   "outputs": [
    {
     "name": "stdout",
     "output_type": "stream",
     "text": [
      "Total samples: 645\n",
      "Label distribution: {0: 407, 1: 238}\n",
      "\n",
      "Sample article (non-hyperpartisan):\n",
      "It's 1968 All Over Again. Almost a half-century ago, in 1968, the United States seemed to be falling apart. The Vietnam War, a bitter and close presidential election, antiwar protests, racial riots, p...\n",
      "\n",
      "Sample article (hyperpartisan):\n",
      "Kucinich: Reclaiming the money power. Money ( Image by 401(K) 2013 ) Permission Details DMCA No Pill Can Stop Tinnitus, But This 1 Weird Trick Can The walls are closing in on Congress. Terrifying wall...\n"
     ]
    }
   ],
   "source": [
    "run_timestamp = datetime.now().strftime(\"%Y%m%d_%H%M%S\")\n",
    "run_id = f\"run_{run_timestamp}\"\n",
    "config = load_config(\"../cfg/xlm_roberta.json\")\n",
    "\n",
    "# Set seeds\n",
    "torch.backends.cudnn.deterministic = True\n",
    "set_seed(config[\"seed\"]) # Transformers\n",
    "\n",
    "data = load_cleaned_data(config[\"data\"][\"preprocessed_data_path\"])\n",
    "X = data[\"full_text\"]\n",
    "y = data[\"label\"]\n",
    "\n",
    "print(f\"Total samples: {len(data)}\")\n",
    "print(f\"Label distribution: {y.value_counts().to_dict()}\")\n",
    "\n",
    "print(\"\\nSample article (non-hyperpartisan):\")\n",
    "print(X[y == 0].iloc[0][:200] + \"...\")\n",
    "print(\"\\nSample article (hyperpartisan):\")\n",
    "print(X[y == 1].iloc[0][:200] + \"...\")\n",
    "\n"
   ]
  },
  {
   "cell_type": "code",
   "execution_count": 3,
   "metadata": {},
   "outputs": [
    {
     "name": "stderr",
     "output_type": "stream",
     "text": [
      "Token indices sequence length is longer than the specified maximum sequence length for this model (2031 > 512). Running this sequence through the model will result in indexing errors\n"
     ]
    },
    {
     "name": "stdout",
     "output_type": "stream",
     "text": [
      "Number of articles with more than 512 tokens: 376\n"
     ]
    }
   ],
   "source": [
    "# Set up model name and tokenizer from config\n",
    "model_name = config[\"model\"][\"base_model\"]\n",
    "tokenizer = XLMRobertaTokenizer.from_pretrained(model_name)\n",
    "\n",
    "# Print the number of articles with more than 512 tokens\n",
    "def count_tokens(article):\n",
    "    return len(tokenizer(article)[\"input_ids\"])\n",
    "long_articles = X[X.apply(count_tokens) > 512]\n",
    "print(f\"Number of articles with more than 512 tokens: {len(long_articles)}\")\n",
    "\n",
    "# Set up XLM-RoBERTa configuration from config\n",
    "xlm_roberta_config = XLMRobertaConfig.from_pretrained(model_name)\n",
    "xlm_roberta_config.classifier_dropout = config[\"model\"][\"classifier_dropout\"]\n",
    "xlm_roberta_config.num_labels = config[\"model\"][\"num_labels\"]\n",
    "\n",
    "\n",
    "def tokenize_texts(texts, labels, tokenizer, is_training=True):\n",
    "    \"\"\"Tokenize texts with sliding window only during training\"\"\"\n",
    "    dataset_dict = {\"text\": texts.tolist(), \"label\": labels.tolist()}\n",
    "    dataset = HFDataset.from_dict(dataset_dict)\n",
    "    \n",
    "    def tokenize_function(examples):\n",
    "        # Only use sliding window during training\n",
    "        if is_training:\n",
    "            tokenized = tokenizer(\n",
    "                examples[\"text\"],\n",
    "                padding=config[\"tokenizer\"][\"padding\"],\n",
    "                truncation=config[\"tokenizer\"][\"truncation\"],\n",
    "                max_length=config[\"data\"][\"max_length\"],\n",
    "                add_special_tokens=config[\"tokenizer\"][\"add_special_tokens\"],\n",
    "                return_tensors=config[\"tokenizer\"][\"return_tensors\"],\n",
    "                stride=config[\"tokenizer\"][\"stride\"],\n",
    "                return_overflowing_tokens=config[\"tokenizer\"][\"return_overflowing_tokens\"],\n",
    "            )\n",
    "            \n",
    "            # Map labels to chunks\n",
    "            if \"overflow_to_sample_mapping\" in tokenized:\n",
    "                sample_map = tokenized.pop(\"overflow_to_sample_mapping\")\n",
    "                labels = []\n",
    "                for i in sample_map:\n",
    "                    labels.append(examples[\"label\"][i])\n",
    "                return {**tokenized, \"label\": labels}\n",
    "        else:\n",
    "            # Standard tokenization for prediction\n",
    "            return tokenizer(\n",
    "                examples[\"text\"],\n",
    "                padding=config[\"tokenizer\"][\"padding\"],\n",
    "                truncation=config[\"tokenizer\"][\"truncation\"],\n",
    "                max_length=config[\"data\"][\"max_length\"],\n",
    "                add_special_tokens=config[\"tokenizer\"][\"add_special_tokens\"],\n",
    "                return_tensors=config[\"tokenizer\"][\"return_tensors\"]\n",
    "            )\n",
    "        \n",
    "        return tokenized\n",
    "    \n",
    "    # Map tokenization function\n",
    "    tokenized_dataset = dataset.map(\n",
    "        tokenize_function, \n",
    "        batched=config[\"tokenizer\"][\"batch_process\"], \n",
    "        remove_columns=config[\"tokenizer\"][\"remove_columns\"]\n",
    "    )\n",
    "    \n",
    "    # Format for PyTorch\n",
    "    tokenized_dataset.set_format(\n",
    "        type=config[\"tokenizer\"][\"format_type\"], \n",
    "        columns=config[\"tokenizer\"][\"format_columns\"]\n",
    "    )\n",
    "    \n",
    "    return tokenized_dataset\n",
    "\n",
    "#def tokenize_texts(texts, labels, tokenizer):\n",
    "#    \"\"\"Tokenize texts and prepare for model input\"\"\"\n",
    "#    dataset_dict = {\"text\": texts.tolist(), \"label\": labels.tolist()}\n",
    "#    dataset = HFDataset.from_dict(dataset_dict)\n",
    "#    \n",
    "#    def tokenize_function(examples):\n",
    "#        return tokenizer(\n",
    "#            examples[\"text\"],\n",
    "#            padding=config[\"tokenizer\"][\"padding\"],\n",
    "#            truncation=config[\"tokenizer\"][\"truncation\"],\n",
    "#            max_length=config[\"data\"][\"max_length\"],\n",
    "#            add_special_tokens=config[\"tokenizer\"][\"add_special_tokens\"],\n",
    "#            return_tensors=config[\"tokenizer\"][\"return_tensors\"],\n",
    "#            stride=config[\"tokenizer\"][\"stride\"],\n",
    "#            return_overflowing_tokens=config[\"tokenizer\"][\"return_overflowing_tokens\"],\n",
    "#        )\n",
    "#    \n",
    "#    # Map tokenization function\n",
    "#    tokenized_dataset = dataset.map(\n",
    "#        tokenize_function, \n",
    "#        batched=config[\"tokenizer\"][\"batch_process\"], \n",
    "#        remove_columns=config[\"tokenizer\"][\"remove_columns\"]\n",
    "#    )\n",
    "#    \n",
    "#    # Format for PyTorch\n",
    "#    tokenized_dataset.set_format(\n",
    "#        type=config[\"tokenizer\"][\"format_type\"], \n",
    "#        columns=config[\"tokenizer\"][\"format_columns\"]\n",
    "#    )\n",
    "#    \n",
    "#    return tokenized_dataset"
   ]
  },
  {
   "cell_type": "code",
   "execution_count": 4,
   "metadata": {},
   "outputs": [
    {
     "name": "stdout",
     "output_type": "stream",
     "text": [
      "Using device: cuda\n"
     ]
    }
   ],
   "source": [
    "# Set up device\n",
    "device = None\n",
    "if torch.cuda.is_available():\n",
    "    torch.cuda.empty_cache()\n",
    "    device = torch.device(\"cuda\")\n",
    "else:\n",
    "    device = torch.device(\"cpu\")\n",
    "    print(\"No GPU available, using CPU.\")\n",
    "print(f\"Using device: {device}\")"
   ]
  },
  {
   "cell_type": "code",
   "execution_count": null,
   "metadata": {},
   "outputs": [
    {
     "name": "stdout",
     "output_type": "stream",
     "text": [
      "\n",
      "=== Fold 1/5 ===\n"
     ]
    },
    {
     "data": {
      "application/vnd.jupyter.widget-view+json": {
       "model_id": "7fbd3a9872024ea3a0baa0c39feb52f5",
       "version_major": 2,
       "version_minor": 0
      },
      "text/plain": [
       "Map:   0%|          | 0/412 [00:00<?, ? examples/s]"
      ]
     },
     "metadata": {},
     "output_type": "display_data"
    },
    {
     "data": {
      "application/vnd.jupyter.widget-view+json": {
       "model_id": "70c59ea0a3e84d8f95afbe6d1eccddb0",
       "version_major": 2,
       "version_minor": 0
      },
      "text/plain": [
       "Map:   0%|          | 0/104 [00:00<?, ? examples/s]"
      ]
     },
     "metadata": {},
     "output_type": "display_data"
    },
    {
     "name": "stderr",
     "output_type": "stream",
     "text": [
      "Some weights of XLMRobertaForSequenceClassification were not initialized from the model checkpoint at xlm-roberta-base and are newly initialized: ['classifier.dense.bias', 'classifier.dense.weight', 'classifier.out_proj.bias', 'classifier.out_proj.weight']\n",
      "You should probably TRAIN this model on a down-stream task to be able to use it for predictions and inference.\n",
      "/home/tinnitussen/DAT550/DAT550-2025---Hyperpartisan-News-Detection-/.venv/lib/python3.12/site-packages/transformers/training_args.py:1611: FutureWarning: `evaluation_strategy` is deprecated and will be removed in version 4.46 of 🤗 Transformers. Use `eval_strategy` instead\n",
      "  warnings.warn(\n",
      "/tmp/ipykernel_2067/1993321813.py:65: FutureWarning: `tokenizer` is deprecated and will be removed in version 5.0.0 for `Trainer.__init__`. Use `processing_class` instead.\n",
      "  trainer = Trainer(\n"
     ]
    },
    {
     "data": {
      "text/html": [
       "\n",
       "    <div>\n",
       "      \n",
       "      <progress value='572' max='780' style='width:300px; height:20px; vertical-align: middle;'></progress>\n",
       "      [572/780 06:25 < 02:20, 1.48 it/s, Epoch 11/15]\n",
       "    </div>\n",
       "    <table border=\"1\" class=\"dataframe\">\n",
       "  <thead>\n",
       " <tr style=\"text-align: left;\">\n",
       "      <th>Epoch</th>\n",
       "      <th>Training Loss</th>\n",
       "      <th>Validation Loss</th>\n",
       "      <th>Balanced Accuracy</th>\n",
       "      <th>Precision</th>\n",
       "      <th>Recall</th>\n",
       "      <th>F1</th>\n",
       "    </tr>\n",
       "  </thead>\n",
       "  <tbody>\n",
       "    <tr>\n",
       "      <td>1</td>\n",
       "      <td>No log</td>\n",
       "      <td>0.716947</td>\n",
       "      <td>0.500000</td>\n",
       "      <td>0.000000</td>\n",
       "      <td>0.000000</td>\n",
       "      <td>0.000000</td>\n",
       "    </tr>\n",
       "    <tr>\n",
       "      <td>2</td>\n",
       "      <td>No log</td>\n",
       "      <td>0.556669</td>\n",
       "      <td>0.705962</td>\n",
       "      <td>0.650000</td>\n",
       "      <td>0.634146</td>\n",
       "      <td>0.641975</td>\n",
       "    </tr>\n",
       "    <tr>\n",
       "      <td>3</td>\n",
       "      <td>No log</td>\n",
       "      <td>0.568340</td>\n",
       "      <td>0.730933</td>\n",
       "      <td>0.638298</td>\n",
       "      <td>0.731707</td>\n",
       "      <td>0.681818</td>\n",
       "    </tr>\n",
       "    <tr>\n",
       "      <td>4</td>\n",
       "      <td>No log</td>\n",
       "      <td>0.874342</td>\n",
       "      <td>0.688347</td>\n",
       "      <td>0.740741</td>\n",
       "      <td>0.487805</td>\n",
       "      <td>0.588235</td>\n",
       "    </tr>\n",
       "    <tr>\n",
       "      <td>5</td>\n",
       "      <td>No log</td>\n",
       "      <td>1.010773</td>\n",
       "      <td>0.754162</td>\n",
       "      <td>0.717949</td>\n",
       "      <td>0.682927</td>\n",
       "      <td>0.700000</td>\n",
       "    </tr>\n",
       "    <tr>\n",
       "      <td>6</td>\n",
       "      <td>No log</td>\n",
       "      <td>1.361909</td>\n",
       "      <td>0.626210</td>\n",
       "      <td>0.916667</td>\n",
       "      <td>0.268293</td>\n",
       "      <td>0.415094</td>\n",
       "    </tr>\n",
       "    <tr>\n",
       "      <td>7</td>\n",
       "      <td>No log</td>\n",
       "      <td>1.220431</td>\n",
       "      <td>0.786489</td>\n",
       "      <td>0.750000</td>\n",
       "      <td>0.731707</td>\n",
       "      <td>0.740741</td>\n",
       "    </tr>\n",
       "    <tr>\n",
       "      <td>8</td>\n",
       "      <td>No log</td>\n",
       "      <td>1.302074</td>\n",
       "      <td>0.785908</td>\n",
       "      <td>0.800000</td>\n",
       "      <td>0.682927</td>\n",
       "      <td>0.736842</td>\n",
       "    </tr>\n",
       "    <tr>\n",
       "      <td>9</td>\n",
       "      <td>No log</td>\n",
       "      <td>1.704621</td>\n",
       "      <td>0.720674</td>\n",
       "      <td>0.785714</td>\n",
       "      <td>0.536585</td>\n",
       "      <td>0.637681</td>\n",
       "    </tr>\n",
       "    <tr>\n",
       "      <td>10</td>\n",
       "      <td>0.295900</td>\n",
       "      <td>1.581261</td>\n",
       "      <td>0.766357</td>\n",
       "      <td>0.725000</td>\n",
       "      <td>0.707317</td>\n",
       "      <td>0.716049</td>\n",
       "    </tr>\n",
       "    <tr>\n",
       "      <td>11</td>\n",
       "      <td>0.295900</td>\n",
       "      <td>1.633010</td>\n",
       "      <td>0.757259</td>\n",
       "      <td>0.806452</td>\n",
       "      <td>0.609756</td>\n",
       "      <td>0.694444</td>\n",
       "    </tr>\n",
       "  </tbody>\n",
       "</table><p>"
      ],
      "text/plain": [
       "<IPython.core.display.HTML object>"
      ]
     },
     "metadata": {},
     "output_type": "display_data"
    },
    {
     "data": {
      "text/html": [
       "\n",
       "    <div>\n",
       "      \n",
       "      <progress value='13' max='13' style='width:300px; height:20px; vertical-align: middle;'></progress>\n",
       "      [13/13 00:00]\n",
       "    </div>\n",
       "    "
      ],
      "text/plain": [
       "<IPython.core.display.HTML object>"
      ]
     },
     "metadata": {},
     "output_type": "display_data"
    },
    {
     "name": "stdout",
     "output_type": "stream",
     "text": [
      "Saved best model from fold 1 (best F1: 0.7407407407407407)\n",
      "\n",
      "=== Fold 2/5 ===\n"
     ]
    },
    {
     "data": {
      "application/vnd.jupyter.widget-view+json": {
       "model_id": "332d1be3c5634821ad70976fd2f3d092",
       "version_major": 2,
       "version_minor": 0
      },
      "text/plain": [
       "Map:   0%|          | 0/413 [00:03<?, ? examples/s]"
      ]
     },
     "metadata": {},
     "output_type": "display_data"
    },
    {
     "data": {
      "application/vnd.jupyter.widget-view+json": {
       "model_id": "007dca751ee24e45bc515f862d62c209",
       "version_major": 2,
       "version_minor": 0
      },
      "text/plain": [
       "Map:   0%|          | 0/103 [00:00<?, ? examples/s]"
      ]
     },
     "metadata": {},
     "output_type": "display_data"
    },
    {
     "name": "stderr",
     "output_type": "stream",
     "text": [
      "Some weights of XLMRobertaForSequenceClassification were not initialized from the model checkpoint at xlm-roberta-base and are newly initialized: ['classifier.dense.bias', 'classifier.dense.weight', 'classifier.out_proj.bias', 'classifier.out_proj.weight']\n",
      "You should probably TRAIN this model on a down-stream task to be able to use it for predictions and inference.\n",
      "/home/tinnitussen/DAT550/DAT550-2025---Hyperpartisan-News-Detection-/.venv/lib/python3.12/site-packages/transformers/training_args.py:1611: FutureWarning: `evaluation_strategy` is deprecated and will be removed in version 4.46 of 🤗 Transformers. Use `eval_strategy` instead\n",
      "  warnings.warn(\n",
      "/tmp/ipykernel_2067/1993321813.py:65: FutureWarning: `tokenizer` is deprecated and will be removed in version 5.0.0 for `Trainer.__init__`. Use `processing_class` instead.\n",
      "  trainer = Trainer(\n"
     ]
    },
    {
     "data": {
      "text/html": [
       "\n",
       "    <div>\n",
       "      \n",
       "      <progress value='312' max='780' style='width:300px; height:20px; vertical-align: middle;'></progress>\n",
       "      [312/780 03:45 < 05:40, 1.37 it/s, Epoch 6/15]\n",
       "    </div>\n",
       "    <table border=\"1\" class=\"dataframe\">\n",
       "  <thead>\n",
       " <tr style=\"text-align: left;\">\n",
       "      <th>Epoch</th>\n",
       "      <th>Training Loss</th>\n",
       "      <th>Validation Loss</th>\n",
       "      <th>Balanced Accuracy</th>\n",
       "      <th>Precision</th>\n",
       "      <th>Recall</th>\n",
       "      <th>F1</th>\n",
       "    </tr>\n",
       "  </thead>\n",
       "  <tbody>\n",
       "    <tr>\n",
       "      <td>1</td>\n",
       "      <td>No log</td>\n",
       "      <td>0.634024</td>\n",
       "      <td>0.500000</td>\n",
       "      <td>0.000000</td>\n",
       "      <td>0.000000</td>\n",
       "      <td>0.000000</td>\n",
       "    </tr>\n",
       "    <tr>\n",
       "      <td>2</td>\n",
       "      <td>No log</td>\n",
       "      <td>0.580690</td>\n",
       "      <td>0.759454</td>\n",
       "      <td>0.566038</td>\n",
       "      <td>0.857143</td>\n",
       "      <td>0.681818</td>\n",
       "    </tr>\n",
       "    <tr>\n",
       "      <td>3</td>\n",
       "      <td>No log</td>\n",
       "      <td>0.542270</td>\n",
       "      <td>0.684454</td>\n",
       "      <td>0.727273</td>\n",
       "      <td>0.457143</td>\n",
       "      <td>0.561404</td>\n",
       "    </tr>\n",
       "    <tr>\n",
       "      <td>4</td>\n",
       "      <td>No log</td>\n",
       "      <td>0.700500</td>\n",
       "      <td>0.712605</td>\n",
       "      <td>0.703704</td>\n",
       "      <td>0.542857</td>\n",
       "      <td>0.612903</td>\n",
       "    </tr>\n",
       "    <tr>\n",
       "      <td>5</td>\n",
       "      <td>No log</td>\n",
       "      <td>1.041705</td>\n",
       "      <td>0.755042</td>\n",
       "      <td>0.696970</td>\n",
       "      <td>0.657143</td>\n",
       "      <td>0.676471</td>\n",
       "    </tr>\n",
       "    <tr>\n",
       "      <td>6</td>\n",
       "      <td>No log</td>\n",
       "      <td>1.175876</td>\n",
       "      <td>0.713025</td>\n",
       "      <td>0.750000</td>\n",
       "      <td>0.514286</td>\n",
       "      <td>0.610169</td>\n",
       "    </tr>\n",
       "  </tbody>\n",
       "</table><p>"
      ],
      "text/plain": [
       "<IPython.core.display.HTML object>"
      ]
     },
     "metadata": {},
     "output_type": "display_data"
    },
    {
     "data": {
      "text/html": [
       "\n",
       "    <div>\n",
       "      \n",
       "      <progress value='13' max='13' style='width:300px; height:20px; vertical-align: middle;'></progress>\n",
       "      [13/13 00:00]\n",
       "    </div>\n",
       "    "
      ],
      "text/plain": [
       "<IPython.core.display.HTML object>"
      ]
     },
     "metadata": {},
     "output_type": "display_data"
    },
    {
     "name": "stdout",
     "output_type": "stream",
     "text": [
      "Saved best model from fold 2 (best F1: 0.6818181818181818)\n",
      "\n",
      "=== Fold 3/5 ===\n"
     ]
    },
    {
     "data": {
      "application/vnd.jupyter.widget-view+json": {
       "model_id": "73c6ae5e1e074bdea03045a5844d0915",
       "version_major": 2,
       "version_minor": 0
      },
      "text/plain": [
       "Map:   0%|          | 0/413 [00:00<?, ? examples/s]"
      ]
     },
     "metadata": {},
     "output_type": "display_data"
    },
    {
     "data": {
      "application/vnd.jupyter.widget-view+json": {
       "model_id": "77a5c710f2234bec8978262508a0a76f",
       "version_major": 2,
       "version_minor": 0
      },
      "text/plain": [
       "Map:   0%|          | 0/103 [00:00<?, ? examples/s]"
      ]
     },
     "metadata": {},
     "output_type": "display_data"
    },
    {
     "name": "stderr",
     "output_type": "stream",
     "text": [
      "Some weights of XLMRobertaForSequenceClassification were not initialized from the model checkpoint at xlm-roberta-base and are newly initialized: ['classifier.dense.bias', 'classifier.dense.weight', 'classifier.out_proj.bias', 'classifier.out_proj.weight']\n",
      "You should probably TRAIN this model on a down-stream task to be able to use it for predictions and inference.\n",
      "/home/tinnitussen/DAT550/DAT550-2025---Hyperpartisan-News-Detection-/.venv/lib/python3.12/site-packages/transformers/training_args.py:1611: FutureWarning: `evaluation_strategy` is deprecated and will be removed in version 4.46 of 🤗 Transformers. Use `eval_strategy` instead\n",
      "  warnings.warn(\n",
      "/tmp/ipykernel_2067/1993321813.py:65: FutureWarning: `tokenizer` is deprecated and will be removed in version 5.0.0 for `Trainer.__init__`. Use `processing_class` instead.\n",
      "  trainer = Trainer(\n"
     ]
    },
    {
     "data": {
      "text/html": [
       "\n",
       "    <div>\n",
       "      \n",
       "      <progress value='364' max='780' style='width:300px; height:20px; vertical-align: middle;'></progress>\n",
       "      [364/780 03:41 < 04:14, 1.63 it/s, Epoch 7/15]\n",
       "    </div>\n",
       "    <table border=\"1\" class=\"dataframe\">\n",
       "  <thead>\n",
       " <tr style=\"text-align: left;\">\n",
       "      <th>Epoch</th>\n",
       "      <th>Training Loss</th>\n",
       "      <th>Validation Loss</th>\n",
       "      <th>Balanced Accuracy</th>\n",
       "      <th>Precision</th>\n",
       "      <th>Recall</th>\n",
       "      <th>F1</th>\n",
       "    </tr>\n",
       "  </thead>\n",
       "  <tbody>\n",
       "    <tr>\n",
       "      <td>1</td>\n",
       "      <td>No log</td>\n",
       "      <td>0.548874</td>\n",
       "      <td>0.692063</td>\n",
       "      <td>0.941176</td>\n",
       "      <td>0.400000</td>\n",
       "      <td>0.561404</td>\n",
       "    </tr>\n",
       "    <tr>\n",
       "      <td>2</td>\n",
       "      <td>No log</td>\n",
       "      <td>0.583756</td>\n",
       "      <td>0.737500</td>\n",
       "      <td>1.000000</td>\n",
       "      <td>0.475000</td>\n",
       "      <td>0.644068</td>\n",
       "    </tr>\n",
       "    <tr>\n",
       "      <td>3</td>\n",
       "      <td>No log</td>\n",
       "      <td>0.515132</td>\n",
       "      <td>0.801389</td>\n",
       "      <td>0.702128</td>\n",
       "      <td>0.825000</td>\n",
       "      <td>0.758621</td>\n",
       "    </tr>\n",
       "    <tr>\n",
       "      <td>4</td>\n",
       "      <td>No log</td>\n",
       "      <td>0.503597</td>\n",
       "      <td>0.790079</td>\n",
       "      <td>0.666667</td>\n",
       "      <td>0.850000</td>\n",
       "      <td>0.747253</td>\n",
       "    </tr>\n",
       "    <tr>\n",
       "      <td>5</td>\n",
       "      <td>No log</td>\n",
       "      <td>1.110566</td>\n",
       "      <td>0.700000</td>\n",
       "      <td>1.000000</td>\n",
       "      <td>0.400000</td>\n",
       "      <td>0.571429</td>\n",
       "    </tr>\n",
       "    <tr>\n",
       "      <td>6</td>\n",
       "      <td>No log</td>\n",
       "      <td>0.794325</td>\n",
       "      <td>0.771627</td>\n",
       "      <td>0.920000</td>\n",
       "      <td>0.575000</td>\n",
       "      <td>0.707692</td>\n",
       "    </tr>\n",
       "    <tr>\n",
       "      <td>7</td>\n",
       "      <td>No log</td>\n",
       "      <td>1.001501</td>\n",
       "      <td>0.799008</td>\n",
       "      <td>0.783784</td>\n",
       "      <td>0.725000</td>\n",
       "      <td>0.753247</td>\n",
       "    </tr>\n",
       "  </tbody>\n",
       "</table><p>"
      ],
      "text/plain": [
       "<IPython.core.display.HTML object>"
      ]
     },
     "metadata": {},
     "output_type": "display_data"
    },
    {
     "data": {
      "text/html": [
       "\n",
       "    <div>\n",
       "      \n",
       "      <progress value='13' max='13' style='width:300px; height:20px; vertical-align: middle;'></progress>\n",
       "      [13/13 00:00]\n",
       "    </div>\n",
       "    "
      ],
      "text/plain": [
       "<IPython.core.display.HTML object>"
      ]
     },
     "metadata": {},
     "output_type": "display_data"
    },
    {
     "name": "stdout",
     "output_type": "stream",
     "text": [
      "Saved best model from fold 3 (best F1: 0.7586206896551724)\n",
      "\n",
      "=== Fold 4/5 ===\n"
     ]
    },
    {
     "data": {
      "application/vnd.jupyter.widget-view+json": {
       "model_id": "7f5e032c162b48d6836f3a9644b9f5ee",
       "version_major": 2,
       "version_minor": 0
      },
      "text/plain": [
       "Map:   0%|          | 0/413 [00:00<?, ? examples/s]"
      ]
     },
     "metadata": {},
     "output_type": "display_data"
    },
    {
     "data": {
      "application/vnd.jupyter.widget-view+json": {
       "model_id": "026ea5ec910f4b2e9b933b322f3d2ec6",
       "version_major": 2,
       "version_minor": 0
      },
      "text/plain": [
       "Map:   0%|          | 0/103 [00:00<?, ? examples/s]"
      ]
     },
     "metadata": {},
     "output_type": "display_data"
    },
    {
     "name": "stderr",
     "output_type": "stream",
     "text": [
      "Some weights of XLMRobertaForSequenceClassification were not initialized from the model checkpoint at xlm-roberta-base and are newly initialized: ['classifier.dense.bias', 'classifier.dense.weight', 'classifier.out_proj.bias', 'classifier.out_proj.weight']\n",
      "You should probably TRAIN this model on a down-stream task to be able to use it for predictions and inference.\n",
      "/home/tinnitussen/DAT550/DAT550-2025---Hyperpartisan-News-Detection-/.venv/lib/python3.12/site-packages/transformers/training_args.py:1611: FutureWarning: `evaluation_strategy` is deprecated and will be removed in version 4.46 of 🤗 Transformers. Use `eval_strategy` instead\n",
      "  warnings.warn(\n",
      "/tmp/ipykernel_2067/1993321813.py:65: FutureWarning: `tokenizer` is deprecated and will be removed in version 5.0.0 for `Trainer.__init__`. Use `processing_class` instead.\n",
      "  trainer = Trainer(\n"
     ]
    },
    {
     "data": {
      "text/html": [
       "\n",
       "    <div>\n",
       "      \n",
       "      <progress value='364' max='780' style='width:300px; height:20px; vertical-align: middle;'></progress>\n",
       "      [364/780 03:17 < 03:46, 1.83 it/s, Epoch 7/15]\n",
       "    </div>\n",
       "    <table border=\"1\" class=\"dataframe\">\n",
       "  <thead>\n",
       " <tr style=\"text-align: left;\">\n",
       "      <th>Epoch</th>\n",
       "      <th>Training Loss</th>\n",
       "      <th>Validation Loss</th>\n",
       "      <th>Balanced Accuracy</th>\n",
       "      <th>Precision</th>\n",
       "      <th>Recall</th>\n",
       "      <th>F1</th>\n",
       "    </tr>\n",
       "  </thead>\n",
       "  <tbody>\n",
       "    <tr>\n",
       "      <td>1</td>\n",
       "      <td>No log</td>\n",
       "      <td>0.600170</td>\n",
       "      <td>0.500000</td>\n",
       "      <td>0.000000</td>\n",
       "      <td>0.000000</td>\n",
       "      <td>0.000000</td>\n",
       "    </tr>\n",
       "    <tr>\n",
       "      <td>2</td>\n",
       "      <td>No log</td>\n",
       "      <td>0.484075</td>\n",
       "      <td>0.806977</td>\n",
       "      <td>0.744681</td>\n",
       "      <td>0.813953</td>\n",
       "      <td>0.777778</td>\n",
       "    </tr>\n",
       "    <tr>\n",
       "      <td>3</td>\n",
       "      <td>No log</td>\n",
       "      <td>0.447501</td>\n",
       "      <td>0.842054</td>\n",
       "      <td>0.868421</td>\n",
       "      <td>0.767442</td>\n",
       "      <td>0.814815</td>\n",
       "    </tr>\n",
       "    <tr>\n",
       "      <td>4</td>\n",
       "      <td>No log</td>\n",
       "      <td>0.661361</td>\n",
       "      <td>0.797287</td>\n",
       "      <td>0.931034</td>\n",
       "      <td>0.627907</td>\n",
       "      <td>0.750000</td>\n",
       "    </tr>\n",
       "    <tr>\n",
       "      <td>5</td>\n",
       "      <td>No log</td>\n",
       "      <td>0.535406</td>\n",
       "      <td>0.842054</td>\n",
       "      <td>0.868421</td>\n",
       "      <td>0.767442</td>\n",
       "      <td>0.814815</td>\n",
       "    </tr>\n",
       "    <tr>\n",
       "      <td>6</td>\n",
       "      <td>No log</td>\n",
       "      <td>0.838897</td>\n",
       "      <td>0.828488</td>\n",
       "      <td>0.722222</td>\n",
       "      <td>0.906977</td>\n",
       "      <td>0.804124</td>\n",
       "    </tr>\n",
       "    <tr>\n",
       "      <td>7</td>\n",
       "      <td>No log</td>\n",
       "      <td>0.920536</td>\n",
       "      <td>0.820155</td>\n",
       "      <td>0.709091</td>\n",
       "      <td>0.906977</td>\n",
       "      <td>0.795918</td>\n",
       "    </tr>\n",
       "  </tbody>\n",
       "</table><p>"
      ],
      "text/plain": [
       "<IPython.core.display.HTML object>"
      ]
     },
     "metadata": {},
     "output_type": "display_data"
    },
    {
     "data": {
      "text/html": [
       "\n",
       "    <div>\n",
       "      \n",
       "      <progress value='13' max='13' style='width:300px; height:20px; vertical-align: middle;'></progress>\n",
       "      [13/13 00:00]\n",
       "    </div>\n",
       "    "
      ],
      "text/plain": [
       "<IPython.core.display.HTML object>"
      ]
     },
     "metadata": {},
     "output_type": "display_data"
    },
    {
     "name": "stdout",
     "output_type": "stream",
     "text": [
      "Saved best model from fold 4 (best F1: 0.8148148148148148)\n",
      "\n",
      "=== Fold 5/5 ===\n"
     ]
    },
    {
     "data": {
      "application/vnd.jupyter.widget-view+json": {
       "model_id": "f8f82d08d42c43abba3f0be70749303a",
       "version_major": 2,
       "version_minor": 0
      },
      "text/plain": [
       "Map:   0%|          | 0/413 [00:00<?, ? examples/s]"
      ]
     },
     "metadata": {},
     "output_type": "display_data"
    },
    {
     "data": {
      "application/vnd.jupyter.widget-view+json": {
       "model_id": "6bf78a23534f4d93852741cfd26ef239",
       "version_major": 2,
       "version_minor": 0
      },
      "text/plain": [
       "Map:   0%|          | 0/103 [00:00<?, ? examples/s]"
      ]
     },
     "metadata": {},
     "output_type": "display_data"
    },
    {
     "name": "stderr",
     "output_type": "stream",
     "text": [
      "Some weights of XLMRobertaForSequenceClassification were not initialized from the model checkpoint at xlm-roberta-base and are newly initialized: ['classifier.dense.bias', 'classifier.dense.weight', 'classifier.out_proj.bias', 'classifier.out_proj.weight']\n",
      "You should probably TRAIN this model on a down-stream task to be able to use it for predictions and inference.\n",
      "/home/tinnitussen/DAT550/DAT550-2025---Hyperpartisan-News-Detection-/.venv/lib/python3.12/site-packages/transformers/training_args.py:1611: FutureWarning: `evaluation_strategy` is deprecated and will be removed in version 4.46 of 🤗 Transformers. Use `eval_strategy` instead\n",
      "  warnings.warn(\n",
      "/tmp/ipykernel_2067/1993321813.py:65: FutureWarning: `tokenizer` is deprecated and will be removed in version 5.0.0 for `Trainer.__init__`. Use `processing_class` instead.\n",
      "  trainer = Trainer(\n"
     ]
    },
    {
     "data": {
      "text/html": [
       "\n",
       "    <div>\n",
       "      \n",
       "      <progress value='520' max='780' style='width:300px; height:20px; vertical-align: middle;'></progress>\n",
       "      [520/780 04:35 < 02:18, 1.88 it/s, Epoch 10/15]\n",
       "    </div>\n",
       "    <table border=\"1\" class=\"dataframe\">\n",
       "  <thead>\n",
       " <tr style=\"text-align: left;\">\n",
       "      <th>Epoch</th>\n",
       "      <th>Training Loss</th>\n",
       "      <th>Validation Loss</th>\n",
       "      <th>Balanced Accuracy</th>\n",
       "      <th>Precision</th>\n",
       "      <th>Recall</th>\n",
       "      <th>F1</th>\n",
       "    </tr>\n",
       "  </thead>\n",
       "  <tbody>\n",
       "    <tr>\n",
       "      <td>1</td>\n",
       "      <td>No log</td>\n",
       "      <td>0.465017</td>\n",
       "      <td>0.500000</td>\n",
       "      <td>0.000000</td>\n",
       "      <td>0.000000</td>\n",
       "      <td>0.000000</td>\n",
       "    </tr>\n",
       "    <tr>\n",
       "      <td>2</td>\n",
       "      <td>No log</td>\n",
       "      <td>0.439436</td>\n",
       "      <td>0.794803</td>\n",
       "      <td>0.833333</td>\n",
       "      <td>0.645161</td>\n",
       "      <td>0.727273</td>\n",
       "    </tr>\n",
       "    <tr>\n",
       "      <td>3</td>\n",
       "      <td>No log</td>\n",
       "      <td>0.426767</td>\n",
       "      <td>0.780914</td>\n",
       "      <td>0.769231</td>\n",
       "      <td>0.645161</td>\n",
       "      <td>0.701754</td>\n",
       "    </tr>\n",
       "    <tr>\n",
       "      <td>4</td>\n",
       "      <td>No log</td>\n",
       "      <td>0.542738</td>\n",
       "      <td>0.815412</td>\n",
       "      <td>0.741935</td>\n",
       "      <td>0.741935</td>\n",
       "      <td>0.741935</td>\n",
       "    </tr>\n",
       "    <tr>\n",
       "      <td>5</td>\n",
       "      <td>No log</td>\n",
       "      <td>1.190693</td>\n",
       "      <td>0.729167</td>\n",
       "      <td>0.442857</td>\n",
       "      <td>1.000000</td>\n",
       "      <td>0.613861</td>\n",
       "    </tr>\n",
       "    <tr>\n",
       "      <td>6</td>\n",
       "      <td>No log</td>\n",
       "      <td>0.562923</td>\n",
       "      <td>0.861559</td>\n",
       "      <td>0.806452</td>\n",
       "      <td>0.806452</td>\n",
       "      <td>0.806452</td>\n",
       "    </tr>\n",
       "    <tr>\n",
       "      <td>7</td>\n",
       "      <td>No log</td>\n",
       "      <td>0.737245</td>\n",
       "      <td>0.840726</td>\n",
       "      <td>0.735294</td>\n",
       "      <td>0.806452</td>\n",
       "      <td>0.769231</td>\n",
       "    </tr>\n",
       "    <tr>\n",
       "      <td>8</td>\n",
       "      <td>No log</td>\n",
       "      <td>0.604546</td>\n",
       "      <td>0.817876</td>\n",
       "      <td>0.875000</td>\n",
       "      <td>0.677419</td>\n",
       "      <td>0.763636</td>\n",
       "    </tr>\n",
       "    <tr>\n",
       "      <td>9</td>\n",
       "      <td>No log</td>\n",
       "      <td>0.627613</td>\n",
       "      <td>0.815412</td>\n",
       "      <td>0.741935</td>\n",
       "      <td>0.741935</td>\n",
       "      <td>0.741935</td>\n",
       "    </tr>\n",
       "    <tr>\n",
       "      <td>10</td>\n",
       "      <td>0.362700</td>\n",
       "      <td>0.915945</td>\n",
       "      <td>0.842966</td>\n",
       "      <td>0.702703</td>\n",
       "      <td>0.838710</td>\n",
       "      <td>0.764706</td>\n",
       "    </tr>\n",
       "  </tbody>\n",
       "</table><p>"
      ],
      "text/plain": [
       "<IPython.core.display.HTML object>"
      ]
     },
     "metadata": {},
     "output_type": "display_data"
    },
    {
     "data": {
      "text/html": [
       "\n",
       "    <div>\n",
       "      \n",
       "      <progress value='13' max='13' style='width:300px; height:20px; vertical-align: middle;'></progress>\n",
       "      [13/13 00:00]\n",
       "    </div>\n",
       "    "
      ],
      "text/plain": [
       "<IPython.core.display.HTML object>"
      ]
     },
     "metadata": {},
     "output_type": "display_data"
    },
    {
     "name": "stdout",
     "output_type": "stream",
     "text": [
      "Saved best model from fold 5 (best F1: 0.8064516129032258)\n"
     ]
    }
   ],
   "source": [
    "X_train, X_test, y_train, y_test = split(X, y)\n",
    "# Cross-validation setup from config\n",
    "n_splits = config[\"cross_validation\"][\"n_splits\"]\n",
    "kf = KFold(\n",
    "    n_splits=n_splits, \n",
    "    shuffle=config[\"cross_validation\"][\"shuffle\"], \n",
    "    random_state=config[\"cross_validation\"][\"random_state\"]\n",
    ")\n",
    "fold_results = []\n",
    "\n",
    "for fold, (train_idx, val_idx) in enumerate(kf.split(X_train)): # Important: Use X_train for cross-validation, not X\n",
    "    print(f\"\\n=== Fold {fold+1}/{n_splits} ===\")\n",
    "    \n",
    "    X_train_fold, X_val_fold = X_train.iloc[train_idx], X_train.iloc[val_idx]\n",
    "    y_train_fold, y_val_fold = y_train.iloc[train_idx], y_train.iloc[val_idx]\n",
    "    \n",
    "    # Apply class balancing if configured\n",
    "    if config[\"class_balancing\"][\"use_balancing\"]:\n",
    "        X_train_fold, y_train_fold = apply_oversampling(\n",
    "            X_train_fold, \n",
    "            y_train_fold, \n",
    "            config[\"class_balancing\"][\"oversampling_method\"]\n",
    "        )\n",
    "    \n",
    "    # Tokenize datasets\n",
    "    train_dataset = tokenize_texts(\n",
    "        X_train_fold, \n",
    "        y_train_fold, \n",
    "        tokenizer,\n",
    "        is_training=True\n",
    "    )\n",
    "    val_dataset = tokenize_texts(\n",
    "        X_val_fold, \n",
    "        y_val_fold, \n",
    "        tokenizer, \n",
    "        is_training=False\n",
    "    )\n",
    "    \n",
    "    # Create a fresh model for this fold\n",
    "    model = XLMRobertaForSequenceClassification.from_pretrained(\n",
    "        model_name,\n",
    "        config=xlm_roberta_config\n",
    "    ).to(device)\n",
    "    \n",
    "    # Create data collator\n",
    "    data_collator = DataCollatorWithPadding(tokenizer=tokenizer)\n",
    "    \n",
    "    # Training arguments from config\n",
    "    training_args = TrainingArguments(\n",
    "        output_dir=f\"{config[\"training\"][\"output_dir\"]}/xlm_roberta_fold_{fold+1}\",\n",
    "        learning_rate=config[\"training\"][\"learning_rate\"],\n",
    "        per_device_train_batch_size=config[\"training\"][\"batch_size\"],\n",
    "        per_device_eval_batch_size=config[\"training\"][\"eval_batch_size\"],\n",
    "        num_train_epochs=config[\"training\"][\"epochs\"],\n",
    "        weight_decay=config[\"training\"][\"weight_decay\"],\n",
    "        evaluation_strategy=config[\"training\"][\"evaluation_strategy\"],\n",
    "        save_strategy=config[\"training\"][\"save_strategy\"],\n",
    "        load_best_model_at_end=config[\"training\"][\"load_best_model_at_end\"],\n",
    "        metric_for_best_model=config[\"training\"][\"metric_for_best_model\"],\n",
    "        save_total_limit=config[\"training\"][\"save_total_limit\"],\n",
    "        fp16=torch.cuda.is_available(),\n",
    "    )\n",
    "    \n",
    "    # Initialize trainer\n",
    "    trainer = Trainer(\n",
    "        model=model,\n",
    "        args=training_args,\n",
    "        train_dataset=train_dataset,\n",
    "        eval_dataset=val_dataset,\n",
    "        tokenizer=tokenizer,\n",
    "        data_collator=data_collator,\n",
    "        compute_metrics=compute_metrics,\n",
    "        callbacks=[\n",
    "            EarlyStoppingCallback(early_stopping_patience=config[\"training\"][\"early_stopping_patience\"])\n",
    "            ]\n",
    "    )\n",
    "    \n",
    "    trainer.train()\n",
    "    results = trainer.evaluate()\n",
    "    fold_results.append(results)\n",
    "    \n",
    "    # Save model\n",
    "    model_base_path = config['training']['output_dir']\n",
    "    model_path = f\"{model_base_path}/{run_id}/xlm_roberta_fold_{fold+1}\"\n",
    "    trainer.save_model(model_path)\n",
    "    print(f\"Saved best model from fold {fold+1} (best F1: {max([x['eval_f1'] for x in trainer.state.log_history if 'eval_f1' in x])})\")\n",
    "    \n",
    "    # Clear memory\n",
    "    del model, trainer\n",
    "    torch.cuda.empty_cache()"
   ]
  },
  {
   "cell_type": "code",
   "execution_count": 6,
   "metadata": {},
   "outputs": [
    {
     "name": "stdout",
     "output_type": "stream",
     "text": [
      "[{'eval_loss': 1.2204313278198242, 'eval_balanced_accuracy': 0.7864885791715059, 'eval_precision': 0.75, 'eval_recall': 0.7317073170731707, 'eval_f1': 0.7407407407407407, 'eval_runtime': 0.5889, 'eval_samples_per_second': 176.6, 'eval_steps_per_second': 22.075, 'epoch': 11.0}, {'eval_loss': 0.5806898474693298, 'eval_balanced_accuracy': 0.759453781512605, 'eval_precision': 0.5660377358490566, 'eval_recall': 0.8571428571428571, 'eval_f1': 0.6818181818181818, 'eval_runtime': 0.8736, 'eval_samples_per_second': 117.907, 'eval_steps_per_second': 14.882, 'epoch': 6.0}, {'eval_loss': 0.5151321887969971, 'eval_balanced_accuracy': 0.8013888888888889, 'eval_precision': 0.7021276595744681, 'eval_recall': 0.825, 'eval_f1': 0.7586206896551724, 'eval_runtime': 0.7411, 'eval_samples_per_second': 138.986, 'eval_steps_per_second': 17.542, 'epoch': 7.0}, {'eval_loss': 0.4475005865097046, 'eval_balanced_accuracy': 0.8420542635658914, 'eval_precision': 0.868421052631579, 'eval_recall': 0.7674418604651163, 'eval_f1': 0.8148148148148148, 'eval_runtime': 0.7147, 'eval_samples_per_second': 144.122, 'eval_steps_per_second': 18.19, 'epoch': 7.0}, {'eval_loss': 0.5629227757453918, 'eval_balanced_accuracy': 0.8615591397849462, 'eval_precision': 0.8064516129032258, 'eval_recall': 0.8064516129032258, 'eval_f1': 0.8064516129032258, 'eval_runtime': 0.5688, 'eval_samples_per_second': 181.094, 'eval_steps_per_second': 22.857, 'epoch': 10.0}]\n",
      "\n",
      "Cross-validation summary:\n",
      "Balanced accuracy: 0.8102 ± 0.0371\n",
      "Precision: 0.7386 ± 0.1027\n",
      "Recall: 0.7975 ± 0.0439\n",
      "F1 Score: 0.7605 ± 0.0483\n"
     ]
    },
    {
     "data": {
      "image/png": "[encoded data removed]",
      "text/plain": [
       "<Figure size 1000x600 with 1 Axes>"
      ]
     },
     "metadata": {},
     "output_type": "display_data"
    }
   ],
   "source": [
    "print(fold_results)\n",
    "# Analyze cross-validation results\n",
    "accuracies = [result[\"eval_balanced_accuracy\"] for result in fold_results]\n",
    "precisions = [result[\"eval_precision\"] for result in fold_results]\n",
    "recalls = [result[\"eval_recall\"] for result in fold_results]\n",
    "f1_scores = [result[\"eval_f1\"] for result in fold_results]\n",
    "\n",
    "print(\"\\nCross-validation summary:\")\n",
    "print(f\"Balanced accuracy: {np.mean(accuracies):.4f} ± {np.std(accuracies):.4f}\")\n",
    "print(f\"Precision: {np.mean(precisions):.4f} ± {np.std(precisions):.4f}\")\n",
    "print(f\"Recall: {np.mean(recalls):.4f} ± {np.std(recalls):.4f}\")\n",
    "print(f\"F1 Score: {np.mean(f1_scores):.4f} ± {np.std(f1_scores):.4f}\")\n",
    "\n",
    "# Visualize metrics across folds\n",
    "plt.figure(figsize=(10, 6))\n",
    "fold_nums = list(range(1, n_splits + 1))\n",
    "plt.plot(fold_nums, accuracies, \"o-\", label=\"Balanced accuracy\")\n",
    "plt.plot(fold_nums, precisions, \"o-\", label=\"Precision\")\n",
    "plt.plot(fold_nums, recalls, \"o-\", label=\"Recall\")\n",
    "plt.plot(fold_nums, f1_scores, \"o-\", label=\"F1 Score\")\n",
    "plt.xlabel(\"Fold\")\n",
    "plt.ylabel(\"Score\")\n",
    "plt.title(\"Model Performance Across Folds\")\n",
    "plt.legend()\n",
    "plt.grid(True)\n",
    "plt.show()"
   ]
  },
  {
   "cell_type": "code",
   "execution_count": null,
   "metadata": {},
   "outputs": [
    {
     "name": "stdout",
     "output_type": "stream",
     "text": [
      "\n",
      "Ensemble Model Evaluation:\n",
      "Accuracy: 0.77\n",
      "Balanced Accuracy: 0.76\n",
      "Precision: 0.67\n",
      "Recall: 0.73\n",
      "F1: 0.70\n",
      "AUC: 0.88\n"
     ]
    },
    {
     "data": {
      "image/png": "[encoded data removed]",
      "text/plain": [
       "<Figure size 640x480 with 1 Axes>"
      ]
     },
     "metadata": {},
     "output_type": "display_data"
    },
    {
     "data": {
      "image/png": "[encoded data removed]",
      "text/plain": [
       "<Figure size 640x480 with 2 Axes>"
      ]
     },
     "metadata": {},
     "output_type": "display_data"
    }
   ],
   "source": [
    "# Ensemble predictions on the test set for robustness\n",
    "fold_metrics = [result['eval_f1'] for result in fold_results]\n",
    "\n",
    "fold_models = []\n",
    "for fold in range(config[\"cross_validation\"][\"n_splits\"]):\n",
    "    model_base_path = config['training']['output_dir']\n",
    "    model_path = f\"{model_base_path}/{run_id}/xlm_roberta_fold_{fold+1}\"\n",
    "    model = XLMRobertaForSequenceClassification.from_pretrained(\n",
    "        model_path\n",
    "    ).to(device)\n",
    "    model.eval()  # Set to evaluation mode\n",
    "    fold_models.append(model)\n",
    "\n",
    "def ensemble_predict(inputs, fold_models, fold_metrics, device):\n",
    "    \"\"\"Make prediction using weighted ensemble of models\"\"\"\n",
    "    # Calculate weights from metrics\n",
    "    weights = torch.tensor(fold_metrics, device=device)\n",
    "    weights = weights / weights.sum()  # Normalize\n",
    "    \n",
    "    # Get predictions from all models\n",
    "    all_probs = []\n",
    "    for model in fold_models:\n",
    "        with torch.no_grad():\n",
    "            outputs = model(**inputs)\n",
    "            probs = torch.softmax(outputs.logits, dim=1)\n",
    "            all_probs.append(probs)\n",
    "    \n",
    "    # Apply weighted average\n",
    "    weighted_probs = torch.zeros_like(all_probs[0])\n",
    "    for i, probs in enumerate(all_probs):\n",
    "        weighted_probs += probs * weights[i]\n",
    "    \n",
    "    return weighted_probs\n",
    "\n",
    "# Get predictions for all test samples\n",
    "y_pred = []\n",
    "y_pred_proba = []\n",
    "\n",
    "for text in X_test:\n",
    "    # Tokenize input\n",
    "    inputs = tokenizer(\n",
    "        text,\n",
    "        max_length=config[\"data\"][\"max_length\"],\n",
    "        truncation=config[\"tokenizer\"][\"truncation\"],\n",
    "        padding=config[\"tokenizer\"][\"padding\"],\n",
    "        add_special_tokens=config[\"tokenizer\"][\"add_special_tokens\"],\n",
    "        return_tensors=config[\"tokenizer\"][\"return_tensors\"]\n",
    "    ).to(device)\n",
    "    \n",
    "    # Get ensemble prediction\n",
    "    weighted_probs = ensemble_predict(inputs, fold_models, fold_metrics, device)\n",
    "    \n",
    "    # Extract prediction and confidence\n",
    "    pred_label = torch.argmax(weighted_probs, dim=1).item()\n",
    "    confidence = weighted_probs[0][1].item()  # Probability of class 1 (hyperpartisan)\n",
    "    \n",
    "    y_pred.append(pred_label)\n",
    "    y_pred_proba.append(confidence)\n",
    "\n",
    "# Convert to numpy arrays for the metrics function\n",
    "y_pred = np.array(y_pred)\n",
    "y_pred_proba = np.array(y_pred_proba)\n",
    "\n",
    "print(\"\\nEnsemble Model Evaluation:\")\n",
    "metrics(y_test, y_pred, y_pred_proba)\n",
    "plot_confusion_matrix(y_test, y_pred)"
   ]
  },
  {
   "cell_type": "code",
   "execution_count": 8,
   "metadata": {},
   "outputs": [
    {
     "data": {
      "text/html": [
       "<div>\n",
       "<style scoped>\n",
       "    .dataframe tbody tr th:only-of-type {\n",
       "        vertical-align: middle;\n",
       "    }\n",
       "\n",
       "    .dataframe tbody tr th {\n",
       "        vertical-align: top;\n",
       "    }\n",
       "\n",
       "    .dataframe thead th {\n",
       "        text-align: right;\n",
       "    }\n",
       "</style>\n",
       "<table border=\"1\" class=\"dataframe\">\n",
       "  <thead>\n",
       "    <tr style=\"text-align: right;\">\n",
       "      <th></th>\n",
       "      <th>Model</th>\n",
       "      <th>Setup</th>\n",
       "      <th>Accuracy</th>\n",
       "      <th>Balanced Accuracy</th>\n",
       "      <th>Precision</th>\n",
       "      <th>Recall</th>\n",
       "      <th>F1 Score</th>\n",
       "      <th>AUC</th>\n",
       "      <th>base_model</th>\n",
       "      <th>classifier_dropout</th>\n",
       "      <th>...</th>\n",
       "      <th>test_size</th>\n",
       "      <th>data_random_state</th>\n",
       "      <th>use_balancing</th>\n",
       "      <th>balancing_method</th>\n",
       "      <th>padding</th>\n",
       "      <th>truncation</th>\n",
       "      <th>add_special_tokens</th>\n",
       "      <th>batch_process</th>\n",
       "      <th>stride</th>\n",
       "      <th>return_overflowing_tokens</th>\n",
       "    </tr>\n",
       "  </thead>\n",
       "  <tbody>\n",
       "    <tr>\n",
       "      <th>0</th>\n",
       "      <td>XLM-RoBERTa</td>\n",
       "      <td>WeightedEnsemble+SlidingWindow</td>\n",
       "      <td>0.767</td>\n",
       "      <td>0.76</td>\n",
       "      <td>0.673</td>\n",
       "      <td>0.729</td>\n",
       "      <td>0.7</td>\n",
       "      <td>0.881</td>\n",
       "      <td>xlm-roberta-base</td>\n",
       "      <td>0.2</td>\n",
       "      <td>...</td>\n",
       "      <td>0.2</td>\n",
       "      <td>0</td>\n",
       "      <td>False</td>\n",
       "      <td>oversample</td>\n",
       "      <td>max_length</td>\n",
       "      <td>True</td>\n",
       "      <td>True</td>\n",
       "      <td>True</td>\n",
       "      <td>256</td>\n",
       "      <td>True</td>\n",
       "    </tr>\n",
       "  </tbody>\n",
       "</table>\n",
       "<p>1 rows × 35 columns</p>\n",
       "</div>"
      ],
      "text/plain": [
       "         Model                           Setup  Accuracy  Balanced Accuracy  \\\n",
       "0  XLM-RoBERTa  WeightedEnsemble+SlidingWindow     0.767               0.76   \n",
       "\n",
       "   Precision  Recall  F1 Score    AUC        base_model  classifier_dropout  \\\n",
       "0      0.673   0.729       0.7  0.881  xlm-roberta-base                 0.2   \n",
       "\n",
       "   ...  test_size  data_random_state  use_balancing  balancing_method  \\\n",
       "0  ...        0.2                  0          False        oversample   \n",
       "\n",
       "      padding truncation add_special_tokens  batch_process stride  \\\n",
       "0  max_length       True               True           True    256   \n",
       "\n",
       "   return_overflowing_tokens  \n",
       "0                       True  \n",
       "\n",
       "[1 rows x 35 columns]"
      ]
     },
     "metadata": {},
     "output_type": "display_data"
    }
   ],
   "source": [
    "results_list = []\n",
    "store_metrics(\n",
    "    results_list=results_list,\n",
    "    model_name=\"XLM-RoBERTa\",\n",
    "    setup_label=\"WeightedEnsemble+SlidingWindow\",\n",
    "    y_test=y_test,\n",
    "    y_pred=y_pred,\n",
    "    y_pred_proba=y_pred_proba\n",
    ")\n",
    "\n",
    "results_df = pd.DataFrame(results_list)\n",
    "\n",
    "hyperparams = {\n",
    "    # Model parameters\n",
    "    \"base_model\": config[\"model\"][\"base_model\"],\n",
    "    \"classifier_dropout\": config[\"model\"][\"classifier_dropout\"],\n",
    "    \n",
    "    # Training parameters\n",
    "    \"learning_rate\": config[\"training\"][\"learning_rate\"],\n",
    "    \"batch_size\": config[\"training\"][\"batch_size\"],\n",
    "    \"eval_batch_size\": config[\"training\"][\"eval_batch_size\"],\n",
    "    \"epochs\": config[\"training\"][\"epochs\"],\n",
    "    \"weight_decay\": config[\"training\"][\"weight_decay\"],\n",
    "    \"evaluation_strategy\": config[\"training\"][\"evaluation_strategy\"],\n",
    "    \"save_strategy\": config[\"training\"][\"save_strategy\"],\n",
    "    \"load_best_model_at_end\": config[\"training\"][\"load_best_model_at_end\"],\n",
    "    \"metric_for_best_model\": config[\"training\"][\"metric_for_best_model\"],\n",
    "    \"save_total_limit\": config[\"training\"][\"save_total_limit\"],\n",
    "    \"early_stopping_patience\": config[\"training\"][\"early_stopping_patience\"],\n",
    "    \"use_fp16\": config[\"training\"][\"use_fp16\"],\n",
    "    \n",
    "    # Cross-validation settings\n",
    "    \"n_splits\": config[\"cross_validation\"][\"n_splits\"],\n",
    "    \"shuffle\": config[\"cross_validation\"][\"shuffle\"],\n",
    "    \n",
    "    # Data parameters\n",
    "    \"max_length\": config[\"data\"][\"max_length\"],\n",
    "    \"test_size\": config[\"data\"][\"test_size\"],\n",
    "    \"data_random_state\": config[\"data\"][\"random_state\"],\n",
    "    \n",
    "    # Class balancing\n",
    "    \"use_balancing\": config[\"class_balancing\"][\"use_balancing\"],\n",
    "    \"balancing_method\": config[\"class_balancing\"][\"method\"],\n",
    "    \n",
    "    # Tokenizer settings\n",
    "    \"padding\": config[\"tokenizer\"][\"padding\"],\n",
    "    \"truncation\": config[\"tokenizer\"][\"truncation\"],\n",
    "    \"add_special_tokens\": config[\"tokenizer\"][\"add_special_tokens\"],\n",
    "    \"batch_process\": config[\"tokenizer\"][\"batch_process\"],\n",
    "    \"stride\": config[\"tokenizer\"][\"stride\"],\n",
    "    \"return_overflowing_tokens\": config[\"tokenizer\"][\"return_overflowing_tokens\"],\n",
    "}\n",
    "\n",
    "# Add all hyperparameters as columns in one operation\n",
    "for param_name, param_value in hyperparams.items():\n",
    "    results_df[param_name] = param_value\n",
    "\n",
    "display(results_df)\n",
    "\n",
    "# Append to existing file if it exists, otherwise create new file\n",
    "try:\n",
    "    existing_df = pd.read_csv(\"../results/byarticle_advanced_results.csv\")\n",
    "    combined_df = pd.concat([existing_df, results_df], ignore_index=True)\n",
    "    combined_df.to_csv(\"../results/byarticle_advanced_results.csv\", index=False)\n",
    "except FileNotFoundError:\n",
    "    results_df.to_csv(\"../results/byarticle_advanced_results.csv\", index=False)"
   ]
  }
 ],
 "metadata": {
  "kernelspec": {
   "display_name": ".venv",
   "language": "python",
   "name": "python3"
  },
  "language_info": {
   "codemirror_mode": {
    "name": "ipython",
    "version": 3
   },
   "file_extension": ".py",
   "mimetype": "text/x-python",
   "name": "python",
   "nbconvert_exporter": "python",
   "pygments_lexer": "ipython3",
   "version": "3.12.2"
  }
 },
 "nbformat": 4,
 "nbformat_minor": 2
}
