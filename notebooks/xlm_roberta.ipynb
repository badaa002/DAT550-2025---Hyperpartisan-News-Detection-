{
 "cells": [
  {
   "cell_type": "code",
   "execution_count": 2,
   "metadata": {},
   "outputs": [
    {
     "name": "stderr",
     "output_type": "stream",
     "text": [
      "2025-04-03 11:59:35.056250: I tensorflow/core/util/port.cc:153] oneDNN custom operations are on. You may see slightly different numerical results due to floating-point round-off errors from different computation orders. To turn them off, set the environment variable `TF_ENABLE_ONEDNN_OPTS=0`.\n",
      "2025-04-03 11:59:35.478710: E external/local_xla/xla/stream_executor/cuda/cuda_fft.cc:467] Unable to register cuFFT factory: Attempting to register factory for plugin cuFFT when one has already been registered\n",
      "WARNING: All log messages before absl::InitializeLog() is called are written to STDERR\n",
      "E0000 00:00:1743674375.660832   78055 cuda_dnn.cc:8579] Unable to register cuDNN factory: Attempting to register factory for plugin cuDNN when one has already been registered\n",
      "E0000 00:00:1743674375.688939   78055 cuda_blas.cc:1407] Unable to register cuBLAS factory: Attempting to register factory for plugin cuBLAS when one has already been registered\n",
      "W0000 00:00:1743674376.055798   78055 computation_placer.cc:177] computation placer already registered. Please check linkage and avoid linking the same target more than once.\n",
      "W0000 00:00:1743674376.055856   78055 computation_placer.cc:177] computation placer already registered. Please check linkage and avoid linking the same target more than once.\n",
      "W0000 00:00:1743674376.055858   78055 computation_placer.cc:177] computation placer already registered. Please check linkage and avoid linking the same target more than once.\n",
      "W0000 00:00:1743674376.055860   78055 computation_placer.cc:177] computation placer already registered. Please check linkage and avoid linking the same target more than once.\n",
      "2025-04-03 11:59:36.080909: I tensorflow/core/platform/cpu_feature_guard.cc:210] This TensorFlow binary is optimized to use available CPU instructions in performance-critical operations.\n",
      "To enable the following instructions: AVX2 AVX512F AVX512_VNNI AVX512_BF16 FMA, in other operations, rebuild TensorFlow with the appropriate compiler flags.\n"
     ]
    }
   ],
   "source": [
    "import sys\n",
    "import os\n",
    "sys.path.append(os.path.abspath(os.path.join(os.getcwd(), '..'))) # add parent directory to path\n",
    "from src.utils import load_cleaned_data, metrics, split\n",
    "from transformers import XLMRobertaTokenizer, XLMRobertaForSequenceClassification, XLMRobertaConfig\n",
    "from torch.optim import AdamW\n",
    "import numpy as np\n",
    "import torch\n",
    "from torch.utils.data import Dataset, DataLoader\n",
    "from sklearn.model_selection import KFold\n",
    "from sklearn.metrics import accuracy_score, balanced_accuracy_score, precision_score, recall_score, f1_score, confusion_matrix\n",
    "from transformers import get_linear_schedule_with_warmup\n",
    "import matplotlib.pyplot as plt\n",
    "from tqdm.notebook import tqdm"
   ]
  },
  {
   "cell_type": "markdown",
   "metadata": {},
   "source": [
    "## Now let's load and explore the data:"
   ]
  },
  {
   "cell_type": "code",
   "execution_count": 3,
   "metadata": {},
   "outputs": [
    {
     "name": "stdout",
     "output_type": "stream",
     "text": [
      "Total samples: 645\n",
      "Label distribution: {0: 407, 1: 238}\n",
      "\n",
      "Sample article (non-hyperpartisan):\n",
      "It's 1968 All Over Again. Almost a half-century ago, in 1968, the United States seemed to be falling apart. The Vietnam War, a bitter and close presidential election, antiwar protests, racial riots, p...\n",
      "\n",
      "Sample article (hyperpartisan):\n",
      "Kucinich: Reclaiming the money power. Money ( Image by 401(K) 2013 ) Permission Details DMCA No Pill Can Stop Tinnitus, But This 1 Weird Trick Can The walls are closing in on Congress. Terrifying wall...\n"
     ]
    }
   ],
   "source": [
    "# Load data from your existing code\n",
    "data = load_cleaned_data(\"../data/preprocessed/byarticle_clean.tsv\")\n",
    "X = data['full_text']\n",
    "y = data['label']\n",
    "\n",
    "print(f\"Total samples: {len(data)}\")\n",
    "print(f\"Label distribution: {y.value_counts().to_dict()}\")\n",
    "\n",
    "print(\"\\nSample article (non-hyperpartisan):\")\n",
    "print(X[y == 0].iloc[0][:200] + \"...\")\n",
    "print(\"\\nSample article (hyperpartisan):\")\n",
    "print(X[y == 1].iloc[0][:200] + \"...\")"
   ]
  },
  {
   "cell_type": "markdown",
   "metadata": {},
   "source": [
    "## Let's set up the tokenizer and create a custom dataset class:"
   ]
  },
  {
   "cell_type": "code",
   "execution_count": 4,
   "metadata": {},
   "outputs": [
    {
     "name": "stdout",
     "output_type": "stream",
     "text": [
      "Input shape: torch.Size([512])\n",
      "Attention mask shape: torch.Size([512])\n",
      "Label: 1\n"
     ]
    }
   ],
   "source": [
    "model_name = \"xlm-roberta-base\"  # or \"xlm-roberta-large\" for better performance\n",
    "tokenizer = XLMRobertaTokenizer.from_pretrained(model_name)\n",
    "config = XLMRobertaConfig.from_pretrained(model_name)\n",
    "#config.hidden_dropout_prob = 0.3\n",
    "#config.attention_probs_dropout_prob = 0.3\n",
    "config.classifier_dropout = 0.3\n",
    "config.num_labels = 2\n",
    "\n",
    "\n",
    "class HyperpartisanDataset(Dataset):\n",
    "    def __init__(self, texts, labels, tokenizer, max_length=512):\n",
    "        self.texts = texts\n",
    "        self.labels = labels\n",
    "        self.tokenizer = tokenizer\n",
    "        self.max_length = max_length\n",
    "        \n",
    "    def __len__(self):\n",
    "        return len(self.texts)\n",
    "    \n",
    "    def __getitem__(self, idx):\n",
    "        text = str(self.texts.iloc[idx])\n",
    "        label = int(self.labels.iloc[idx])\n",
    "        \n",
    "        encoding = self.tokenizer(\n",
    "            text,\n",
    "            add_special_tokens=True,\n",
    "            max_length=self.max_length,\n",
    "            truncation=True,\n",
    "            padding='max_length',\n",
    "            return_attention_mask=True,\n",
    "            return_tensors='pt'\n",
    "        )\n",
    "        \n",
    "        return {\n",
    "            'input_ids': encoding['input_ids'].flatten(),\n",
    "            'attention_mask': encoding['attention_mask'].flatten(),\n",
    "            'labels': torch.tensor(label, dtype=torch.long)\n",
    "        }\n",
    "# Test the dataset class with a small sample\n",
    "test_dataset = HyperpartisanDataset(X.iloc[:5], y.iloc[:5], tokenizer)\n",
    "sample_item = test_dataset[0]\n",
    "print(f\"Input shape: {sample_item['input_ids'].shape}\")\n",
    "print(f\"Attention mask shape: {sample_item['attention_mask'].shape}\")\n",
    "print(f\"Label: {sample_item['labels']}\")"
   ]
  },
  {
   "cell_type": "markdown",
   "metadata": {},
   "source": [
    "## Now, let's define our training and evaluation functions:"
   ]
  },
  {
   "cell_type": "code",
   "execution_count": 5,
   "metadata": {},
   "outputs": [
    {
     "name": "stdout",
     "output_type": "stream",
     "text": [
      "Using device: cuda\n"
     ]
    }
   ],
   "source": [
    "# Set up device\n",
    "device = None\n",
    "if torch.cuda.is_available():\n",
    "    torch.cuda.empty_cache()\n",
    "    device = torch.device('cuda')\n",
    "else:\n",
    "    device = torch.device('cpu')\n",
    "    print(\"No GPU available, using CPU.\")\n",
    "print(f\"Using device: {device}\")\n",
    "\n",
    "def train_epoch(model, data_loader, optimizer, scheduler, device):\n",
    "    model.train()\n",
    "    total_loss = 0\n",
    "    \n",
    "    progress_bar = tqdm(data_loader, desc=\"Training\")\n",
    "    for batch in progress_bar:\n",
    "        optimizer.zero_grad()\n",
    "        \n",
    "        input_ids = batch['input_ids'].to(device)\n",
    "        attention_mask = batch['attention_mask'].to(device)\n",
    "        labels = batch['labels'].to(device)\n",
    "        \n",
    "        outputs = model(\n",
    "            input_ids=input_ids,\n",
    "            attention_mask=attention_mask,\n",
    "            labels=labels\n",
    "        )\n",
    "        \n",
    "        loss = outputs.loss\n",
    "        total_loss += loss.item()\n",
    "        \n",
    "        loss.backward()\n",
    "        torch.nn.utils.clip_grad_norm_(model.parameters(), max_norm=1.0)\n",
    "        optimizer.step()\n",
    "        scheduler.step()\n",
    "        \n",
    "        progress_bar.set_postfix({'loss': f\"{loss.item():.4f}\"})\n",
    "        \n",
    "    return total_loss / len(data_loader)\n",
    "\n",
    "def evaluate(model, data_loader, device):\n",
    "    model.eval()\n",
    "    \n",
    "    predictions = []\n",
    "    true_labels = []\n",
    "    total_loss = 0\n",
    "    \n",
    "    progress_bar = tqdm(data_loader, desc=\"Evaluating\")\n",
    "    with torch.no_grad():\n",
    "        for batch in progress_bar:\n",
    "            input_ids = batch['input_ids'].to(device)\n",
    "            attention_mask = batch['attention_mask'].to(device)\n",
    "            labels = batch['labels'].to(device)\n",
    "            \n",
    "            outputs = model(\n",
    "                input_ids=input_ids,\n",
    "                attention_mask=attention_mask,\n",
    "                labels=labels\n",
    "            )\n",
    "            \n",
    "            loss = outputs.loss\n",
    "            total_loss += loss.item()\n",
    "            \n",
    "            _, preds = torch.max(outputs.logits, dim=1)\n",
    "            \n",
    "            predictions.extend(preds.cpu().tolist())\n",
    "            true_labels.extend(labels.cpu().tolist())\n",
    "            \n",
    "            progress_bar.set_postfix({'loss': f\"{loss.item():.4f}\"})\n",
    "    \n",
    "    avg_loss = total_loss / len(data_loader)\n",
    "    balanced_accuracy = balanced_accuracy_score(true_labels, predictions)\n",
    "    precision = precision_score(true_labels, predictions, average='binary', zero_division=0)\n",
    "    recall = recall_score(true_labels, predictions, average='binary', zero_division=0)\n",
    "    f1 = f1_score(true_labels, predictions, average='binary', zero_division=0)\n",
    "\n",
    "    unique_true, counts_true = np.unique(true_labels, return_counts=True)\n",
    "    unique_pred, counts_pred = np.unique(predictions, return_counts=True)\n",
    "\n",
    "    print(f\"Validation Loss: {avg_loss:.4f}\")\n",
    "    print(f\"Accuracy: {balanced_accuracy:.4f}\")\n",
    "    print(f\"Precision: {precision:.4f}\")\n",
    "    print(f\"Recall: {recall:.4f}\")\n",
    "    print(f\"F1 Score: {f1:.4f}\")\n",
    "    print(f\"True labels distribution: {dict(zip(unique_true, counts_true))}\")\n",
    "    print(f\"Predicted labels distribution: {dict(zip(unique_pred, counts_pred))}\")\n",
    "    \n",
    "    return {\n",
    "        'true_labels': true_labels,\n",
    "        'predictions': predictions,\n",
    "        'loss': avg_loss,\n",
    "        'balanced_accuracy': balanced_accuracy,\n",
    "        'precision': precision,\n",
    "        'recall': recall,\n",
    "        'f1': f1\n",
    "    }\n",
    "\n",
    "def early_stopping(val_history, patience=3, delta=0.001):\n",
    "    \"\"\"\n",
    "    Check if training should stop based on validation metric history\n",
    "    \n",
    "    Parameters:\n",
    "    - val_history: List of validation performance metrics (e.g., accuracy)\n",
    "    - patience: How many epochs to wait for improvement\n",
    "    - delta: Minimum change to qualify as improvement\n",
    "    \n",
    "    Returns:\n",
    "    - stop_training: Boolean indicating whether to stop training\n",
    "    - best_epoch: Index of the best epoch\n",
    "    \"\"\"\n",
    "    if len(val_history) <= patience:\n",
    "        return False, None\n",
    "    \n",
    "    best_value = max(val_history)\n",
    "    best_epoch = val_history.index(best_value)\n",
    "    \n",
    "    for i in range(len(val_history) - patience, len(val_history)):\n",
    "        if i > best_epoch and val_history[i] > best_value - delta:\n",
    "            return False, best_epoch\n",
    "    \n",
    "    return True, best_epoch"
   ]
  },
  {
   "cell_type": "markdown",
   "metadata": {},
   "source": [
    "## Let's implement cross-validation:"
   ]
  },
  {
   "cell_type": "code",
   "execution_count": 6,
   "metadata": {},
   "outputs": [
    {
     "name": "stdout",
     "output_type": "stream",
     "text": [
      "\n",
      "=== Fold 1/5 ===\n",
      "Training samples: 516\n",
      "Validation samples: 129\n"
     ]
    },
    {
     "name": "stderr",
     "output_type": "stream",
     "text": [
      "Some weights of XLMRobertaForSequenceClassification were not initialized from the model checkpoint at xlm-roberta-base and are newly initialized: ['classifier.dense.bias', 'classifier.dense.weight', 'classifier.out_proj.bias', 'classifier.out_proj.weight']\n",
      "You should probably TRAIN this model on a down-stream task to be able to use it for predictions and inference.\n"
     ]
    },
    {
     "name": "stdout",
     "output_type": "stream",
     "text": [
      "\n",
      "Epoch 1/8\n"
     ]
    },
    {
     "data": {
      "application/vnd.jupyter.widget-view+json": {
       "model_id": "04654ebc90d64f2db347cda3a74ca4b1",
       "version_major": 2,
       "version_minor": 0
      },
      "text/plain": [
       "Training:   0%|          | 0/65 [00:00<?, ?it/s]"
      ]
     },
     "metadata": {},
     "output_type": "display_data"
    },
    {
     "name": "stdout",
     "output_type": "stream",
     "text": [
      "Training loss: 0.6417\n",
      "Validation results:\n"
     ]
    },
    {
     "data": {
      "application/vnd.jupyter.widget-view+json": {
       "model_id": "5a0588fbb769450d93097c98954cf804",
       "version_major": 2,
       "version_minor": 0
      },
      "text/plain": [
       "Evaluating:   0%|          | 0/17 [00:00<?, ?it/s]"
      ]
     },
     "metadata": {},
     "output_type": "display_data"
    },
    {
     "name": "stdout",
     "output_type": "stream",
     "text": [
      "Validation Loss: 0.5307\n",
      "Accuracy: 0.5000\n",
      "Precision: 0.0000\n",
      "Recall: 0.0000\n",
      "F1 Score: 0.0000\n",
      "True labels distribution: {np.int64(0): np.int64(81), np.int64(1): np.int64(48)}\n",
      "Predicted labels distribution: {np.int64(0): np.int64(129)}\n",
      "\n",
      "Epoch 2/8\n"
     ]
    },
    {
     "data": {
      "application/vnd.jupyter.widget-view+json": {
       "model_id": "eaab13c827eb410c9b791f9d729e0740",
       "version_major": 2,
       "version_minor": 0
      },
      "text/plain": [
       "Training:   0%|          | 0/65 [00:00<?, ?it/s]"
      ]
     },
     "metadata": {},
     "output_type": "display_data"
    },
    {
     "name": "stdout",
     "output_type": "stream",
     "text": [
      "Training loss: 0.5552\n",
      "Validation results:\n"
     ]
    },
    {
     "data": {
      "application/vnd.jupyter.widget-view+json": {
       "model_id": "bb6ba785fec14a60b29bbfb02a026cf6",
       "version_major": 2,
       "version_minor": 0
      },
      "text/plain": [
       "Evaluating:   0%|          | 0/17 [00:00<?, ?it/s]"
      ]
     },
     "metadata": {},
     "output_type": "display_data"
    },
    {
     "name": "stdout",
     "output_type": "stream",
     "text": [
      "Validation Loss: 0.4792\n",
      "Accuracy: 0.7280\n",
      "Precision: 0.7073\n",
      "Recall: 0.6042\n",
      "F1 Score: 0.6517\n",
      "True labels distribution: {np.int64(0): np.int64(81), np.int64(1): np.int64(48)}\n",
      "Predicted labels distribution: {np.int64(0): np.int64(88), np.int64(1): np.int64(41)}\n",
      "\n",
      "Epoch 3/8\n"
     ]
    },
    {
     "data": {
      "application/vnd.jupyter.widget-view+json": {
       "model_id": "a48f1ec745094e3db82dd436d49bb882",
       "version_major": 2,
       "version_minor": 0
      },
      "text/plain": [
       "Training:   0%|          | 0/65 [00:00<?, ?it/s]"
      ]
     },
     "metadata": {},
     "output_type": "display_data"
    },
    {
     "name": "stdout",
     "output_type": "stream",
     "text": [
      "Training loss: 0.5153\n",
      "Validation results:\n"
     ]
    },
    {
     "data": {
      "application/vnd.jupyter.widget-view+json": {
       "model_id": "65c786ce5d6246399f7c6864a6b57503",
       "version_major": 2,
       "version_minor": 0
      },
      "text/plain": [
       "Evaluating:   0%|          | 0/17 [00:00<?, ?it/s]"
      ]
     },
     "metadata": {},
     "output_type": "display_data"
    },
    {
     "name": "stdout",
     "output_type": "stream",
     "text": [
      "Validation Loss: 0.6782\n",
      "Accuracy: 0.6713\n",
      "Precision: 0.7692\n",
      "Recall: 0.4167\n",
      "F1 Score: 0.5405\n",
      "True labels distribution: {np.int64(0): np.int64(81), np.int64(1): np.int64(48)}\n",
      "Predicted labels distribution: {np.int64(0): np.int64(103), np.int64(1): np.int64(26)}\n",
      "\n",
      "Epoch 4/8\n"
     ]
    },
    {
     "data": {
      "application/vnd.jupyter.widget-view+json": {
       "model_id": "af655b1dd54c430b857b04813804cad6",
       "version_major": 2,
       "version_minor": 0
      },
      "text/plain": [
       "Training:   0%|          | 0/65 [00:00<?, ?it/s]"
      ]
     },
     "metadata": {},
     "output_type": "display_data"
    },
    {
     "name": "stdout",
     "output_type": "stream",
     "text": [
      "Training loss: 0.4341\n",
      "Validation results:\n"
     ]
    },
    {
     "data": {
      "application/vnd.jupyter.widget-view+json": {
       "model_id": "14943d51c9e34afc92baa54369c33a7d",
       "version_major": 2,
       "version_minor": 0
      },
      "text/plain": [
       "Evaluating:   0%|          | 0/17 [00:00<?, ?it/s]"
      ]
     },
     "metadata": {},
     "output_type": "display_data"
    },
    {
     "name": "stdout",
     "output_type": "stream",
     "text": [
      "Validation Loss: 0.5698\n",
      "Accuracy: 0.7720\n",
      "Precision: 0.7000\n",
      "Recall: 0.7292\n",
      "F1 Score: 0.7143\n",
      "True labels distribution: {np.int64(0): np.int64(81), np.int64(1): np.int64(48)}\n",
      "Predicted labels distribution: {np.int64(0): np.int64(79), np.int64(1): np.int64(50)}\n",
      "Early stopping triggered! No improvement for 3 epochs. Best epoch was 4\n"
     ]
    },
    {
     "name": "stderr",
     "output_type": "stream",
     "text": [
      "Some weights of XLMRobertaForSequenceClassification were not initialized from the model checkpoint at xlm-roberta-base and are newly initialized: ['classifier.dense.bias', 'classifier.dense.weight', 'classifier.out_proj.bias', 'classifier.out_proj.weight']\n",
      "You should probably TRAIN this model on a down-stream task to be able to use it for predictions and inference.\n"
     ]
    },
    {
     "name": "stdout",
     "output_type": "stream",
     "text": [
      "\n",
      "=== Fold 2/5 ===\n",
      "Training samples: 516\n",
      "Validation samples: 129\n",
      "\n",
      "Epoch 1/8\n"
     ]
    },
    {
     "data": {
      "application/vnd.jupyter.widget-view+json": {
       "model_id": "2a8cf4e074ae42f99b011500282cca22",
       "version_major": 2,
       "version_minor": 0
      },
      "text/plain": [
       "Training:   0%|          | 0/65 [00:00<?, ?it/s]"
      ]
     },
     "metadata": {},
     "output_type": "display_data"
    },
    {
     "name": "stdout",
     "output_type": "stream",
     "text": [
      "Training loss: 0.6392\n",
      "Validation results:\n"
     ]
    },
    {
     "data": {
      "application/vnd.jupyter.widget-view+json": {
       "model_id": "dea47f1a211f41c89b7572ebd89fb608",
       "version_major": 2,
       "version_minor": 0
      },
      "text/plain": [
       "Evaluating:   0%|          | 0/17 [00:00<?, ?it/s]"
      ]
     },
     "metadata": {},
     "output_type": "display_data"
    },
    {
     "name": "stdout",
     "output_type": "stream",
     "text": [
      "Validation Loss: 0.5787\n",
      "Accuracy: 0.5000\n",
      "Precision: 0.0000\n",
      "Recall: 0.0000\n",
      "F1 Score: 0.0000\n",
      "True labels distribution: {np.int64(0): np.int64(83), np.int64(1): np.int64(46)}\n",
      "Predicted labels distribution: {np.int64(0): np.int64(129)}\n",
      "\n",
      "Epoch 2/8\n"
     ]
    },
    {
     "data": {
      "application/vnd.jupyter.widget-view+json": {
       "model_id": "aa2599b2fe374b799adda9570e1edee1",
       "version_major": 2,
       "version_minor": 0
      },
      "text/plain": [
       "Training:   0%|          | 0/65 [00:00<?, ?it/s]"
      ]
     },
     "metadata": {},
     "output_type": "display_data"
    },
    {
     "name": "stdout",
     "output_type": "stream",
     "text": [
      "Training loss: 0.5289\n",
      "Validation results:\n"
     ]
    },
    {
     "data": {
      "application/vnd.jupyter.widget-view+json": {
       "model_id": "de4d77d11db7415e85b3b744c3c901ca",
       "version_major": 2,
       "version_minor": 0
      },
      "text/plain": [
       "Evaluating:   0%|          | 0/17 [00:00<?, ?it/s]"
      ]
     },
     "metadata": {},
     "output_type": "display_data"
    },
    {
     "name": "stdout",
     "output_type": "stream",
     "text": [
      "Validation Loss: 0.4721\n",
      "Accuracy: 0.8106\n",
      "Precision: 0.6909\n",
      "Recall: 0.8261\n",
      "F1 Score: 0.7525\n",
      "True labels distribution: {np.int64(0): np.int64(83), np.int64(1): np.int64(46)}\n",
      "Predicted labels distribution: {np.int64(0): np.int64(74), np.int64(1): np.int64(55)}\n",
      "\n",
      "Epoch 3/8\n"
     ]
    },
    {
     "data": {
      "application/vnd.jupyter.widget-view+json": {
       "model_id": "cd2c703bd1784c9f9245f26022505b99",
       "version_major": 2,
       "version_minor": 0
      },
      "text/plain": [
       "Training:   0%|          | 0/65 [00:00<?, ?it/s]"
      ]
     },
     "metadata": {},
     "output_type": "display_data"
    },
    {
     "name": "stdout",
     "output_type": "stream",
     "text": [
      "Training loss: 0.3941\n",
      "Validation results:\n"
     ]
    },
    {
     "data": {
      "application/vnd.jupyter.widget-view+json": {
       "model_id": "e2c7ea9f360248c1a4ea043261989058",
       "version_major": 2,
       "version_minor": 0
      },
      "text/plain": [
       "Evaluating:   0%|          | 0/17 [00:00<?, ?it/s]"
      ]
     },
     "metadata": {},
     "output_type": "display_data"
    },
    {
     "name": "stdout",
     "output_type": "stream",
     "text": [
      "Validation Loss: 0.4065\n",
      "Accuracy: 0.8153\n",
      "Precision: 0.7907\n",
      "Recall: 0.7391\n",
      "F1 Score: 0.7640\n",
      "True labels distribution: {np.int64(0): np.int64(83), np.int64(1): np.int64(46)}\n",
      "Predicted labels distribution: {np.int64(0): np.int64(86), np.int64(1): np.int64(43)}\n",
      "\n",
      "Epoch 4/8\n"
     ]
    },
    {
     "data": {
      "application/vnd.jupyter.widget-view+json": {
       "model_id": "9fd7df7e59474937aabbb9a4c4fdd08a",
       "version_major": 2,
       "version_minor": 0
      },
      "text/plain": [
       "Training:   0%|          | 0/65 [00:00<?, ?it/s]"
      ]
     },
     "metadata": {},
     "output_type": "display_data"
    },
    {
     "name": "stdout",
     "output_type": "stream",
     "text": [
      "Training loss: 0.3192\n",
      "Validation results:\n"
     ]
    },
    {
     "data": {
      "application/vnd.jupyter.widget-view+json": {
       "model_id": "16611b5a54554a83a1d8197df02d8cc1",
       "version_major": 2,
       "version_minor": 0
      },
      "text/plain": [
       "Evaluating:   0%|          | 0/17 [00:00<?, ?it/s]"
      ]
     },
     "metadata": {},
     "output_type": "display_data"
    },
    {
     "name": "stdout",
     "output_type": "stream",
     "text": [
      "Validation Loss: 0.5627\n",
      "Accuracy: 0.7851\n",
      "Precision: 0.8529\n",
      "Recall: 0.6304\n",
      "F1 Score: 0.7250\n",
      "True labels distribution: {np.int64(0): np.int64(83), np.int64(1): np.int64(46)}\n",
      "Predicted labels distribution: {np.int64(0): np.int64(95), np.int64(1): np.int64(34)}\n",
      "Early stopping triggered! No improvement for 3 epochs. Best epoch was 3\n"
     ]
    },
    {
     "name": "stderr",
     "output_type": "stream",
     "text": [
      "Some weights of XLMRobertaForSequenceClassification were not initialized from the model checkpoint at xlm-roberta-base and are newly initialized: ['classifier.dense.bias', 'classifier.dense.weight', 'classifier.out_proj.bias', 'classifier.out_proj.weight']\n",
      "You should probably TRAIN this model on a down-stream task to be able to use it for predictions and inference.\n"
     ]
    },
    {
     "name": "stdout",
     "output_type": "stream",
     "text": [
      "\n",
      "=== Fold 3/5 ===\n",
      "Training samples: 516\n",
      "Validation samples: 129\n",
      "\n",
      "Epoch 1/8\n"
     ]
    },
    {
     "data": {
      "application/vnd.jupyter.widget-view+json": {
       "model_id": "c41468794ff24321be1231ea9e1faa31",
       "version_major": 2,
       "version_minor": 0
      },
      "text/plain": [
       "Training:   0%|          | 0/65 [00:00<?, ?it/s]"
      ]
     },
     "metadata": {},
     "output_type": "display_data"
    },
    {
     "name": "stdout",
     "output_type": "stream",
     "text": [
      "Training loss: 0.6194\n",
      "Validation results:\n"
     ]
    },
    {
     "data": {
      "application/vnd.jupyter.widget-view+json": {
       "model_id": "1037548b3bcb4a4cb2ad7369d48aef71",
       "version_major": 2,
       "version_minor": 0
      },
      "text/plain": [
       "Evaluating:   0%|          | 0/17 [00:00<?, ?it/s]"
      ]
     },
     "metadata": {},
     "output_type": "display_data"
    },
    {
     "name": "stdout",
     "output_type": "stream",
     "text": [
      "Validation Loss: 0.7180\n",
      "Accuracy: 0.5000\n",
      "Precision: 0.0000\n",
      "Recall: 0.0000\n",
      "F1 Score: 0.0000\n",
      "True labels distribution: {np.int64(0): np.int64(77), np.int64(1): np.int64(52)}\n",
      "Predicted labels distribution: {np.int64(0): np.int64(129)}\n",
      "\n",
      "Epoch 2/8\n"
     ]
    },
    {
     "data": {
      "application/vnd.jupyter.widget-view+json": {
       "model_id": "82c3550ff35a410b99aae8d58b8a9cbd",
       "version_major": 2,
       "version_minor": 0
      },
      "text/plain": [
       "Training:   0%|          | 0/65 [00:00<?, ?it/s]"
      ]
     },
     "metadata": {},
     "output_type": "display_data"
    },
    {
     "name": "stdout",
     "output_type": "stream",
     "text": [
      "Training loss: 0.5786\n",
      "Validation results:\n"
     ]
    },
    {
     "data": {
      "application/vnd.jupyter.widget-view+json": {
       "model_id": "f3767fbb2201456fb2b2d1131817c836",
       "version_major": 2,
       "version_minor": 0
      },
      "text/plain": [
       "Evaluating:   0%|          | 0/17 [00:00<?, ?it/s]"
      ]
     },
     "metadata": {},
     "output_type": "display_data"
    },
    {
     "name": "stdout",
     "output_type": "stream",
     "text": [
      "Validation Loss: 0.5086\n",
      "Accuracy: 0.8041\n",
      "Precision: 0.8750\n",
      "Recall: 0.6731\n",
      "F1 Score: 0.7609\n",
      "True labels distribution: {np.int64(0): np.int64(77), np.int64(1): np.int64(52)}\n",
      "Predicted labels distribution: {np.int64(0): np.int64(89), np.int64(1): np.int64(40)}\n",
      "\n",
      "Epoch 3/8\n"
     ]
    },
    {
     "data": {
      "application/vnd.jupyter.widget-view+json": {
       "model_id": "f51a6927df77479da65f939e3dfde48c",
       "version_major": 2,
       "version_minor": 0
      },
      "text/plain": [
       "Training:   0%|          | 0/65 [00:00<?, ?it/s]"
      ]
     },
     "metadata": {},
     "output_type": "display_data"
    },
    {
     "name": "stdout",
     "output_type": "stream",
     "text": [
      "Training loss: 0.5117\n",
      "Validation results:\n"
     ]
    },
    {
     "data": {
      "application/vnd.jupyter.widget-view+json": {
       "model_id": "62da965ba98a4379b6db366e96d2874d",
       "version_major": 2,
       "version_minor": 0
      },
      "text/plain": [
       "Evaluating:   0%|          | 0/17 [00:00<?, ?it/s]"
      ]
     },
     "metadata": {},
     "output_type": "display_data"
    },
    {
     "name": "stdout",
     "output_type": "stream",
     "text": [
      "Validation Loss: 0.4688\n",
      "Accuracy: 0.8264\n",
      "Precision: 0.8636\n",
      "Recall: 0.7308\n",
      "F1 Score: 0.7917\n",
      "True labels distribution: {np.int64(0): np.int64(77), np.int64(1): np.int64(52)}\n",
      "Predicted labels distribution: {np.int64(0): np.int64(85), np.int64(1): np.int64(44)}\n",
      "\n",
      "Epoch 4/8\n"
     ]
    },
    {
     "data": {
      "application/vnd.jupyter.widget-view+json": {
       "model_id": "5bc7ecd11fd648c8bbe935b33ef4b98f",
       "version_major": 2,
       "version_minor": 0
      },
      "text/plain": [
       "Training:   0%|          | 0/65 [00:00<?, ?it/s]"
      ]
     },
     "metadata": {},
     "output_type": "display_data"
    },
    {
     "name": "stdout",
     "output_type": "stream",
     "text": [
      "Training loss: 0.4199\n",
      "Validation results:\n"
     ]
    },
    {
     "data": {
      "application/vnd.jupyter.widget-view+json": {
       "model_id": "4585b5a2154d438db2a791bed9b03b7e",
       "version_major": 2,
       "version_minor": 0
      },
      "text/plain": [
       "Evaluating:   0%|          | 0/17 [00:00<?, ?it/s]"
      ]
     },
     "metadata": {},
     "output_type": "display_data"
    },
    {
     "name": "stdout",
     "output_type": "stream",
     "text": [
      "Validation Loss: 0.4856\n",
      "Accuracy: 0.8166\n",
      "Precision: 0.8125\n",
      "Recall: 0.7500\n",
      "F1 Score: 0.7800\n",
      "True labels distribution: {np.int64(0): np.int64(77), np.int64(1): np.int64(52)}\n",
      "Predicted labels distribution: {np.int64(0): np.int64(81), np.int64(1): np.int64(48)}\n",
      "Early stopping triggered! No improvement for 3 epochs. Best epoch was 3\n"
     ]
    },
    {
     "name": "stderr",
     "output_type": "stream",
     "text": [
      "Some weights of XLMRobertaForSequenceClassification were not initialized from the model checkpoint at xlm-roberta-base and are newly initialized: ['classifier.dense.bias', 'classifier.dense.weight', 'classifier.out_proj.bias', 'classifier.out_proj.weight']\n",
      "You should probably TRAIN this model on a down-stream task to be able to use it for predictions and inference.\n"
     ]
    },
    {
     "name": "stdout",
     "output_type": "stream",
     "text": [
      "\n",
      "=== Fold 4/5 ===\n",
      "Training samples: 516\n",
      "Validation samples: 129\n",
      "\n",
      "Epoch 1/8\n"
     ]
    },
    {
     "data": {
      "application/vnd.jupyter.widget-view+json": {
       "model_id": "bb0cf90b82b8415faeffa6cfa2b08c2b",
       "version_major": 2,
       "version_minor": 0
      },
      "text/plain": [
       "Training:   0%|          | 0/65 [00:00<?, ?it/s]"
      ]
     },
     "metadata": {},
     "output_type": "display_data"
    },
    {
     "name": "stdout",
     "output_type": "stream",
     "text": [
      "Training loss: 0.6928\n",
      "Validation results:\n"
     ]
    },
    {
     "data": {
      "application/vnd.jupyter.widget-view+json": {
       "model_id": "5b409331a9c24ab4a4fb62423efe041a",
       "version_major": 2,
       "version_minor": 0
      },
      "text/plain": [
       "Evaluating:   0%|          | 0/17 [00:00<?, ?it/s]"
      ]
     },
     "metadata": {},
     "output_type": "display_data"
    },
    {
     "name": "stdout",
     "output_type": "stream",
     "text": [
      "Validation Loss: 0.5481\n",
      "Accuracy: 0.5000\n",
      "Precision: 0.0000\n",
      "Recall: 0.0000\n",
      "F1 Score: 0.0000\n",
      "True labels distribution: {np.int64(0): np.int64(85), np.int64(1): np.int64(44)}\n",
      "Predicted labels distribution: {np.int64(0): np.int64(129)}\n",
      "\n",
      "Epoch 2/8\n"
     ]
    },
    {
     "data": {
      "application/vnd.jupyter.widget-view+json": {
       "model_id": "fccda84336b14d94b47b83f0f5d2ec08",
       "version_major": 2,
       "version_minor": 0
      },
      "text/plain": [
       "Training:   0%|          | 0/65 [00:00<?, ?it/s]"
      ]
     },
     "metadata": {},
     "output_type": "display_data"
    },
    {
     "name": "stdout",
     "output_type": "stream",
     "text": [
      "Training loss: 0.6167\n",
      "Validation results:\n"
     ]
    },
    {
     "data": {
      "application/vnd.jupyter.widget-view+json": {
       "model_id": "5e04fc3e3dbe458e9ac674fef406eabe",
       "version_major": 2,
       "version_minor": 0
      },
      "text/plain": [
       "Evaluating:   0%|          | 0/17 [00:00<?, ?it/s]"
      ]
     },
     "metadata": {},
     "output_type": "display_data"
    },
    {
     "name": "stdout",
     "output_type": "stream",
     "text": [
      "Validation Loss: 0.5087\n",
      "Accuracy: 0.6074\n",
      "Precision: 0.7857\n",
      "Recall: 0.2500\n",
      "F1 Score: 0.3793\n",
      "True labels distribution: {np.int64(0): np.int64(85), np.int64(1): np.int64(44)}\n",
      "Predicted labels distribution: {np.int64(0): np.int64(115), np.int64(1): np.int64(14)}\n",
      "\n",
      "Epoch 3/8\n"
     ]
    },
    {
     "data": {
      "application/vnd.jupyter.widget-view+json": {
       "model_id": "ed160b9843ee4eef8ccd596e9ab16f0f",
       "version_major": 2,
       "version_minor": 0
      },
      "text/plain": [
       "Training:   0%|          | 0/65 [00:00<?, ?it/s]"
      ]
     },
     "metadata": {},
     "output_type": "display_data"
    },
    {
     "name": "stdout",
     "output_type": "stream",
     "text": [
      "Training loss: 0.4887\n",
      "Validation results:\n"
     ]
    },
    {
     "data": {
      "application/vnd.jupyter.widget-view+json": {
       "model_id": "5e11c7d7ade2484bb4b9ba4d0fde6585",
       "version_major": 2,
       "version_minor": 0
      },
      "text/plain": [
       "Evaluating:   0%|          | 0/17 [00:00<?, ?it/s]"
      ]
     },
     "metadata": {},
     "output_type": "display_data"
    },
    {
     "name": "stdout",
     "output_type": "stream",
     "text": [
      "Validation Loss: 0.5050\n",
      "Accuracy: 0.6524\n",
      "Precision: 0.7619\n",
      "Recall: 0.3636\n",
      "F1 Score: 0.4923\n",
      "True labels distribution: {np.int64(0): np.int64(85), np.int64(1): np.int64(44)}\n",
      "Predicted labels distribution: {np.int64(0): np.int64(108), np.int64(1): np.int64(21)}\n",
      "\n",
      "Epoch 4/8\n"
     ]
    },
    {
     "data": {
      "application/vnd.jupyter.widget-view+json": {
       "model_id": "b728bf3d08aa40af895b7086373db4bd",
       "version_major": 2,
       "version_minor": 0
      },
      "text/plain": [
       "Training:   0%|          | 0/65 [00:00<?, ?it/s]"
      ]
     },
     "metadata": {},
     "output_type": "display_data"
    },
    {
     "name": "stdout",
     "output_type": "stream",
     "text": [
      "Training loss: 0.3971\n",
      "Validation results:\n"
     ]
    },
    {
     "data": {
      "application/vnd.jupyter.widget-view+json": {
       "model_id": "19567919fbc4485fbdf5e0ad39b3a37c",
       "version_major": 2,
       "version_minor": 0
      },
      "text/plain": [
       "Evaluating:   0%|          | 0/17 [00:00<?, ?it/s]"
      ]
     },
     "metadata": {},
     "output_type": "display_data"
    },
    {
     "name": "stdout",
     "output_type": "stream",
     "text": [
      "Validation Loss: 0.6159\n",
      "Accuracy: 0.6924\n",
      "Precision: 0.8261\n",
      "Recall: 0.4318\n",
      "F1 Score: 0.5672\n",
      "True labels distribution: {np.int64(0): np.int64(85), np.int64(1): np.int64(44)}\n",
      "Predicted labels distribution: {np.int64(0): np.int64(106), np.int64(1): np.int64(23)}\n",
      "Early stopping triggered! No improvement for 3 epochs. Best epoch was 4\n"
     ]
    },
    {
     "name": "stderr",
     "output_type": "stream",
     "text": [
      "Some weights of XLMRobertaForSequenceClassification were not initialized from the model checkpoint at xlm-roberta-base and are newly initialized: ['classifier.dense.bias', 'classifier.dense.weight', 'classifier.out_proj.bias', 'classifier.out_proj.weight']\n",
      "You should probably TRAIN this model on a down-stream task to be able to use it for predictions and inference.\n"
     ]
    },
    {
     "name": "stdout",
     "output_type": "stream",
     "text": [
      "\n",
      "=== Fold 5/5 ===\n",
      "Training samples: 516\n",
      "Validation samples: 129\n",
      "\n",
      "Epoch 1/8\n"
     ]
    },
    {
     "data": {
      "application/vnd.jupyter.widget-view+json": {
       "model_id": "206fe8bd787f4362ad9c36413615f6ce",
       "version_major": 2,
       "version_minor": 0
      },
      "text/plain": [
       "Training:   0%|          | 0/65 [00:00<?, ?it/s]"
      ]
     },
     "metadata": {},
     "output_type": "display_data"
    },
    {
     "name": "stdout",
     "output_type": "stream",
     "text": [
      "Training loss: 0.7181\n",
      "Validation results:\n"
     ]
    },
    {
     "data": {
      "application/vnd.jupyter.widget-view+json": {
       "model_id": "0b9dbbeadc754f1e99bea120c24c852d",
       "version_major": 2,
       "version_minor": 0
      },
      "text/plain": [
       "Evaluating:   0%|          | 0/17 [00:00<?, ?it/s]"
      ]
     },
     "metadata": {},
     "output_type": "display_data"
    },
    {
     "name": "stdout",
     "output_type": "stream",
     "text": [
      "Validation Loss: 0.6402\n",
      "Accuracy: 0.5000\n",
      "Precision: 0.0000\n",
      "Recall: 0.0000\n",
      "F1 Score: 0.0000\n",
      "True labels distribution: {np.int64(0): np.int64(81), np.int64(1): np.int64(48)}\n",
      "Predicted labels distribution: {np.int64(0): np.int64(129)}\n",
      "\n",
      "Epoch 2/8\n"
     ]
    },
    {
     "data": {
      "application/vnd.jupyter.widget-view+json": {
       "model_id": "7f59624615da41e6a8d174d92abe50e7",
       "version_major": 2,
       "version_minor": 0
      },
      "text/plain": [
       "Training:   0%|          | 0/65 [00:00<?, ?it/s]"
      ]
     },
     "metadata": {},
     "output_type": "display_data"
    },
    {
     "name": "stdout",
     "output_type": "stream",
     "text": [
      "Training loss: 0.6940\n",
      "Validation results:\n"
     ]
    },
    {
     "data": {
      "application/vnd.jupyter.widget-view+json": {
       "model_id": "8527dc9d9f314815bfec5232f0c2ab06",
       "version_major": 2,
       "version_minor": 0
      },
      "text/plain": [
       "Evaluating:   0%|          | 0/17 [00:00<?, ?it/s]"
      ]
     },
     "metadata": {},
     "output_type": "display_data"
    },
    {
     "name": "stdout",
     "output_type": "stream",
     "text": [
      "Validation Loss: 0.6917\n",
      "Accuracy: 0.6570\n",
      "Precision: 0.5000\n",
      "Recall: 0.7708\n",
      "F1 Score: 0.6066\n",
      "True labels distribution: {np.int64(0): np.int64(81), np.int64(1): np.int64(48)}\n",
      "Predicted labels distribution: {np.int64(0): np.int64(55), np.int64(1): np.int64(74)}\n",
      "\n",
      "Epoch 3/8\n"
     ]
    },
    {
     "data": {
      "application/vnd.jupyter.widget-view+json": {
       "model_id": "f270a36712d34ad7a9b375c7a8f8c7ad",
       "version_major": 2,
       "version_minor": 0
      },
      "text/plain": [
       "Training:   0%|          | 0/65 [00:00<?, ?it/s]"
      ]
     },
     "metadata": {},
     "output_type": "display_data"
    },
    {
     "name": "stdout",
     "output_type": "stream",
     "text": [
      "Training loss: 0.6658\n",
      "Validation results:\n"
     ]
    },
    {
     "data": {
      "application/vnd.jupyter.widget-view+json": {
       "model_id": "507433b8948946feb465a8e185d9d296",
       "version_major": 2,
       "version_minor": 0
      },
      "text/plain": [
       "Evaluating:   0%|          | 0/17 [00:00<?, ?it/s]"
      ]
     },
     "metadata": {},
     "output_type": "display_data"
    },
    {
     "name": "stdout",
     "output_type": "stream",
     "text": [
      "Validation Loss: 0.6768\n",
      "Accuracy: 0.5000\n",
      "Precision: 0.0000\n",
      "Recall: 0.0000\n",
      "F1 Score: 0.0000\n",
      "True labels distribution: {np.int64(0): np.int64(81), np.int64(1): np.int64(48)}\n",
      "Predicted labels distribution: {np.int64(0): np.int64(129)}\n",
      "\n",
      "Epoch 4/8\n"
     ]
    },
    {
     "data": {
      "application/vnd.jupyter.widget-view+json": {
       "model_id": "19c81c1bee2e4d5dbd4831352057685a",
       "version_major": 2,
       "version_minor": 0
      },
      "text/plain": [
       "Training:   0%|          | 0/65 [00:00<?, ?it/s]"
      ]
     },
     "metadata": {},
     "output_type": "display_data"
    },
    {
     "name": "stdout",
     "output_type": "stream",
     "text": [
      "Training loss: 0.6324\n",
      "Validation results:\n"
     ]
    },
    {
     "data": {
      "application/vnd.jupyter.widget-view+json": {
       "model_id": "b48bc60f915d40e386608c0d1b21089a",
       "version_major": 2,
       "version_minor": 0
      },
      "text/plain": [
       "Evaluating:   0%|          | 0/17 [00:00<?, ?it/s]"
      ]
     },
     "metadata": {},
     "output_type": "display_data"
    },
    {
     "name": "stdout",
     "output_type": "stream",
     "text": [
      "Validation Loss: 0.5226\n",
      "Accuracy: 0.5000\n",
      "Precision: 0.0000\n",
      "Recall: 0.0000\n",
      "F1 Score: 0.0000\n",
      "True labels distribution: {np.int64(0): np.int64(81), np.int64(1): np.int64(48)}\n",
      "Predicted labels distribution: {np.int64(0): np.int64(129)}\n",
      "Early stopping triggered! No improvement for 3 epochs. Best epoch was 2\n"
     ]
    }
   ],
   "source": [
    "n_splits = 5\n",
    "kf = KFold(n_splits=n_splits, shuffle=True, random_state=0)\n",
    "\n",
    "BATCH_SIZE = 8\n",
    "EPOCHS = 8\n",
    "LEARNING_RATE = 2e-5\n",
    "PATIENCE = 3\n",
    "\n",
    "fold_results = []\n",
    "\n",
    "for fold, (train_idx, val_idx) in enumerate(kf.split(X)):\n",
    "    print(f\"\\n=== Fold {fold+1}/{n_splits} ===\")\n",
    "    \n",
    "    X_train_fold, X_val_fold = X.iloc[train_idx], X.iloc[val_idx]\n",
    "    y_train_fold, y_val_fold = y.iloc[train_idx], y.iloc[val_idx]\n",
    "    \n",
    "    print(f\"Training samples: {len(X_train_fold)}\")\n",
    "    print(f\"Validation samples: {len(X_val_fold)}\")\n",
    "    \n",
    "    train_dataset = HyperpartisanDataset(X_train_fold, y_train_fold, tokenizer)\n",
    "    val_dataset = HyperpartisanDataset(X_val_fold, y_val_fold, tokenizer)\n",
    "    \n",
    "    train_loader = DataLoader(train_dataset, batch_size=BATCH_SIZE, shuffle=True)\n",
    "    val_loader = DataLoader(val_dataset, batch_size=BATCH_SIZE)\n",
    "    \n",
    "    model = XLMRobertaForSequenceClassification.from_pretrained(\n",
    "        model_name,\n",
    "        config=config,\n",
    "    ).to(device)\n",
    "    \n",
    "    \n",
    "    optimizer = AdamW(model.parameters(), lr=LEARNING_RATE)\n",
    "    total_steps = len(train_loader) * EPOCHS\n",
    "    scheduler = get_linear_schedule_with_warmup(\n",
    "        optimizer,\n",
    "        num_warmup_steps=0,\n",
    "        num_training_steps=total_steps\n",
    "    )\n",
    "\n",
    "    val_accuracies = []\n",
    "    best_model_state = None\n",
    "    best_epoch = 0\n",
    "    \n",
    "    for epoch in range(EPOCHS):\n",
    "        print(f\"\\nEpoch {epoch+1}/{EPOCHS}\")\n",
    "        \n",
    "        train_loss = train_epoch(model, train_loader, optimizer, scheduler, device)\n",
    "        print(f\"Training loss: {train_loss:.4f}\")\n",
    "        \n",
    "        print(\"Validation results:\")\n",
    "        val_results = evaluate(model, val_loader, device)\n",
    "        val_accuracies.append(val_results['balanced_accuracy'])\n",
    "\n",
    "        if val_results['balanced_accuracy'] == max(val_accuracies):\n",
    "            best_model_state = model.state_dict().copy()\n",
    "            best_epoch = epoch\n",
    "    \n",
    "        # Check for early stopping\n",
    "        stop_training, _ = early_stopping(val_accuracies, patience=PATIENCE)\n",
    "        if stop_training:\n",
    "            print(f\"Early stopping triggered! No improvement for 3 epochs. Best epoch was {best_epoch+1}\")\n",
    "            break\n",
    "    \n",
    "    fold_results.append(val_results)\n",
    "    \n",
    "    model.save_pretrained(f\"../models/xlm_roberta_fold_{fold+1}\")\n",
    "    \n",
    "    del model\n",
    "    torch.cuda.empty_cache()"
   ]
  },
  {
   "cell_type": "markdown",
   "metadata": {},
   "source": [
    "## Let's analyze the cross-validation results:"
   ]
  },
  {
   "cell_type": "code",
   "execution_count": 7,
   "metadata": {},
   "outputs": [
    {
     "name": "stdout",
     "output_type": "stream",
     "text": [
      "\n",
      "Cross-validation summary:\n",
      "Balanced accuracy: 0.7132 ± 0.1142\n",
      "Precision: 0.6383 ± 0.3234\n",
      "Recall: 0.5083 ± 0.2780\n",
      "F1 Score: 0.5573 ± 0.2874\n"
     ]
    },
    {
     "data": {
      "image/png": "[encoded data removed]",
      "text/plain": [
       "<Figure size 1000x600 with 1 Axes>"
      ]
     },
     "metadata": {},
     "output_type": "display_data"
    }
   ],
   "source": [
    "# Analyze cross-validation results\n",
    "accuracies = [result['balanced_accuracy'] for result in fold_results]\n",
    "precisions = [result['precision'] for result in fold_results]\n",
    "recalls = [result['recall'] for result in fold_results]\n",
    "f1_scores = [result['f1'] for result in fold_results]\n",
    "\n",
    "print(\"\\nCross-validation summary:\")\n",
    "print(f\"Balanced accuracy: {np.mean(accuracies):.4f} ± {np.std(accuracies):.4f}\")\n",
    "print(f\"Precision: {np.mean(precisions):.4f} ± {np.std(precisions):.4f}\")\n",
    "print(f\"Recall: {np.mean(recalls):.4f} ± {np.std(recalls):.4f}\")\n",
    "print(f\"F1 Score: {np.mean(f1_scores):.4f} ± {np.std(f1_scores):.4f}\")\n",
    "\n",
    "# Visualize metrics across folds\n",
    "plt.figure(figsize=(10, 6))\n",
    "fold_nums = list(range(1, n_splits + 1))\n",
    "plt.plot(fold_nums, accuracies, 'o-', label='Balanced accuracy')\n",
    "plt.plot(fold_nums, precisions, 'o-', label='Precision')\n",
    "plt.plot(fold_nums, recalls, 'o-', label='Recall')\n",
    "plt.plot(fold_nums, f1_scores, 'o-', label='F1 Score')\n",
    "plt.xlabel('Fold')\n",
    "plt.ylabel('Score')\n",
    "plt.title('Model Performance Across Folds')\n",
    "plt.legend()\n",
    "plt.grid(True)\n",
    "plt.show()"
   ]
  },
  {
   "cell_type": "markdown",
   "metadata": {},
   "source": [
    "## Now let's train our final model on the original train/test split:"
   ]
  },
  {
   "cell_type": "code",
   "execution_count": 8,
   "metadata": {},
   "outputs": [
    {
     "name": "stderr",
     "output_type": "stream",
     "text": [
      "Some weights of XLMRobertaForSequenceClassification were not initialized from the model checkpoint at xlm-roberta-base and are newly initialized: ['classifier.dense.bias', 'classifier.dense.weight', 'classifier.out_proj.bias', 'classifier.out_proj.weight']\n",
      "You should probably TRAIN this model on a down-stream task to be able to use it for predictions and inference.\n"
     ]
    },
    {
     "name": "stdout",
     "output_type": "stream",
     "text": [
      "\n",
      "Training final model...\n",
      "\n",
      "Epoch 1/8\n"
     ]
    },
    {
     "data": {
      "application/vnd.jupyter.widget-view+json": {
       "model_id": "51da70b3e5d648ed8f08dbf63407ef41",
       "version_major": 2,
       "version_minor": 0
      },
      "text/plain": [
       "Training:   0%|          | 0/65 [00:00<?, ?it/s]"
      ]
     },
     "metadata": {},
     "output_type": "display_data"
    },
    {
     "name": "stdout",
     "output_type": "stream",
     "text": [
      "Training loss: 0.6865\n",
      "\n",
      "Epoch 2/8\n"
     ]
    },
    {
     "data": {
      "application/vnd.jupyter.widget-view+json": {
       "model_id": "9ce508209e624e06b8afa4856b0ec3d1",
       "version_major": 2,
       "version_minor": 0
      },
      "text/plain": [
       "Training:   0%|          | 0/65 [00:00<?, ?it/s]"
      ]
     },
     "metadata": {},
     "output_type": "display_data"
    },
    {
     "name": "stdout",
     "output_type": "stream",
     "text": [
      "Training loss: 0.6383\n",
      "\n",
      "Epoch 3/8\n"
     ]
    },
    {
     "data": {
      "application/vnd.jupyter.widget-view+json": {
       "model_id": "70a6e3a7b2934cc1b0ba08666801a22c",
       "version_major": 2,
       "version_minor": 0
      },
      "text/plain": [
       "Training:   0%|          | 0/65 [00:00<?, ?it/s]"
      ]
     },
     "metadata": {},
     "output_type": "display_data"
    },
    {
     "name": "stdout",
     "output_type": "stream",
     "text": [
      "Training loss: 0.5831\n",
      "\n",
      "Epoch 4/8\n"
     ]
    },
    {
     "data": {
      "application/vnd.jupyter.widget-view+json": {
       "model_id": "4111a02e06484c38b66be140c5fbe13a",
       "version_major": 2,
       "version_minor": 0
      },
      "text/plain": [
       "Training:   0%|          | 0/65 [00:00<?, ?it/s]"
      ]
     },
     "metadata": {},
     "output_type": "display_data"
    },
    {
     "name": "stdout",
     "output_type": "stream",
     "text": [
      "Training loss: 0.5977\n",
      "\n",
      "Epoch 5/8\n"
     ]
    },
    {
     "data": {
      "application/vnd.jupyter.widget-view+json": {
       "model_id": "9b14edc27a064173bfcde6d08f6bc5fd",
       "version_major": 2,
       "version_minor": 0
      },
      "text/plain": [
       "Training:   0%|          | 0/65 [00:00<?, ?it/s]"
      ]
     },
     "metadata": {},
     "output_type": "display_data"
    },
    {
     "name": "stdout",
     "output_type": "stream",
     "text": [
      "Training loss: 0.4522\n",
      "\n",
      "Epoch 6/8\n"
     ]
    },
    {
     "data": {
      "application/vnd.jupyter.widget-view+json": {
       "model_id": "603dbf7961b5481f9fbed23671a953b1",
       "version_major": 2,
       "version_minor": 0
      },
      "text/plain": [
       "Training:   0%|          | 0/65 [00:00<?, ?it/s]"
      ]
     },
     "metadata": {},
     "output_type": "display_data"
    },
    {
     "name": "stdout",
     "output_type": "stream",
     "text": [
      "Training loss: 0.3500\n",
      "\n",
      "Epoch 7/8\n"
     ]
    },
    {
     "data": {
      "application/vnd.jupyter.widget-view+json": {
       "model_id": "dc8840e8a5ba48489edf5d0a672b2cef",
       "version_major": 2,
       "version_minor": 0
      },
      "text/plain": [
       "Training:   0%|          | 0/65 [00:00<?, ?it/s]"
      ]
     },
     "metadata": {},
     "output_type": "display_data"
    },
    {
     "name": "stdout",
     "output_type": "stream",
     "text": [
      "Training loss: 0.3036\n",
      "\n",
      "Epoch 8/8\n"
     ]
    },
    {
     "data": {
      "application/vnd.jupyter.widget-view+json": {
       "model_id": "e24172f0bedb4b8d8566981d278dc8da",
       "version_major": 2,
       "version_minor": 0
      },
      "text/plain": [
       "Training:   0%|          | 0/65 [00:00<?, ?it/s]"
      ]
     },
     "metadata": {},
     "output_type": "display_data"
    },
    {
     "name": "stdout",
     "output_type": "stream",
     "text": [
      "Training loss: 0.2139\n",
      "\n",
      "Test set evaluation:\n"
     ]
    },
    {
     "data": {
      "application/vnd.jupyter.widget-view+json": {
       "model_id": "901433219aa0470e84f9478eb37b66fc",
       "version_major": 2,
       "version_minor": 0
      },
      "text/plain": [
       "Evaluating:   0%|          | 0/17 [00:00<?, ?it/s]"
      ]
     },
     "metadata": {},
     "output_type": "display_data"
    },
    {
     "name": "stdout",
     "output_type": "stream",
     "text": [
      "Validation Loss: 0.5926\n",
      "Accuracy: 0.7716\n",
      "Precision: 0.7619\n",
      "Recall: 0.6667\n",
      "F1 Score: 0.7111\n",
      "True labels distribution: {np.int64(0): np.int64(81), np.int64(1): np.int64(48)}\n",
      "Predicted labels distribution: {np.int64(0): np.int64(87), np.int64(1): np.int64(42)}\n"
     ]
    }
   ],
   "source": [
    "X_train, X_test, y_train, y_test = split(X, y)\n",
    "\n",
    "train_dataset = HyperpartisanDataset(X_train, y_train, tokenizer)\n",
    "test_dataset = HyperpartisanDataset(X_test, y_test, tokenizer)\n",
    "\n",
    "train_loader = DataLoader(train_dataset, batch_size=BATCH_SIZE, shuffle=True)\n",
    "test_loader = DataLoader(test_dataset, batch_size=BATCH_SIZE)\n",
    "\n",
    "final_model = XLMRobertaForSequenceClassification.from_pretrained(\n",
    "    model_name,\n",
    "    num_labels=2\n",
    ").to(device)\n",
    "\n",
    "# Prepare optimizer and scheduler\n",
    "optimizer = AdamW(final_model.parameters(), lr=LEARNING_RATE)\n",
    "total_steps = len(train_loader) * EPOCHS\n",
    "scheduler = get_linear_schedule_with_warmup(\n",
    "    optimizer,\n",
    "    num_warmup_steps=0,\n",
    "    num_training_steps=total_steps\n",
    ")\n",
    "\n",
    "# Training loop\n",
    "print(\"\\nTraining final model...\")\n",
    "for epoch in range(EPOCHS):\n",
    "    print(f\"\\nEpoch {epoch+1}/{EPOCHS}\")\n",
    "    \n",
    "    # Train\n",
    "    train_loss = train_epoch(final_model, train_loader, optimizer, scheduler, device)\n",
    "    print(f\"Training loss: {train_loss:.4f}\")\n",
    "\n",
    "# Save the final model\n",
    "final_model.save_pretrained(\"../models/xlm_roberta_final\")\n",
    "tokenizer.save_pretrained(\"../models/xlm_roberta_final\")\n",
    "\n",
    "# Evaluate on test set\n",
    "print(\"\\nTest set evaluation:\")\n",
    "test_results = evaluate(final_model, test_loader, device)"
   ]
  },
  {
   "cell_type": "markdown",
   "metadata": {},
   "source": [
    "## Let's look at the most challenging examples - the ones where our model made mistakes:"
   ]
  },
  {
   "cell_type": "code",
   "execution_count": 9,
   "metadata": {},
   "outputs": [
    {
     "name": "stdout",
     "output_type": "stream",
     "text": [
      "\n",
      "Total errors: 26 out of 129 samples (20.16%)\n",
      "\n",
      "Error 1:\n",
      "Predicted: not hyperpartisan\n",
      "Actual: hyperpartisan\n",
      "Text snippet: Juanita Broaddrick: Trump Apologized; Where's Bill and Hillary's Apologies? Prior to Sunday's presidential debate, four women who have accused the Clintons of wrongdoing, including allegations of sexual deviancy, spoke at a press availability with Republican Donald Trump. Observers said Trump meant to contrast his vulgar leaked 2005 audiotape with the allegations from the women about their mistreatment at the hands of the Clintons. \"It's so important...when people are talking about... the words ...\n",
      "\n",
      "Error 2:\n",
      "Predicted: hyperpartisan\n",
      "Actual: not hyperpartisan\n",
      "Text snippet: Do Not Resist (NR). Do Not Resist is an order to the viewer: Watch. Videos in newsfeeds depicting the murder of black men by police open automatically without warning on our screens all the time, forcing another wave of trauma for some black folks and other people of color. This film changes the perspective, offering on-the-ground footage of protests, police-academy training and interviews with people involved in both. Why does our society so often discount the stories of black people who face d...\n",
      "\n",
      "Error 3:\n",
      "Predicted: hyperpartisan\n",
      "Actual: not hyperpartisan\n",
      "Text snippet: Corey Taylor - America 51 review. Corey Taylor doesn’t like Donald Trump. In fact, that’s probably something of an understatement, the President being dubbed ‘the Cheeto’ throughout America 51. But on the other hand, Corey doesn’t like the two-party system of American politics at all, which he makes abundantly clear at the beginning of his fourth book. One thing The Great Big Mouth loves, however, is his country – the United States Of America. In his typical stream-of-consciousness style, often ...\n",
      "\n",
      "Error 4:\n",
      "Predicted: not hyperpartisan\n",
      "Actual: hyperpartisan\n",
      "Text snippet: Hillary Clinton’s niece is voting for Donald Trump. Hillary Clinton’s niece is turning her back on her “selfish” aunt — to endorse Donald Trump for president. “I support Donald Trump 100 percent,” Macy Smit, the daughter of Bill Clinton’s half-brother Roger Clinton, declared to RadarOnline. “I have been a Democrat my entire life, but Trump is what we need right now — somebody who is going to stand up for us. I think at this point Hillary just wants it for the history books — to be the first woma...\n",
      "\n",
      "Error 5:\n",
      "Predicted: not hyperpartisan\n",
      "Actual: hyperpartisan\n",
      "Text snippet: Hiding Something? Obama Refuses To Host Hard-Copy Docs In Presidential Library. Well, this is odd. Former President Obama has chosen not to host hard-copy versions of his manuscripts and letters in his presidential library. Is the former Commander-in-Chief hiding something? The move has “historians scratching their heads.” Fox News report: The Obama Foundation is taking an unconventional approach to the presidential center and library being planned in Chicago. It’s opting to host a digital archi...\n"
     ]
    }
   ],
   "source": [
    "# Analyze errors\n",
    "test_true_labels = test_results['true_labels']\n",
    "test_predictions = test_results['predictions']\n",
    "\n",
    "errors = [(i, pred, true) for i, (pred, true) in \n",
    "          enumerate(zip(test_predictions, test_true_labels)) if pred != true]\n",
    "\n",
    "print(f\"\\nTotal errors: {len(errors)} out of {len(test_predictions)} samples ({len(errors)/len(test_predictions)*100:.2f}%)\")\n",
    "\n",
    "# Examine a few errors\n",
    "for i, (idx, pred, true) in enumerate(errors[:5]):\n",
    "    actual_idx = X_test.index[idx]  # Get the original index in the dataset\n",
    "    text = X_test.iloc[idx][:500] + \"...\"  # Show first 500 chars\n",
    "    \n",
    "    print(f\"\\nError {i+1}:\")\n",
    "    print(f\"Predicted: {'hyperpartisan' if pred == 1 else 'not hyperpartisan'}\")\n",
    "    print(f\"Actual: {'hyperpartisan' if true == 1 else 'not hyperpartisan'}\")\n",
    "    print(f\"Text snippet: {text}\")"
   ]
  },
  {
   "cell_type": "markdown",
   "metadata": {},
   "source": [
    "## Finally, let's implement a simple prediction function for new articles:"
   ]
  },
  {
   "cell_type": "code",
   "execution_count": 10,
   "metadata": {},
   "outputs": [
    {
     "name": "stdout",
     "output_type": "stream",
     "text": [
      "\n",
      "Sample 1:\n",
      "Prediction: hyperpartisan\n",
      "Confidence: 0.9888\n",
      "\n",
      "Sample 2:\n",
      "Prediction: hyperpartisan\n",
      "Confidence: 0.7443\n",
      "\n",
      "Sample 3:\n",
      "Prediction: not hyperpartisan\n",
      "Confidence: 0.9397\n"
     ]
    }
   ],
   "source": [
    "def predict_hyperpartisan(text, model, tokenizer, device, max_length=512):\n",
    "    model.eval()\n",
    "    \n",
    "    encoding = tokenizer(\n",
    "        text,\n",
    "        add_special_tokens=True,\n",
    "        max_length=max_length,\n",
    "        truncation=True,\n",
    "        padding='max_length',\n",
    "        return_attention_mask=True,\n",
    "        return_tensors='pt'\n",
    "    )\n",
    "    \n",
    "    input_ids = encoding['input_ids'].to(device)\n",
    "    attention_mask = encoding['attention_mask'].to(device)\n",
    "    \n",
    "    with torch.no_grad():\n",
    "        outputs = model(input_ids=input_ids, attention_mask=attention_mask)\n",
    "        _, prediction = torch.max(outputs.logits, dim=1)\n",
    "    \n",
    "    result = prediction.item()\n",
    "    confidence = torch.softmax(outputs.logits, dim=1)[0][result].item()\n",
    "    \n",
    "    return {\n",
    "        'prediction': 'hyperpartisan' if result == 1 else 'not hyperpartisan',\n",
    "        'confidence': confidence,\n",
    "        'label': result\n",
    "    }\n",
    "\n",
    "# Test with a couple of examples\n",
    "sample_texts = [\n",
    "    X_test.iloc[0],  # Test with a real example\n",
    "    \"This article proves that the President is the worst in history and a complete disaster for America.\",  # Likely hyperpartisan\n",
    "    \"The Senate voted yesterday on the new healthcare bill, with 45 votes for and 55 against.\"  # Likely not hyperpartisan\n",
    "]\n",
    "\n",
    "for i, text in enumerate(sample_texts):\n",
    "    result = predict_hyperpartisan(text, final_model, tokenizer, device)\n",
    "    print(f\"\\nSample {i+1}:\")\n",
    "    print(f\"Prediction: {result['prediction']}\")\n",
    "    print(f\"Confidence: {result['confidence']:.4f}\")"
   ]
  }
 ],
 "metadata": {
  "kernelspec": {
   "display_name": ".venv",
   "language": "python",
   "name": "python3"
  },
  "language_info": {
   "codemirror_mode": {
    "name": "ipython",
    "version": 3
   },
   "file_extension": ".py",
   "mimetype": "text/x-python",
   "name": "python",
   "nbconvert_exporter": "python",
   "pygments_lexer": "ipython3",
   "version": "3.12.2"
  }
 },
 "nbformat": 4,
 "nbformat_minor": 2
}
