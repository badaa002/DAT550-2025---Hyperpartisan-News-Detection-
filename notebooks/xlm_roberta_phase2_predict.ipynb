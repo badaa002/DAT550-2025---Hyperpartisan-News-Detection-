{
 "cells": [
  {
   "cell_type": "code",
   "execution_count": 1,
   "id": "b50969a3",
   "metadata": {},
   "outputs": [
    {
     "name": "stderr",
     "output_type": "stream",
     "text": [
      "2025-04-25 12:25:12.455920: I tensorflow/core/util/port.cc:153] oneDNN custom operations are on. You may see slightly different numerical results due to floating-point round-off errors from different computation orders. To turn them off, set the environment variable `TF_ENABLE_ONEDNN_OPTS=0`.\n",
      "2025-04-25 12:25:12.466261: E external/local_xla/xla/stream_executor/cuda/cuda_fft.cc:467] Unable to register cuFFT factory: Attempting to register factory for plugin cuFFT when one has already been registered\n",
      "WARNING: All log messages before absl::InitializeLog() is called are written to STDERR\n",
      "E0000 00:00:1745576712.478276    3977 cuda_dnn.cc:8579] Unable to register cuDNN factory: Attempting to register factory for plugin cuDNN when one has already been registered\n",
      "E0000 00:00:1745576712.481738    3977 cuda_blas.cc:1407] Unable to register cuBLAS factory: Attempting to register factory for plugin cuBLAS when one has already been registered\n",
      "W0000 00:00:1745576712.491600    3977 computation_placer.cc:177] computation placer already registered. Please check linkage and avoid linking the same target more than once.\n",
      "W0000 00:00:1745576712.491616    3977 computation_placer.cc:177] computation placer already registered. Please check linkage and avoid linking the same target more than once.\n",
      "W0000 00:00:1745576712.491617    3977 computation_placer.cc:177] computation placer already registered. Please check linkage and avoid linking the same target more than once.\n",
      "W0000 00:00:1745576712.491619    3977 computation_placer.cc:177] computation placer already registered. Please check linkage and avoid linking the same target more than once.\n",
      "2025-04-25 12:25:12.494804: I tensorflow/core/platform/cpu_feature_guard.cc:210] This TensorFlow binary is optimized to use available CPU instructions in performance-critical operations.\n",
      "To enable the following instructions: AVX2 AVX512F AVX512_VNNI AVX512_BF16 FMA, in other operations, rebuild TensorFlow with the appropriate compiler flags.\n"
     ]
    }
   ],
   "source": [
    "import sys\n",
    "import os\n",
    "import json\n",
    "import numpy as np\n",
    "from tqdm.auto import tqdm \n",
    "import torch\n",
    "\n",
    "sys.path.append(os.path.abspath(os.path.join(os.getcwd(), \"..\")))\n",
    "from src.utils import load_cleaned_data, load_config, metrics, plot_confusion_matrix\n",
    "from src.weighted_ensemble_predict import weighted_ensemble_predict\n",
    "\n",
    "from transformers import (\n",
    "    XLMRobertaTokenizerFast,\n",
    "    XLMRobertaForSequenceClassification,\n",
    "    set_seed,\n",
    ")"
   ]
  },
  {
   "cell_type": "code",
   "execution_count": 2,
   "id": "46632b3a",
   "metadata": {},
   "outputs": [
    {
     "name": "stdout",
     "output_type": "stream",
     "text": [
      "Using device: cuda\n",
      "Tokenizer xlm-roberta-base loaded.\n"
     ]
    }
   ],
   "source": [
    "RUN_ID_TO_LOAD = \"run_20250414_134417\"\n",
    "CONFIG_PATH = \"../cfg/xlm_roberta.json\"\n",
    "\n",
    "config = load_config(CONFIG_PATH)\n",
    "\n",
    "set_seed(config[\"seed\"])\n",
    "torch.backends.cudnn.deterministic = True\n",
    "\n",
    "device = torch.device(\"cuda\" if torch.cuda.is_available() else \"cpu\")\n",
    "#device = torch.device(\"cpu\")\n",
    "print(f\"Using device: {device}\")\n",
    "if device == torch.device(\"cuda\"): torch.cuda.empty_cache()\n",
    "\n",
    "model_name = config[\"model\"][\"base_model\"]\n",
    "tokenizer = XLMRobertaTokenizerFast.from_pretrained(model_name)\n",
    "print(f\"Tokenizer {model_name} loaded.\")\n",
    "\n",
    "model_base_path = config[\"training\"][\"output_dir\"]\n",
    "run_output_dir = os.path.join(model_base_path, RUN_ID_TO_LOAD)\n",
    "metrics_path = os.path.join(run_output_dir, \"fold_metrics.json\")\n",
    "checkpoint_dir = os.path.join(run_output_dir, \"fold_checkpoint_paths.json\")\n",
    "n_splits = config[\"cross_validation\"][\"n_splits\"]"
   ]
  },
  {
   "cell_type": "code",
   "execution_count": 3,
   "id": "13cbd9c3",
   "metadata": {},
   "outputs": [
    {
     "name": "stdout",
     "output_type": "stream",
     "text": [
      "Loaded metrics for 5 folds from ../models/run_20250414_134417/fold_metrics.json\n",
      "Loaded checkpoints for 5 folds from ../models/run_20250414_134417/fold_checkpoint_paths.json\n",
      "Fold F1 scores: [0.8222222222222222, 0.7741935483870968, 0.8, 0.7045454545454546, 0.7956989247311828]\n",
      "\n",
      "Loading 5 fold models...\n",
      "Loaded model for fold 0.\n",
      "Loaded model for fold 1.\n",
      "Loaded model for fold 2.\n",
      "Loaded model for fold 3.\n",
      "Loaded model for fold 4.\n"
     ]
    }
   ],
   "source": [
    "with open(metrics_path, \"r\") as f:\n",
    "    fold_results = json.load(f)\n",
    "\n",
    "with open(checkpoint_dir, \"r\") as f:\n",
    "    fold_checkpoints = json.load(f)\n",
    "\n",
    "metric_key = f\"eval_{config[\"training\"][\"metric_for_best_model\"]}\"\n",
    "fold_f1_scores = [result[metric_key] for result in fold_results]\n",
    "print(f\"Loaded metrics for {len(fold_f1_scores)} folds from {metrics_path}\")\n",
    "print(f\"Loaded checkpoints for {len(fold_results)} folds from {checkpoint_dir}\")\n",
    "print(f\"Fold F1 scores: {fold_f1_scores}\")\n",
    "\n",
    "fold_models = []\n",
    "print(f\"\\nLoading {n_splits} fold models...\")\n",
    "for fold in range(0, n_splits):\n",
    "    model_path = fold_checkpoints[fold]\n",
    "    model = XLMRobertaForSequenceClassification.from_pretrained(model_path)\n",
    "    model.to(device)\n",
    "    model.eval()  # Set to evaluation mode\n",
    "    fold_models.append(model)\n",
    "    print(f\"Loaded model for fold {fold}.\")\n",
    "\n",
    "assert len(fold_models) == n_splits, f\"Expected {n_splits} models, but found {len(fold_models)}\"\n",
    "assert len(fold_f1_scores) == n_splits, f\"Expected {n_splits} metric scores, but found {len(fold_f1_scores)}\""
   ]
  },
  {
   "cell_type": "code",
   "execution_count": 4,
   "id": "962655ff",
   "metadata": {},
   "outputs": [
    {
     "name": "stdout",
     "output_type": "stream",
     "text": [
      "Columns in test data: ['id', 'title', 'body', 'full_text', 'label', 'domain', 'uppercase_ratio', 'exclamation_count', 'avg_sentence_length']\n",
      "Loaded bypublisher data: 4000 samples.\n"
     ]
    }
   ],
   "source": [
    "test_data = load_cleaned_data(config[\"data\"][\"bypublisher_test_data_path\"])\n",
    "print(\"Columns in test data:\", test_data.columns.tolist())\n",
    "X_test = test_data[\"full_text\"]\n",
    "y_test = test_data[\"label\"]\n",
    "print(f\"Loaded bypublisher data: {len(X_test)} samples.\")"
   ]
  },
  {
   "cell_type": "code",
   "execution_count": 5,
   "id": "7345bd25",
   "metadata": {},
   "outputs": [
    {
     "name": "stdout",
     "output_type": "stream",
     "text": [
      "\n",
      "Starting ensemble predictions on test data...\n"
     ]
    },
    {
     "data": {
      "application/vnd.jupyter.widget-view+json": {
       "model_id": "3094392ad4534b7eb8f3e9aad1b2948d",
       "version_major": 2,
       "version_minor": 0
      },
      "text/plain": [
       "Predicting:   0%|          | 0/4000 [00:00<?, ?it/s]"
      ]
     },
     "metadata": {},
     "output_type": "display_data"
    },
    {
     "name": "stdout",
     "output_type": "stream",
     "text": [
      "Ensemble predictions finished.\n"
     ]
    }
   ],
   "source": [
    "y_pred = []\n",
    "y_pred_proba = []\n",
    "\n",
    "print(\"\\nStarting ensemble predictions on test data...\")\n",
    "for text in tqdm(X_test, desc=\"Predicting\"): \n",
    "    inputs = tokenizer(\n",
    "        text,\n",
    "        max_length=config[\"data\"][\"max_length\"],\n",
    "        truncation=config[\"tokenizer\"][\"truncation\"],\n",
    "        padding=config[\"tokenizer\"][\"padding\"], \n",
    "        add_special_tokens=config[\"tokenizer\"][\"add_special_tokens\"],\n",
    "        return_tensors=config[\"tokenizer\"][\"return_tensors\"]\n",
    "    ).to(device)\n",
    "    \n",
    "    weighted_probs = weighted_ensemble_predict(inputs, fold_models, fold_f1_scores, device)\n",
    "    \n",
    "    pred_label = torch.argmax(weighted_probs, dim=1).item()\n",
    "    confidence = weighted_probs[0][1].item() \n",
    "    \n",
    "    y_pred.append(pred_label)\n",
    "    y_pred_proba.append(confidence)\n",
    "\n",
    "y_pred = np.array(y_pred)\n",
    "y_pred_proba = np.array(y_pred_proba)\n",
    "print(\"Ensemble predictions finished.\")"
   ]
  },
  {
   "cell_type": "code",
   "execution_count": 6,
   "id": "67b232a7",
   "metadata": {},
   "outputs": [
    {
     "name": "stdout",
     "output_type": "stream",
     "text": [
      "Predictions shape: (4000,)\n",
      "Predictions probabilities shape: (4000,)\n",
      "Test labels shape: (4000,)\n"
     ]
    }
   ],
   "source": [
    "print(f\"Predictions shape: {y_pred.shape}\")\n",
    "print(f\"Predictions probabilities shape: {y_pred_proba.shape}\")\n",
    "print(f\"Test labels shape: {y_test.shape}\")\n",
    "np.save(f\"../results/predictions/by_publisher_{config[\"model\"][\"base_model\"]}_predictions.npy\", y_pred)\n",
    "np.save(f\"../results/predictions/by_publisher_{config[\"model\"][\"base_model\"]}_predictions_proba.npy\", y_pred_proba)\n",
    "np.save(f\"../results/predictions/by_publisher_{config[\"model\"][\"base_model\"]}_test_labels.npy\", y_test)"
   ]
  }
 ],
 "metadata": {
  "kernelspec": {
   "display_name": ".venv",
   "language": "python",
   "name": "python3"
  },
  "language_info": {
   "codemirror_mode": {
    "name": "ipython",
    "version": 3
   },
   "file_extension": ".py",
   "mimetype": "text/x-python",
   "name": "python",
   "nbconvert_exporter": "python",
   "pygments_lexer": "ipython3",
   "version": "3.12.2"
  }
 },
 "nbformat": 4,
 "nbformat_minor": 5
}
